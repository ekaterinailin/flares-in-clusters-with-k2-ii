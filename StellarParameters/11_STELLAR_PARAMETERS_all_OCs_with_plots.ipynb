{
 "cells": [
  {
   "cell_type": "markdown",
   "metadata": {},
   "source": [
    "# Determine all stellar properties, i.e. Teff, R, L from photometry, empirical relations and spectra\n",
    "## Create plots for paper and tables for analysis and AltaiPony input list"
   ]
  },
  {
   "cell_type": "code",
   "execution_count": 44,
   "metadata": {},
   "outputs": [],
   "source": [
    "from copy import copy\n",
    "\n",
    "import numpy as np\n",
    "import pandas as pd\n",
    "\n",
    "import specmatchemp.library\n",
    "\n",
    "from opencluster.lum import remove_outlier_Teffs, read_Kepler_response\n",
    "from opencluster.opencluster import OpenCluster\n",
    "\n",
    "from opencluster.paperplots import (import_matplotlib_style,\n",
    "                                    plot_interconnected_subplots,\n",
    "                                    MARKERS_LIST,\n",
    "                                    CB_COLOR_CYCLE)\n",
    "\n",
    "from gaia.gaia import calculate_distance_from_parallax\n",
    "\n",
    "import matplotlib.pyplot as plt\n",
    "%matplotlib inline\n",
    "import_matplotlib_style()\n",
    "\n",
    "from matplotlib import rcParams\n",
    "rcParams[\"errorbar.capsize\"] = .0\n",
    "\n",
    "import time\n",
    "tstamp = time.strftime(\"%d_%m_%Y_%H_%M\", time.localtime())"
   ]
  },
  {
   "cell_type": "markdown",
   "metadata": {},
   "source": [
    "## Define all the plot functions"
   ]
  },
  {
   "cell_type": "code",
   "execution_count": 56,
   "metadata": {},
   "outputs": [],
   "source": [
    "def plot_Teff_spread(df, figsize=(9,7), outdir=\"plots/\", kpmax=9.):\n",
    "    \n",
    "    # define a DataFrame with Teffs only\n",
    "    df = df[((df[\"KEP Mag\"].isnull()) | (df[\"KEP Mag\"] > kpmax))] # do not plot above saturation level\n",
    "    cols = df.columns.str.contains(\"Teff_\")\n",
    "    colvals = df.columns.values[df.columns.str.startswith(\"Teff_\")]\n",
    "    Teffs = df.loc[:,cols]\n",
    "    Teffs[\"Teff_median\"] = df.Teff_median\n",
    "    \n",
    "    # set layout and labels\n",
    "    markers = copy(MARKERS_LIST)\n",
    "    colors = copy(CB_COLOR_CYCLE)\n",
    "    cdict = dict(zip(list(\"grizy\"),[i + \"_SDSS\" for i in list(\"grizy\")]))\n",
    "    c2 = dict(zip(list(\"JHK\"),[i + \"_2MASS\" for i in list(\"JHK\")]))\n",
    "    c3 = dict(zip([\"BP\",\"RP\"],[i + \"_Gaia_corr\" for i in [\"BPRP\",\"BPRP\"]]))\n",
    "    cdict.update(c2)\n",
    "    cdict.update(c3)\n",
    "    \n",
    "    # create a DataFrame with colors and Teffs to plot\n",
    "    i=0\n",
    "    xs, ys, xr, yr = [], [], [], []\n",
    "    dd = pd.DataFrame()\n",
    "    for c in colvals[0:-2]:\n",
    "        if ~(Teffs[c].isnull().all()):\n",
    "            cl = \" - \".join(c.split(\"_\")[1:])\n",
    "            if \"Mann\" in cl:\n",
    "                col1, col2 = c.split(\"_\")[2:4]\n",
    "                col1, col2 = cdict[col1],cdict[col2]\n",
    "                if col1==col2:\n",
    "                    x = df[col1]\n",
    "                    cl = \"BP - RP (Mann)\"\n",
    "                    xerr = df[\"e_\" + col1]\n",
    "                else:\n",
    "                    \n",
    "                    x= df[col1]-df[col2]\n",
    "                    xerr = np.sqrt(df[\"e_\" + col1]**2 + df[\"e_\" + col2]**2)\n",
    "            elif (\"StarHorse\" in cl) or (\"Apsis\" in cl):\n",
    "                exten = cl.split(\"_\")[-1]\n",
    "                cl = \"BP - RP ({})\".format(exten)\n",
    "                x = df.BP_Gaia - df.RP_Gaia\n",
    "                xerr = np.sqrt(df.e_BP_Gaia**2 + df.e_RP_Gaia**2)\n",
    "            else:\n",
    "                col1, col2 = c.split(\"_\")[1:3]\n",
    "                col1, col2 = cdict[col1],cdict[col2]\n",
    "                x= df[col1]-df[col2]\n",
    "                xerr = np.sqrt(df[\"e_\" + col1]**2 + df[\"e_\" + col2]**2)\n",
    "            \n",
    "            cl = cl.replace(\"Mann - \", \"\")\n",
    "            cl = cl.replace(\"- Boy\", \"\")\n",
    "            cl = cl.replace(\" - FeH\", \"\")\n",
    "            for j in range(5):\n",
    "                cl = cl.replace(\" - {}\".format(j),\" ({})\".format(j))\n",
    "            dd[cl] = x\n",
    "            dd[\"e_\" + cl] = xerr\n",
    "            dd[\"y\"+str(i)] = Teffs[c]\n",
    "            dd[\"e_y\"+str(i)] = Teffs[\"e_\" + c]\n",
    "            xs.append(cl)\n",
    "            ys.append(\"y\" + str(i))\n",
    "            xr.append(\"e_\" + cl) \n",
    "            yr.append(\"e_y\"+str(i))\n",
    "            i +=1\n",
    "            \n",
    "    #plot the thing\n",
    "    fig, axes = plot_interconnected_subplots(dd,xs,ys,err=True,\n",
    "                                             xerr=xr,yerr=yr,\n",
    "                                             width=2.5, height=6,alpha=.05)\n",
    "    axes[0].set_ylabel(r\"$T_\\mathrm{eff}$ [K]\")\n",
    "    for i, ax in enumerate(axes):\n",
    "        ax.set_xlabel(xs[i])\n",
    "    plt.subplots_adjust(wspace=0.05, left=0.05, right=0.95)\n",
    "    plt.savefig(\"{}_Teff_spread_all.png\".format(outdir), dpi=300)    \n",
    "    \n",
    "    \n",
    "def plot_Teff_R(df, figsize=(9,7), outdir=\"plots/\", title=\"\"):\n",
    "    plt.figure(figsize=figsize)\n",
    "    plt.errorbar(x=df.Teff_median,xerr=df.Teff_std,c=\"k\",\n",
    "                     y=df.Rstar, yerr=df.e_Rstar, fmt=\"o\", markersize=1, linewidth=.2)\n",
    "    plt.title(title)\n",
    "    plt.xlim(7000, 2700)\n",
    "    plt.ylim(.1,1.7)\n",
    "    plt.xlabel(r\"$T_{\\mathrm{eff}}$ [K]\")\n",
    "    plt.ylabel(r\"$R_* / R_{\\odot}$\")\n",
    "    plt.savefig(\"{}_Teff_R.png\".format(outdir), dpi=300)"
   ]
  },
  {
   "cell_type": "markdown",
   "metadata": {},
   "source": [
    "## Now loop over each cluster and save some plots and tables"
   ]
  },
  {
   "cell_type": "code",
   "execution_count": 3,
   "metadata": {},
   "outputs": [
    {
     "name": "stdout",
     "output_type": "stream",
     "text": [
      "Reading library from /home/ekaterina/.specmatchemp/library.h5\n"
     ]
    }
   ],
   "source": [
    "# First, read some ancillary data\n",
    "Kp = read_Kepler_response()\n",
    "lib = specmatchemp.library.read_hdf(wavlim=[Kp.wav.min(),Kp.wav.max()]) #takes a little while"
   ]
  },
  {
   "cell_type": "markdown",
   "metadata": {},
   "source": [
    "# Cluster luminosities and other properties"
   ]
  },
  {
   "cell_type": "code",
   "execution_count": 50,
   "metadata": {},
   "outputs": [],
   "source": [
    "path = \"../FlareAnalysisPipeline/opencluster/clusters\"\n",
    "params = pd.read_csv(f'{path}/cluster_parameters_merged.csv')\n",
    " "
   ]
  },
  {
   "cell_type": "code",
   "execution_count": 65,
   "metadata": {
    "scrolled": true
   },
   "outputs": [
    {
     "name": "stdout",
     "output_type": "stream",
     "text": [
      "761 761\n",
      "set()\n",
      "171 171\n",
      "set()\n",
      "964 964\n",
      "set()\n",
      "53 53\n",
      "set()\n",
      "307 307\n",
      "set()\n"
     ]
    }
   ],
   "source": [
    "clusters = [\"pleiades\", \"hyades\", \"praesepe\", \"ngc6774\", \"ngc2682\"]\n",
    "cl = pd.read_csv('{}/cluster_parameters_merged.csv'.format(path))\n",
    "for cluster in clusters:\n",
    "    \n",
    "\n",
    "    \n",
    "    #Save stellar parameters, all of them!\n",
    "    \n",
    "    flares = pd.read_csv(\"../k2scoc/results/tables/full_table.csv\")\n",
    "    hasflares = (flares.real==1) & (flares.todrop.isnull())\n",
    "    wassearched = (flares.real==0) & (flares.todrop.isnull())\n",
    "    excluded = (flares.real==-1) & (flares.todrop.isnull())\n",
    "    flares = flares[hasflares  | wassearched ]\n",
    "    df = pd.read_csv(f'luminosities/{cluster}_luminosities.csv')\n",
    "    s =  flares.loc[flares.cluster==cluster,[\"EPIC\",]].drop_duplicates()\n",
    "    searched = s.shape[0]\n",
    "    altai = df.loc[(~df.Teff_median.isnull()) & (df.todrop.isnull()) &\n",
    "                         ((df[\"KEP Mag\"].isnull()) | (df[\"KEP Mag\"] > 9.)) &\n",
    "                         (df[\"Teff_median\"] < 7000.),\n",
    "                         :].drop_duplicates(subset=[\"EPIC\",\"Campaign\"])#['EPIC', 'Channel', 'Campaign'] #.fillna(0).astype(int)\n",
    "    altai = altai.loc[(altai.EPIC<3e8) & (altai.EPIC>1e8),:]\n",
    "    altai = altai.merge(s[[\"EPIC\"]], how=\"right\", on=\"EPIC\")\n",
    "    print(altai.EPIC.shape[0],searched)\n",
    "    print(set(altai.EPIC)-set(s.EPIC))\n",
    "    altai.to_csv(f\"luminosities/{cluster}_luminosities_in_final_flare_tables.csv\",index=False)\n",
    "#     plot_Teff_spread(altai, outdir=f\"plots/{tstamp}_{cluster}\")\n",
    "#     plot_Teff_R(altai, outdir=f\"plots/{tstamp}_{cluster}\",\n",
    "#                 title=params[params.cluster==cluster].h_cluster.iloc[0])\n"
   ]
  },
  {
   "cell_type": "code",
   "execution_count": null,
   "metadata": {
    "scrolled": true
   },
   "outputs": [],
   "source": [
    "clusters = [\"pleiades\", \"hyades\", \"praesepe\", \"ngc6774\", \"ngc2168\", \"ngc2682\"]\n",
    "cl = pd.read_csv('{}/cluster_parameters_merged.csv'.format(path))\n",
    "for cluster in clusters[4:]:\n",
    "    #Read in the cluster parameters\n",
    "    \n",
    "    r = cl[cl.cluster == cluster].iloc[0]\n",
    "    print(r)\n",
    "    # Init an OpenCluster\n",
    "\n",
    "    stellar_parameters = pd.read_csv('cmd/cmd_flagged/{}_cmd.csv'.format(r.cluster))\n",
    "    OC = OpenCluster(cluster=r.cluster, h_cluster=r.h_cluster, age=r[\"age (Myr)\"],\n",
    "                         u_age_high=r.u_age_high, u_age_low=r.u_age_low,\n",
    "                         stars=stellar_parameters, feh=r.FeH, u_feh=r.u_feh,\n",
    "                         distance=r[\"dist (pc)\"], prep=False)\n",
    "\n",
    "    # Throw out stars that are obviously foreground object\n",
    "    dft = OC.stars.loc[:,OC.stars.columns.str.contains(\"Gaia\")].rename(columns = lambda x : str(x)[:-5])\n",
    "    dft = calculate_distance_from_parallax(dft, check_GoF=False)\n",
    "    OC.stars = OC.stars[dft.distance > 0.5 * OC.distance]\n",
    "    \n",
    "    if cluster == \"ngc2682\":\n",
    "        OC.stars[\"RAJ2000__Gaia\"] = OC.stars['ra_epoch2000_Gaia'].values  \n",
    "        OC.stars[\"DEJ2000__Gaia\"] = OC.stars['dec_epoch2000_Gaia'].values\n",
    "\n",
    "    OC.determine_Teff()\n",
    "\n",
    "    # Find R_*:\n",
    "\n",
    "    OC.find_Rstar(lib)\n",
    "\n",
    "    # Find SED:\n",
    "\n",
    "    h = OC.find_SED(lib)\n",
    "\n",
    "    # Calculate the luminosities:\n",
    "\n",
    "    OC.calculate_luminosities()\n",
    "    \n",
    "    # plot all the things:\n",
    "    \n",
    "    plot_Teff_spread(OC.stars)\n",
    "    plot_Teff_R(OC.stars)\n",
    "    \n",
    "    #Save stellar parameters, all of them!\n",
    "    OC.stars.to_csv('luminosities/{}_luminosities.csv'.format(r.cluster), index=False)\n",
    "\n",
    "    #However, minimum requirement to be included into the AltaiPony list is to have a Teff value assigned.\n",
    "    # This Teff values must correspond to a star with SpT > F4 and not be saturated in the Kepler detector\n",
    "    altai = OC.stars.loc[(~OC.stars.Teff_median.isnull()) &\n",
    "                         ((OC.stars[\"KEP Mag\"].isnull()) | (OC.stars[\"KEP Mag\"] > 9.)) &\n",
    "                         (OC.stars[\"Teff_median\"] < 7000.),\n",
    "                         ['EPIC', 'Channel', 'Campaign']].fillna(0).astype(int).drop_duplicates()\n",
    "    altai.to_csv('altai/{}_altai.csv'.format(r.cluster), index=False)"
   ]
  },
  {
   "cell_type": "code",
   "execution_count": null,
   "metadata": {},
   "outputs": [],
   "source": []
  }
 ],
 "metadata": {
  "kernelspec": {
   "display_name": "forallpurposes",
   "language": "python",
   "name": "forallpurposes"
  },
  "language_info": {
   "codemirror_mode": {
    "name": "ipython",
    "version": 3
   },
   "file_extension": ".py",
   "mimetype": "text/x-python",
   "name": "python",
   "nbconvert_exporter": "python",
   "pygments_lexer": "ipython3",
   "version": "3.6.9"
  }
 },
 "nbformat": 4,
 "nbformat_minor": 1
}
