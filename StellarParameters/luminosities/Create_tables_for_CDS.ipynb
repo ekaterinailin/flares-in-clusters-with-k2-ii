{
 "cells": [
  {
   "cell_type": "code",
   "execution_count": 1,
   "metadata": {},
   "outputs": [],
   "source": [
    "import pandas as pd\n",
    "import numpy as np"
   ]
  },
  {
   "cell_type": "code",
   "execution_count": 31,
   "metadata": {},
   "outputs": [],
   "source": [
    "cluster = \"pleiades\""
   ]
  },
  {
   "cell_type": "code",
   "execution_count": 32,
   "metadata": {},
   "outputs": [],
   "source": [
    "df = pd.read_csv(f\"{cluster}_luminosities.csv\")"
   ]
  },
  {
   "cell_type": "code",
   "execution_count": 33,
   "metadata": {},
   "outputs": [],
   "source": [
    "extra_campaigns = {\"ngc2682\": 5, \"ngc2168\": 0}"
   ]
  },
  {
   "cell_type": "code",
   "execution_count": 34,
   "metadata": {},
   "outputs": [
    {
     "data": {
      "text/plain": [
       "array(['Unnamed: 0', 'EPIC', 'todrop', 'Dataset Name', 'Campaign',\n",
       "       'Data Release', 'RAJ2000_K2', 'DEJ2000_K2', 'Target Type', 'RA PM',\n",
       "       'RA PM Err', 'Dec PM', 'Dec PM Err', 'Plx', 'Plx Err', 'U Mag',\n",
       "       'U Mag Err', 'B Mag', 'B Mag Err', 'V Mag', 'V Mag Err', 'G Mag',\n",
       "       'G Mag Err', 'R Mag', 'R Mag Err', 'I Mag', 'I Mag Err', 'Z Mag',\n",
       "       'Z Mag Err', 'J Mag', 'J Mag Err', 'H Mag', 'H Mag Err', 'K Mag',\n",
       "       'K Mag Err', 'KEP Mag', 'Kep Flag', 'Hip ID', 'Tyc ID', 'SDSS ID',\n",
       "       'UCAC ID', '2MASS ID', '2MASS Flag', 'crowding', 'contamination',\n",
       "       'flux fraction', 'cdpp3', 'cdpp6', 'cdpp12', 'Module', 'Output',\n",
       "       'Channel', 'Nearest Neighbor', 'Nomad ID', 'dist_mean_K2_arcmin',\n",
       "       'RAJ2000_mean', 'DEJ2000_mean', 'RAJ2000_Olivares',\n",
       "       'DEJ2000_Olivares', 'PMem_Olivares', 'binary_Olivares',\n",
       "       'gaia_id_GaiaC', 'RAJ2000_GaiaC', 'DEJ2000_GaiaC', 'PMem_GaiaC',\n",
       "       'dist_Olivares_GaiaC', 'RAJ2000_Olivares_GaiaC',\n",
       "       'DEJ2000_Olivares_GaiaC', 'EPIC_id_Rebull', 'RAJ2000_Rebull',\n",
       "       'DEJ2000_Rebull', 'PMem_Rebull', 'dist_Olivares_GaiaC_Rebull',\n",
       "       'RAJ2000_Olivares_GaiaC_Rebull', 'DEJ2000_Olivares_GaiaC_Rebull',\n",
       "       'RAJ2000_CG', 'DEJ2000_CG', 'gaia_id_CG', 'PMem_CG',\n",
       "       'dist_Olivares_GaiaC_Rebull_CG', 'PMem_mean', 'ra_epoch2000_Gaia',\n",
       "       'dec_epoch2000_Gaia', 'errHalfMaj_Gaia', 'errHalfMin_Gaia',\n",
       "       'errPosAng_Gaia', 'source_id_Gaia', 'ra_Gaia', 'ra_error_Gaia',\n",
       "       'dec_Gaia', 'dec_error_Gaia', 'parallax_Gaia',\n",
       "       'parallax_error_Gaia', 'pmra_Gaia', 'pmra_error_Gaia',\n",
       "       'pmdec_Gaia', 'pmdec_error_Gaia', 'duplicated_source_Gaia',\n",
       "       'Gflux_Gaia', 'e_Gflux_Gaia', 'G_Gaia', 'BPflux_Gaia',\n",
       "       'e_BPflux_Gaia', 'BP_Gaia', 'RPflux_Gaia', 'e_RPflux_Gaia',\n",
       "       'RP_Gaia', 'BPRP_Gaia', 'radial_velocity_Gaia',\n",
       "       'radial_velocity_error_Gaia', 'rv_nb_transits_Gaia',\n",
       "       'teff_val_Gaia', 'a_g_val_Gaia', 'Ext_BPRP_Gaia',\n",
       "       'radius_val_Gaia', 'lum_val_Gaia', 'angDist_Gaia', '2MASS_2MASS',\n",
       "       'RAJ2000_2MASS', 'DEJ2000_2MASS', 'errHalfMaj_2MASS',\n",
       "       'errHalfMin_2MASS', 'errPosAng_2MASS', 'J_2MASS', 'H_2MASS',\n",
       "       'K_2MASS', 'e_J_2MASS', 'e_H_2MASS', 'e_K_2MASS', 'Qfl_2MASS',\n",
       "       'Rfl_2MASS', 'X_2MASS', 'MeasureJD_2MASS', 'angDist_2MASS',\n",
       "       'objID_PS1', 'RAJ2000_PS1', 'DEJ2000_PS1', 'errHalfMaj_PS1',\n",
       "       'errHalfMin_PS1', 'errPosAng_PS1', 'f_objID_PS1', 'Qual_PS1',\n",
       "       'Epoch_PS1', 'Ns_PS1', 'Nd_PS1', 'g_PS1', 'e_g_PS1', 'gFlags_PS1',\n",
       "       'r_PS1', 'e_r_PS1', 'rFlags_PS1', 'i_PS1', 'e_i_PS1', 'iFlags_PS1',\n",
       "       'z_PS1', 'e_z_PS1', 'zFlags_PS1', 'y_PS1', 'e_y_PS1', 'yFlags_PS1',\n",
       "       'angDist_PS1', 'elo_Ext_BPRP_Gaia', 'eup_Ext_BPRP_Gaia',\n",
       "       'Teff_StarHorse', 'e_Teff_StarHorse', 'e_G_Gaia', 'e_BP_Gaia',\n",
       "       'e_RP_Gaia', 'BPRP_Gaia_corr', 'e_BPRP_Gaia_corr', 'g_SDSS',\n",
       "       'e_g_SDSS', 'r_SDSS', 'e_r_SDSS', 'i_SDSS', 'e_i_SDSS', 'z_SDSS',\n",
       "       'e_z_SDSS', 'y_SDSS', 'e_y_SDSS', 'FeH', 'e_FeH', 'J_H_BB',\n",
       "       'e_J_H_BB', 'J_K_BB', 'e_J_K_BB', 'H_K_BB', 'e_H_K_BB', 'K_BB',\n",
       "       'e_K_BB', 'J_H_Johnson', 'e_J_H_Johnson', 'K_Johnson',\n",
       "       'e_K_Johnson', 'H_K_Johnson', 'e_H_K_Johnson', 'J_K_Johnson',\n",
       "       'e_J_K_Johnson', 'J_Johnson', 'H_Johnson', 'e_J_Johnson',\n",
       "       'e_H_Johnson', 'Teff_g_r_Boy', 'e_Teff_g_r_Boy', 'Teff_g_z_Boy',\n",
       "       'e_Teff_g_z_Boy', 'Teff_g_i_Boy', 'e_Teff_g_i_Boy', 'Teff_g_J_Boy',\n",
       "       'e_Teff_g_J_Boy', 'Teff_g_H_Boy', 'e_Teff_g_H_Boy', 'Teff_g_K_Boy',\n",
       "       'e_Teff_g_K_Boy', 'Teff_Apsis', 'e_Teff_Apsis',\n",
       "       'Teff_Mann_BP_RP_nan', 'e_Teff_Mann_BP_RP_nan',\n",
       "       'Teff_Mann_r_z_nan', 'e_Teff_Mann_r_z_nan', 'Teff_Mann_r_J_nan',\n",
       "       'e_Teff_Mann_r_J_nan', 'Teff_Mann_BP_RP_FeH',\n",
       "       'e_Teff_Mann_BP_RP_FeH', 'Teff_Mann_r_z_FeH',\n",
       "       'e_Teff_Mann_r_z_FeH', 'Teff_Mann_r_J_FeH', 'e_Teff_Mann_r_J_FeH',\n",
       "       'Teff_Mann_BP_RP_isJH', 'e_Teff_Mann_BP_RP_isJH',\n",
       "       'Teff_Mann_r_z_isJH', 'e_Teff_Mann_r_z_isJH', 'Teff_Mann_r_J_isJH',\n",
       "       'e_Teff_Mann_r_J_isJH', 'Teff_median', 'Teff_std', 'Rstar',\n",
       "       'e_Rstar', 'Rstar_double_check', 'e_Rstar_double_check',\n",
       "       'Rstar_consistent', 'SED_SME', 'e_SED_SME', 'w_SED_SME', 'SpT',\n",
       "       'SED_SJS', 'e_SED_SJS', 'w_SED_SJS', 'SED', 'e_SED', 'w_SED',\n",
       "       'spectrum', 'planck_curve', 'e_planck_curve', 'Lum_SED',\n",
       "       'e_Lum_SED', 'Lum_Kepler', 'e_Lum_Kepler', 'Lum_SB', 'e_Lum_SB'],\n",
       "      dtype=object)"
      ]
     },
     "execution_count": 34,
     "metadata": {},
     "output_type": "execute_result"
    }
   ],
   "source": [
    "df.columns.values\n"
   ]
  },
  {
   "cell_type": "code",
   "execution_count": 35,
   "metadata": {},
   "outputs": [
    {
     "data": {
      "text/html": [
       "<div>\n",
       "<style scoped>\n",
       "    .dataframe tbody tr th:only-of-type {\n",
       "        vertical-align: middle;\n",
       "    }\n",
       "\n",
       "    .dataframe tbody tr th {\n",
       "        vertical-align: top;\n",
       "    }\n",
       "\n",
       "    .dataframe thead th {\n",
       "        text-align: right;\n",
       "    }\n",
       "</style>\n",
       "<table border=\"1\" class=\"dataframe\">\n",
       "  <thead>\n",
       "    <tr style=\"text-align: right;\">\n",
       "      <th></th>\n",
       "      <th>EPIC</th>\n",
       "      <th>PMem_mean</th>\n",
       "    </tr>\n",
       "  </thead>\n",
       "  <tbody>\n",
       "    <tr>\n",
       "      <td>0</td>\n",
       "      <td>211091768.0</td>\n",
       "      <td>0.949999</td>\n",
       "    </tr>\n",
       "    <tr>\n",
       "      <td>1</td>\n",
       "      <td>211091768.0</td>\n",
       "      <td>0.949999</td>\n",
       "    </tr>\n",
       "    <tr>\n",
       "      <td>2</td>\n",
       "      <td>211008578.0</td>\n",
       "      <td>0.949998</td>\n",
       "    </tr>\n",
       "    <tr>\n",
       "      <td>3</td>\n",
       "      <td>211029232.0</td>\n",
       "      <td>0.949996</td>\n",
       "    </tr>\n",
       "    <tr>\n",
       "      <td>4</td>\n",
       "      <td>211029232.0</td>\n",
       "      <td>0.949996</td>\n",
       "    </tr>\n",
       "    <tr>\n",
       "      <td>...</td>\n",
       "      <td>...</td>\n",
       "      <td>...</td>\n",
       "    </tr>\n",
       "    <tr>\n",
       "      <td>900</td>\n",
       "      <td>211088007.0</td>\n",
       "      <td>0.900000</td>\n",
       "    </tr>\n",
       "    <tr>\n",
       "      <td>901</td>\n",
       "      <td>211088007.0</td>\n",
       "      <td>0.900000</td>\n",
       "    </tr>\n",
       "    <tr>\n",
       "      <td>902</td>\n",
       "      <td>211085527.0</td>\n",
       "      <td>0.900000</td>\n",
       "    </tr>\n",
       "    <tr>\n",
       "      <td>903</td>\n",
       "      <td>211040918.0</td>\n",
       "      <td>0.900000</td>\n",
       "    </tr>\n",
       "    <tr>\n",
       "      <td>904</td>\n",
       "      <td>211078780.0</td>\n",
       "      <td>1.000000</td>\n",
       "    </tr>\n",
       "  </tbody>\n",
       "</table>\n",
       "<p>905 rows × 2 columns</p>\n",
       "</div>"
      ],
      "text/plain": [
       "            EPIC  PMem_mean\n",
       "0    211091768.0   0.949999\n",
       "1    211091768.0   0.949999\n",
       "2    211008578.0   0.949998\n",
       "3    211029232.0   0.949996\n",
       "4    211029232.0   0.949996\n",
       "..           ...        ...\n",
       "900  211088007.0   0.900000\n",
       "901  211088007.0   0.900000\n",
       "902  211085527.0   0.900000\n",
       "903  211040918.0   0.900000\n",
       "904  211078780.0   1.000000\n",
       "\n",
       "[905 rows x 2 columns]"
      ]
     },
     "execution_count": 35,
     "metadata": {},
     "output_type": "execute_result"
    }
   ],
   "source": [
    "\n",
    "df[[\"EPIC\", \"PMem_mean\"]]"
   ]
  },
  {
   "cell_type": "code",
   "execution_count": 43,
   "metadata": {},
   "outputs": [],
   "source": [
    "df.EPIC = df.EPIC.astype(int)\n",
    "df.Rstar = np.round(df.Rstar,2)\n",
    "df.e_Rstar = np.round(df.e_Rstar,2).fillna(-999)\n",
    "df.PMem_mean = np.round(df.PMem_mean,2).fillna(-999)\n",
    "df.Lum_Kepler = df.Lum_Kepler.fillna(-999)\n",
    "df.e_Lum_Kepler = df.e_Lum_Kepler.fillna(-999)\n",
    "df.Campaign = np.rint(df.Campaign).fillna(extra_campaigns.setdefault(cluster, -999)).astype(int)\n",
    "df.Teff_median = np.rint(df.Teff_median).fillna(-999).astype(int)\n",
    "df.Teff_std = np.rint(df.Teff_std).fillna(-999).astype(int)\n",
    "df.todrop = df.todrop.fillna(\"\").str.replace(\"outlier\",\"\")\n",
    "dfr = df.rename(index=str, columns={\"EPIC\":\"ID\",\n",
    "                                   \"todrop\":\"outlier\",\n",
    "                                   \"Teff_median\":\"Teff\",\n",
    "                                   \"Teff_std\":\"e_Teff\",\n",
    "                                   \"Rstar\":\"R\",\n",
    "                                   \"e_Rstar\":\"e_R\",\n",
    "                                   \"PMem_mean\":\"pmem\",\n",
    "                                    \"RAJ2000_K2\":\"RAJ2000\",\n",
    "                                    \"DEJ2000_K2\":\"DEJ2000\",\n",
    "                                   })"
   ]
  },
  {
   "cell_type": "code",
   "execution_count": 46,
   "metadata": {},
   "outputs": [
    {
     "data": {
      "text/html": [
       "<div>\n",
       "<style scoped>\n",
       "    .dataframe tbody tr th:only-of-type {\n",
       "        vertical-align: middle;\n",
       "    }\n",
       "\n",
       "    .dataframe tbody tr th {\n",
       "        vertical-align: top;\n",
       "    }\n",
       "\n",
       "    .dataframe thead th {\n",
       "        text-align: right;\n",
       "    }\n",
       "</style>\n",
       "<table border=\"1\" class=\"dataframe\">\n",
       "  <thead>\n",
       "    <tr style=\"text-align: right;\">\n",
       "      <th></th>\n",
       "      <th>ID</th>\n",
       "      <th>outlier</th>\n",
       "      <th>Teff</th>\n",
       "      <th>e_Teff</th>\n",
       "      <th>R</th>\n",
       "      <th>e_R</th>\n",
       "      <th>Lum_Kepler</th>\n",
       "      <th>e_Lum_Kepler</th>\n",
       "      <th>pmem</th>\n",
       "      <th>Campaign</th>\n",
       "      <th>RAJ2000</th>\n",
       "      <th>DEJ2000</th>\n",
       "    </tr>\n",
       "  </thead>\n",
       "  <tbody>\n",
       "    <tr>\n",
       "      <td>155</td>\n",
       "      <td>211110493</td>\n",
       "      <td></td>\n",
       "      <td>-999</td>\n",
       "      <td>-999</td>\n",
       "      <td>NaN</td>\n",
       "      <td>-999.0</td>\n",
       "      <td>-999.0</td>\n",
       "      <td>-999.0</td>\n",
       "      <td>1.0</td>\n",
       "      <td>4</td>\n",
       "      <td>55.75068</td>\n",
       "      <td>24.731255</td>\n",
       "    </tr>\n",
       "  </tbody>\n",
       "</table>\n",
       "</div>"
      ],
      "text/plain": [
       "            ID outlier  Teff  e_Teff   R    e_R  Lum_Kepler  e_Lum_Kepler  \\\n",
       "155  211110493          -999    -999 NaN -999.0      -999.0        -999.0   \n",
       "\n",
       "     pmem  Campaign   RAJ2000    DEJ2000  \n",
       "155   1.0         4  55.75068  24.731255  "
      ]
     },
     "execution_count": 46,
     "metadata": {},
     "output_type": "execute_result"
    }
   ],
   "source": [
    "dfr[[\"ID\",\"outlier\", \"Teff\", \"e_Teff\",\n",
    "     \"R\", \"e_R\", \"Lum_Kepler\", \"e_Lum_Kepler\",\n",
    "     \"pmem\",\"Campaign\", \"RAJ2000\", \"DEJ2000\"]][dfr.ID == 211110493]"
   ]
  },
  {
   "cell_type": "code",
   "execution_count": null,
   "metadata": {},
   "outputs": [],
   "source": []
  }
 ],
 "metadata": {
  "kernelspec": {
   "display_name": "altaipony",
   "language": "python",
   "name": "altaipony"
  },
  "language_info": {
   "codemirror_mode": {
    "name": "ipython",
    "version": 3
   },
   "file_extension": ".py",
   "mimetype": "text/x-python",
   "name": "python",
   "nbconvert_exporter": "python",
   "pygments_lexer": "ipython3",
   "version": "3.6.5"
  }
 },
 "nbformat": 4,
 "nbformat_minor": 2
}
