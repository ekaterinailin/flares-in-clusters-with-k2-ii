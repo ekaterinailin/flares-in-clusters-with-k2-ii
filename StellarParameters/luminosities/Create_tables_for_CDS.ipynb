{
 "cells": [
  {
   "cell_type": "code",
   "execution_count": 1,
   "metadata": {},
   "outputs": [],
   "source": [
    "import pandas as pd\n",
    "import numpy as np"
   ]
  },
  {
   "cell_type": "code",
   "execution_count": 2,
   "metadata": {},
   "outputs": [],
   "source": [
    "clusters = [\"pleiades\", \"ngc2168\", \"praesepe\", \"hyades\", \"ngc6774\", \"ngc2682\"]"
   ]
  },
  {
   "cell_type": "code",
   "execution_count": 9,
   "metadata": {},
   "outputs": [
    {
     "name": "stderr",
     "output_type": "stream",
     "text": [
      "/work1/eilin/Flares_in_Clusters_2/Results/AltaiPony/altaipony/lib64/python3.6/site-packages/ipykernel_launcher.py:11: FutureWarning: Sorting because non-concatenation axis is not aligned. A future version\n",
      "of pandas will change to not sort by default.\n",
      "\n",
      "To accept the future behavior, pass 'sort=False'.\n",
      "\n",
      "To retain the current behavior and silence the warning, pass 'sort=True'.\n",
      "\n",
      "  # This is added back by InteractiveShellApp.init_path()\n"
     ]
    }
   ],
   "source": [
    "columns = [\"EPIC\",\"todrop\",\"Teff_median\", \"Teff_std\", \n",
    "           \"Lum_Kepler\", \"e_Lum_Kepler\", \"Campaign\",           \n",
    "           \"Rstar\", \"e_Rstar\", \"PMem_mean\", \"RAJ2000_K2\", \n",
    "           \"DEJ2000_K2\", \"cluster\"]\n",
    "dfs = pd.DataFrame(columns=columns)\n",
    "nrows = 0\n",
    "for cluster in clusters:\n",
    "    df = pd.read_csv(f\"{cluster}_luminosities.csv\",usecols=columns[:-1])\n",
    "    df[\"cluster\"] = cluster\n",
    "    nrows += df.shape[0]\n",
    "    dfs = pd.concat([dfs, df], ignore_index=True)\n",
    "    "
   ]
  },
  {
   "cell_type": "code",
   "execution_count": 10,
   "metadata": {},
   "outputs": [
    {
     "data": {
      "text/plain": [
       "(3608, 13)"
      ]
     },
     "execution_count": 10,
     "metadata": {},
     "output_type": "execute_result"
    }
   ],
   "source": [
    "assert dfs.shape[0] == nrows\n",
    "dfs.shape"
   ]
  },
  {
   "cell_type": "code",
   "execution_count": 11,
   "metadata": {},
   "outputs": [],
   "source": [
    "extra_campaigns = {\"ngc2682\": 5, \"ngc2168\": 0}"
   ]
  },
  {
   "cell_type": "code",
   "execution_count": 12,
   "metadata": {},
   "outputs": [],
   "source": [
    "dfs.EPIC = dfs.EPIC.astype(int)\n",
    "dfs.Rstar = np.round(dfs.Rstar,2).fillna(\"-999\")\n",
    "dfs.e_Rstar = np.round(dfs.e_Rstar,2).fillna(-999)\n",
    "dfs.PMem_mean = np.round(dfs.PMem_mean,2).fillna(-999)\n",
    "dfs.Lum_Kepler = dfs.Lum_Kepler.fillna(-999)\n",
    "dfs.e_Lum_Kepler = dfs.e_Lum_Kepler.fillna(-999)\n",
    "dfs.Campaign = np.rint(dfs.Campaign).fillna(extra_campaigns.setdefault(cluster, -999)).astype(int)\n",
    "dfs.Teff_median = np.rint(dfs.Teff_median).fillna(-999).astype(int)\n",
    "dfs.Teff_std = np.rint(dfs.Teff_std).fillna(-999).astype(int)\n",
    "dfs.todrop = dfs.todrop.fillna(\"-999\").str.replace(\" outlier,\",\";\")\n",
    "dfr = dfs.rename(index=str, columns={\"EPIC\":\"ID\",\n",
    "                                   \"todrop\":\"outlier\",\n",
    "                                   \"Teff_median\":\"Teff\",\n",
    "                                   \"Teff_std\":\"e_Teff\",\n",
    "                                   \"Rstar\":\"R\",\n",
    "                                   \"e_Rstar\":\"e_R\",\n",
    "                                   \"PMem_mean\":\"pmem\",\n",
    "                                    \"RAJ2000_K2\":\"RAJ2000\",\n",
    "                                    \"DEJ2000_K2\":\"DEJ2000\",\n",
    "                                   })"
   ]
  },
  {
   "cell_type": "code",
   "execution_count": 13,
   "metadata": {},
   "outputs": [],
   "source": [
    "dfr[[\"ID\",\"Campaign\", \"RAJ2000\", \"DEJ2000\", \n",
    "     \"pmem\", \"outlier\", \"Teff\", \"e_Teff\",\n",
    "     \"R\", \"e_R\", \"Lum_Kepler\", \"e_Lum_Kepler\",\n",
    "     ]].to_csv(\"../../CDS/stars.csv\", header=None, index=False)"
   ]
  },
  {
   "cell_type": "code",
   "execution_count": null,
   "metadata": {},
   "outputs": [],
   "source": []
  }
 ],
 "metadata": {
  "kernelspec": {
   "display_name": "altaipony",
   "language": "python",
   "name": "altaipony"
  },
  "language_info": {
   "codemirror_mode": {
    "name": "ipython",
    "version": 3
   },
   "file_extension": ".py",
   "mimetype": "text/x-python",
   "name": "python",
   "nbconvert_exporter": "python",
   "pygments_lexer": "ipython3",
   "version": "3.6.5"
  }
 },
 "nbformat": 4,
 "nbformat_minor": 2
}
