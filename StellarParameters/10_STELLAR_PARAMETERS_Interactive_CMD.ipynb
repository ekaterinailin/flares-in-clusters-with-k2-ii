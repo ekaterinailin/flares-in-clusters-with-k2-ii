{
 "cells": [
  {
   "cell_type": "code",
   "execution_count": 1,
   "metadata": {
    "collapsed": false
   },
   "outputs": [
   ],
   "source": [
    "import os\n",
    "\n",
    "import numpy as np\n",
    "import pandas as pd\n",
    "import matplotlib.pyplot as plt\n",
    "%matplotlib inline\n",
    "\n",
    "from opencluster.utils import prepare_and_validate_stars\n",
    "from opencluster.cmd import interactive_CMD\n"
   ]
  },
  {
   "cell_type": "markdown",
   "metadata": {
    "collapsed": false
   },
   "source": [
    "# How to use this:\n",
    "\n",
    "1. Choose the `C` variable to be one of the clusters. \n",
    "2. The code in the next cell will drop all targets without LCs, do the extinction correction, transformation of photometric systems, etc., i.e. all that is implemented in `utils.prepare_and_validate_stars`.\n",
    "2. Generate CMDs for all colors used in CTRs later\\*. Open the `.hmtl` file in a browser (Firefox and Chrome both may work).\n",
    "3. Select data points that fall off the MS most obviously.\n",
    "5. Click the _Save_ button and save to `cmd/outliers/<cluster>_<band1>_<band2>.txt`.\n",
    "6. Go back to the notebook and read in all outlier files, add the corresponding flags to the `todrop` column.\n",
    "7. Write out the resulting table to `cmd/cmd_flagged/<cluster>_cmd.csv`\n"
   ]
  },
  {
   "cell_type": "code",
   "execution_count": 0,
   "metadata": {
    "collapsed": false
   },
   "outputs": [
   ],
   "source": [
    "#Cycle through all cluster names here\n",
    "C = 'praesepe'"
   ]
  },
  {
   "cell_type": "code",
   "execution_count": 37,
   "metadata": {
    "collapsed": false,
    "scrolled": true
   },
   "outputs": [
   ],
   "source": [
    "\n",
    "if C!= \"hyades\":\n",
    "    \n",
    "    df = pd.read_csv('input/StarHorse_output/{}_topcat_w_extinction_percentiles.csv'.format(C))\n",
    "    if C in [\"pleiades\",\"praesepe\"]:\n",
    "        extinction = False\n",
    "    else:\n",
    "        extinction = True\n",
    "else:\n",
    "    df = pd.read_csv('input/StarHorse_output/hyades_topcat_w_extinction_percentiles.csv')\n",
    "    df['eup_Ext_BPRP_Gaia'] = np.nan\n",
    "    df['elo_Ext_BPRP_Gaia'] = np.nan\n",
    "    extinction = False\n",
    "    \n",
    "if C == 'ngc2682':\n",
    "    df = df[(~df[\"RAJ2000_N\"].isnull() | ~df[\"RAJ2000_K2\"].isnull())]\n",
    "    df.EPIC = df.EPIC.fillna(df.id_N).astype(int)\n",
    "elif C == 'ngc2168':\n",
    "    df = df[(~df[\"RAJ2000_SF\"].isnull() | ~df[\"RAJ2000_K2\"].isnull())]\n",
    "    df.EPIC = df.EPIC.fillna(df['2MASS_id_SF']).astype(int)\n",
    "else:\n",
    "    df = df[~df[\"RAJ2000_K2\"].isnull()]\n",
    "    \n",
    "df = prepare_and_validate_stars(df, extinction=extinction)"
   ]
  },
  {
   "cell_type": "code",
   "execution_count": 0,
   "metadata": {
    "collapsed": false
   },
   "outputs": [
   ],
   "source": [
    "colors = [('g_SDSS','J_2MASS'), ('BP_Gaia','RP_Gaia'), ('g_SDSS','z_SDSS'),\n",
    "                       ('g_SDSS','i_SDSS'), ('g_SDSS','H_2MASS'), ('g_SDSS','K_2MASS'),\n",
    "                       ('r_SDSS','z_SDSS'), ('r_SDSS','J_2MASS'),]"
   ]
  },
  {
   "cell_type": "code",
   "execution_count": 18,
   "metadata": {
    "collapsed": false
   },
   "outputs": [
   ],
   "source": [
    "interactive_CMD(df,cid1=colors[0][0],cid2=colors[0][1])"
   ]
  },
  {
   "cell_type": "code",
   "execution_count": 19,
   "metadata": {
    "collapsed": false
   },
   "outputs": [
   ],
   "source": [
    "interactive_CMD(df,cid1=colors[1][0],cid2=colors[1][1])"
   ]
  },
  {
   "cell_type": "code",
   "execution_count": 20,
   "metadata": {
    "collapsed": false
   },
   "outputs": [
   ],
   "source": [
    "interactive_CMD(df,cid1=colors[2][0],cid2=colors[2][1])"
   ]
  },
  {
   "cell_type": "code",
   "execution_count": 21,
   "metadata": {
    "collapsed": false
   },
   "outputs": [
   ],
   "source": [
    "interactive_CMD(df,cid1=colors[3][0],cid2=colors[3][1])"
   ]
  },
  {
   "cell_type": "code",
   "execution_count": 22,
   "metadata": {
    "collapsed": false
   },
   "outputs": [
   ],
   "source": [
    "interactive_CMD(df,cid1=colors[4][0],cid2=colors[4][1])"
   ]
  },
  {
   "cell_type": "code",
   "execution_count": 23,
   "metadata": {
    "collapsed": false
   },
   "outputs": [
   ],
   "source": [
    "interactive_CMD(df,cid1=colors[5][0],cid2=colors[5][1])"
   ]
  },
  {
   "cell_type": "code",
   "execution_count": 24,
   "metadata": {
    "collapsed": false
   },
   "outputs": [
   ],
   "source": [
    "interactive_CMD(df,cid1=colors[6][0],cid2=colors[6][1])"
   ]
  },
  {
   "cell_type": "code",
   "execution_count": 25,
   "metadata": {
    "collapsed": false
   },
   "outputs": [
   ],
   "source": [
    "interactive_CMD(df,cid1=colors[7][0],cid2=colors[7][1])"
   ]
  },
  {
   "cell_type": "markdown",
   "metadata": {
    "collapsed": false
   },
   "source": [
    "# Now collect all outliers and flag them"
   ]
  },
  {
   "cell_type": "code",
   "execution_count": 38,
   "metadata": {
    "collapsed": false,
    "scrolled": true
   },
   "outputs": [
   ],
   "source": [
    "for (i,j) in colors:\n",
    "    c1, c2 = i.split('_')[0],j.split('_')[0]\n",
    "    file = 'cmd/outliers/{}_{}_{}.txt'.format(C,c1,c2)\n",
    "    if os.stat(file).st_size != 0:\n",
    "        a = pd.read_csv(file,header=None,sep=' ').T.dropna(how='any')\n",
    "        a = a.rename(index=str, columns={0:'outlier'}).astype(int)\n",
    "        def add_flag(s):\n",
    "            cond = isinstance(s, str)\n",
    "            sadd = '{}-{} outlier'.format(c1,c2)\n",
    "            if cond:\n",
    "                print(s)\n",
    "                return '{}, {}'.format(s,sadd)\n",
    "            else:\n",
    "                print(sadd)\n",
    "                return sadd\n",
    "        df.loc[df.EPIC.isin(a.outlier),'todrop'] =  df.loc[df.EPIC.isin(a.outlier),'todrop'].map(add_flag)"
   ]
  },
  {
   "cell_type": "code",
   "execution_count": 39,
   "metadata": {
    "collapsed": false,
    "scrolled": true
   },
   "outputs": [
   ],
   "source": [
    "df.groupby(\"todrop\").todrop.count()"
   ]
  },
  {
   "cell_type": "code",
   "execution_count": 40,
   "metadata": {
    "collapsed": false
   },
   "outputs": [
   ],
   "source": [
    "df.to_csv('cmd/cmd_flagged/{}_cmd.csv'.format(C))"
   ]
  }
 ],
 "metadata": {
  "kernelspec": {
   "display_name": "Anaconda(Py3.5)",
   "language": "python",
   "name": "py35"
  },
  "language_info": {
   "codemirror_mode": {
    "name": "ipython",
    "version": 3
   },
   "file_extension": ".py",
   "mimetype": "text/x-python",
   "name": "python",
   "nbconvert_exporter": "python",
   "pygments_lexer": "ipython3",
   "version": "3.5.4"
  }
 },
 "nbformat": 4,
 "nbformat_minor": 0
}