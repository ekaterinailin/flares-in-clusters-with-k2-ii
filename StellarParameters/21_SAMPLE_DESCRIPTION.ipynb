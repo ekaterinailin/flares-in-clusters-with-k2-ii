{
 "cells": [
  {
   "cell_type": "code",
   "execution_count": 32,
   "metadata": {
    "collapsed": false
   },
   "outputs": [
   ],
   "source": [
    "import numpy as np\n",
    "import pandas as pd\n",
    "\n",
    "from opencluster.opencluster import TEFFBINS"
   ]
  },
  {
   "cell_type": "code",
   "execution_count": 33,
   "metadata": {
    "collapsed": false
   },
   "outputs": [
   ],
   "source": [
    "clusters = [\"pleiades\", \"hyades\", \"praesepe\", \"ngc6774\", \"ngc2168\", \"ngc2682\"]"
   ]
  },
  {
   "cell_type": "code",
   "execution_count": 34,
   "metadata": {
    "collapsed": false
   },
   "outputs": [
   ],
   "source": [
    "result_dict = dict()\n",
    "for C in clusters:\n",
    "    df = pd.read_csv(\"luminosities/{}_luminosities.csv\".format(C))\n",
    "    altai = pd.read_csv('altai/{}_altai.csv'.format(C))\n",
    "    result_dict[C] = dict()\n",
    "    result_dict[C][\"AltaiPony_TOTAL\"] = altai.shape[0]\n",
    "    result_dict[C][\"has_luminosity_TOTAL\"] = df.Lum_Kepler.count()\n",
    "    result_dict[C][\"has_Teff_TOTAL\"] = df.Teff_median.count()\n",
    "    for i, row in TEFFBINS.iterrows():\n",
    "        tmin, tmax = row.Teff_min, row.Teff_max\n",
    "        result_dict[C][\"has_Teff_{}-{}\".format(tmin,tmax)] = df[(df.Teff_median > tmin) & (df.Teff_median < tmax)].Teff_median.count()\n",
    "        result_dict[C][\"has_luminosity_{}-{}\".format(tmin,tmax)] = df[(df.Teff_median > tmin) & (df.Teff_median < tmax)].Lum_Kepler.count()"
   ]
  },
  {
   "cell_type": "code",
   "execution_count": 35,
   "metadata": {
    "collapsed": false
   },
   "outputs": [
    {
     "data": {
      "text/html": [
       "<div>\n",
       "<style scoped>\n",
       "    .dataframe tbody tr th:only-of-type {\n",
       "        vertical-align: middle;\n",
       "    }\n",
       "\n",
       "    .dataframe tbody tr th {\n",
       "        vertical-align: top;\n",
       "    }\n",
       "\n",
       "    .dataframe thead th {\n",
       "        text-align: right;\n",
       "    }\n",
       "</style>\n",
       "<table border=\"1\" class=\"dataframe\">\n",
       "  <thead>\n",
       "    <tr style=\"text-align: right;\">\n",
       "      <th></th>\n",
       "      <th>hyades</th>\n",
       "      <th>ngc2168</th>\n",
       "      <th>ngc2682</th>\n",
       "      <th>ngc6774</th>\n",
       "      <th>pleiades</th>\n",
       "      <th>praesepe</th>\n",
       "    </tr>\n",
       "  </thead>\n",
       "  <tbody>\n",
       "    <tr>\n",
       "      <th>AltaiPony_TOTAL</th>\n",
       "      <td>182</td>\n",
       "      <td>152</td>\n",
       "      <td>949</td>\n",
       "      <td>61</td>\n",
       "      <td>778</td>\n",
       "      <td>972</td>\n",
       "    </tr>\n",
       "    <tr>\n",
       "      <th>has_Teff_2500-3000</th>\n",
       "      <td>17</td>\n",
       "      <td>0</td>\n",
       "      <td>0</td>\n",
       "      <td>0</td>\n",
       "      <td>52</td>\n",
       "      <td>13</td>\n",
       "    </tr>\n",
       "    <tr>\n",
       "      <th>has_Teff_3000-3250</th>\n",
       "      <td>63</td>\n",
       "      <td>0</td>\n",
       "      <td>0</td>\n",
       "      <td>0</td>\n",
       "      <td>327</td>\n",
       "      <td>329</td>\n",
       "    </tr>\n",
       "    <tr>\n",
       "      <th>has_Teff_3250-3500</th>\n",
       "      <td>50</td>\n",
       "      <td>0</td>\n",
       "      <td>40</td>\n",
       "      <td>8</td>\n",
       "      <td>170</td>\n",
       "      <td>261</td>\n",
       "    </tr>\n",
       "    <tr>\n",
       "      <th>has_Teff_3500-3750</th>\n",
       "      <td>19</td>\n",
       "      <td>0</td>\n",
       "      <td>73</td>\n",
       "      <td>3</td>\n",
       "      <td>42</td>\n",
       "      <td>86</td>\n",
       "    </tr>\n",
       "    <tr>\n",
       "      <th>has_Teff_3750-4000</th>\n",
       "      <td>4</td>\n",
       "      <td>1</td>\n",
       "      <td>79</td>\n",
       "      <td>1</td>\n",
       "      <td>25</td>\n",
       "      <td>44</td>\n",
       "    </tr>\n",
       "    <tr>\n",
       "      <th>has_Teff_4000-5000</th>\n",
       "      <td>44</td>\n",
       "      <td>135</td>\n",
       "      <td>261</td>\n",
       "      <td>15</td>\n",
       "      <td>82</td>\n",
       "      <td>102</td>\n",
       "    </tr>\n",
       "    <tr>\n",
       "      <th>has_Teff_5000-6000</th>\n",
       "      <td>32</td>\n",
       "      <td>17</td>\n",
       "      <td>410</td>\n",
       "      <td>57</td>\n",
       "      <td>94</td>\n",
       "      <td>119</td>\n",
       "    </tr>\n",
       "    <tr>\n",
       "      <th>has_Teff_6000-6640</th>\n",
       "      <td>24</td>\n",
       "      <td>0</td>\n",
       "      <td>137</td>\n",
       "      <td>2</td>\n",
       "      <td>27</td>\n",
       "      <td>55</td>\n",
       "    </tr>\n",
       "    <tr>\n",
       "      <th>has_Teff_TOTAL</th>\n",
       "      <td>259</td>\n",
       "      <td>155</td>\n",
       "      <td>1010</td>\n",
       "      <td>86</td>\n",
       "      <td>844</td>\n",
       "      <td>1056</td>\n",
       "    </tr>\n",
       "    <tr>\n",
       "      <th>has_luminosity_2500-3000</th>\n",
       "      <td>17</td>\n",
       "      <td>0</td>\n",
       "      <td>0</td>\n",
       "      <td>0</td>\n",
       "      <td>52</td>\n",
       "      <td>13</td>\n",
       "    </tr>\n",
       "    <tr>\n",
       "      <th>has_luminosity_3000-3250</th>\n",
       "      <td>63</td>\n",
       "      <td>0</td>\n",
       "      <td>0</td>\n",
       "      <td>0</td>\n",
       "      <td>327</td>\n",
       "      <td>329</td>\n",
       "    </tr>\n",
       "    <tr>\n",
       "      <th>has_luminosity_3250-3500</th>\n",
       "      <td>50</td>\n",
       "      <td>0</td>\n",
       "      <td>40</td>\n",
       "      <td>8</td>\n",
       "      <td>170</td>\n",
       "      <td>261</td>\n",
       "    </tr>\n",
       "    <tr>\n",
       "      <th>has_luminosity_3500-3750</th>\n",
       "      <td>19</td>\n",
       "      <td>0</td>\n",
       "      <td>73</td>\n",
       "      <td>3</td>\n",
       "      <td>42</td>\n",
       "      <td>86</td>\n",
       "    </tr>\n",
       "    <tr>\n",
       "      <th>has_luminosity_3750-4000</th>\n",
       "      <td>4</td>\n",
       "      <td>1</td>\n",
       "      <td>79</td>\n",
       "      <td>1</td>\n",
       "      <td>25</td>\n",
       "      <td>44</td>\n",
       "    </tr>\n",
       "    <tr>\n",
       "      <th>has_luminosity_4000-5000</th>\n",
       "      <td>44</td>\n",
       "      <td>135</td>\n",
       "      <td>261</td>\n",
       "      <td>15</td>\n",
       "      <td>82</td>\n",
       "      <td>102</td>\n",
       "    </tr>\n",
       "    <tr>\n",
       "      <th>has_luminosity_5000-6000</th>\n",
       "      <td>32</td>\n",
       "      <td>17</td>\n",
       "      <td>410</td>\n",
       "      <td>57</td>\n",
       "      <td>94</td>\n",
       "      <td>119</td>\n",
       "    </tr>\n",
       "    <tr>\n",
       "      <th>has_luminosity_6000-6640</th>\n",
       "      <td>24</td>\n",
       "      <td>0</td>\n",
       "      <td>137</td>\n",
       "      <td>2</td>\n",
       "      <td>27</td>\n",
       "      <td>55</td>\n",
       "    </tr>\n",
       "    <tr>\n",
       "      <th>has_luminosity_TOTAL</th>\n",
       "      <td>258</td>\n",
       "      <td>153</td>\n",
       "      <td>1003</td>\n",
       "      <td>86</td>\n",
       "      <td>822</td>\n",
       "      <td>1018</td>\n",
       "    </tr>\n",
       "  </tbody>\n",
       "</table>\n",
       "</div>"
      ]
     },
     "execution_count": 35,
     "metadata": {
     },
     "output_type": "execute_result"
    }
   ],
   "source": [
    "overview = pd.DataFrame(result_dict)\n",
    "overview"
   ]
  },
  {
   "cell_type": "code",
   "execution_count": 36,
   "metadata": {
    "collapsed": false
   },
   "outputs": [
    {
     "data": {
      "text/plain": [
       "3094"
      ]
     },
     "execution_count": 36,
     "metadata": {
     },
     "output_type": "execute_result"
    }
   ],
   "source": [
    "overview.loc['AltaiPony_TOTAL',:].sum()"
   ]
  },
  {
   "cell_type": "code",
   "execution_count": 37,
   "metadata": {
    "collapsed": false
   },
   "outputs": [
    {
     "name": "stdout",
     "output_type": "stream",
     "text": [
      "pleiades\n",
      "0 0\n",
      "hyades\n",
      "57 0\n"
     ]
    },
    {
     "name": "stdout",
     "output_type": "stream",
     "text": [
      "praesepe\n",
      "0 0\n",
      "ngc6774\n",
      "0 0\n",
      "ngc2168\n",
      "0 0\n"
     ]
    },
    {
     "name": "stdout",
     "output_type": "stream",
     "text": [
      "ngc2682\n",
      "0 0\n"
     ]
    }
   ],
   "source": [
    "for C in clusters:\n",
    "    df = pd.read_csv(\"luminosities/{}_luminosities.csv\".format(C))\n",
    "    print(C)\n",
    "    #print(df[[\"Rstar\",\"Rstar_double_check\"]].count(), np.where(~df.Rstar_consistent.isnull())[0].shape[0], \"\\n\")\n",
    "    print(np.where(df.Rstar_consistent.dropna() == True)[0].shape[0], np.where(df.Rstar_consistent.dropna() == False)[0].shape[0])"
   ]
  },
  {
   "cell_type": "code",
   "execution_count": 38,
   "metadata": {
    "collapsed": false
   },
   "outputs": [
    {
     "data": {
      "text/plain": [
       "0"
      ]
     },
     "execution_count": 38,
     "metadata": {
     },
     "output_type": "execute_result"
    }
   ],
   "source": [
    "np.where(~df.Rstar_consistent.isnull())[0].shape[0]"
   ]
  },
  {
   "cell_type": "code",
   "execution_count": 0,
   "metadata": {
    "collapsed": false
   },
   "outputs": [
   ],
   "source": [
   ]
  },
  {
   "cell_type": "code",
   "execution_count": 39,
   "metadata": {
    "collapsed": false
   },
   "outputs": [
    {
     "data": {
      "text/plain": [
       "array([nan], dtype=object)"
      ]
     },
     "execution_count": 39,
     "metadata": {
     },
     "output_type": "execute_result"
    }
   ],
   "source": [
    "df.loc[df.Teff_median == df.Teff_median.min(), \"todrop\"].values"
   ]
  },
  {
   "cell_type": "code",
   "execution_count": 44,
   "metadata": {
    "collapsed": false
   },
   "outputs": [
    {
     "data": {
      "text/plain": [
       "array(['Unnamed: 0', 'EPIC', 'todrop', 'Dataset Name', 'Campaign',\n",
       "       'Data Release', 'RAJ2000_K2', 'DEJ2000_K2', 'Target Type', 'RA PM',\n",
       "       'RA PM Err', 'Dec PM', 'Dec PM Err', 'Plx', 'Plx Err', 'U Mag',\n",
       "       'U Mag Err', 'B Mag', 'B Mag Err', 'V Mag', 'V Mag Err', 'G Mag',\n",
       "       'G Mag Err', 'R Mag', 'R Mag Err', 'I Mag', 'I Mag Err', 'Z Mag',\n",
       "       'Z Mag Err', 'J Mag', 'J Mag Err', 'H Mag', 'H Mag Err', 'K Mag',\n",
       "       'K Mag Err', 'KEP Mag', 'Kep Flag', 'Hip ID', 'Tyc ID', 'SDSS ID',\n",
       "       'UCAC ID', '2MASS ID', '2MASS Flag', 'crowding', 'contamination',\n",
       "       'flux fraction', 'cdpp3', 'cdpp6', 'cdpp12', 'Module', 'Output',\n",
       "       'Channel', 'Nearest Neighbor', 'Nomad ID', 'dist_mean_K2_arcmin',\n",
       "       'RAJ2000_mean', 'DEJ2000_mean', 'id_N', 'RAJ2000_N', 'DEJ2000_N',\n",
       "       'gaia_id_Gao', 'RAJ2000_Gao', 'DEJ2000_Gao', 'PMem_Gao',\n",
       "       'dist_N_Gao', 'RAJ2000_N_Gao', 'DEJ2000_N_Gao', 'EPIC_id_Gonzalez',\n",
       "       'PMem_Gonzalez', 'RAJ2000_Gonzalez', 'DEJ2000_Gonzalez', 'binary',\n",
       "       'dist_N_Gao_Gonzalez', 'PMem_mean', 'ra_epoch2000_Gaia',\n",
       "       'dec_epoch2000_Gaia', 'errHalfMaj_Gaia', 'errHalfMin_Gaia',\n",
       "       'errPosAng_Gaia', 'source_id_Gaia', 'ra_Gaia', 'ra_error_Gaia',\n",
       "       'dec_Gaia', 'dec_error_Gaia', 'parallax_Gaia',\n",
       "       'parallax_error_Gaia', 'pmra_Gaia', 'pmra_error_Gaia',\n",
       "       'pmdec_Gaia', 'pmdec_error_Gaia', 'duplicated_source_Gaia',\n",
       "       'Gflux_Gaia', 'e_Gflux_Gaia', 'G_Gaia', 'BPflux_Gaia',\n",
       "       'e_BPflux_Gaia', 'BP_Gaia', 'RPflux_Gaia', 'e_RPflux_Gaia',\n",
       "       'RP_Gaia', 'BPRP_Gaia', 'radial_velocity_Gaia',\n",
       "       'radial_velocity_error_Gaia', 'rv_nb_transits_Gaia',\n",
       "       'teff_val_Gaia', 'a_g_val_Gaia', 'Ext_BPRP_Gaia',\n",
       "       'radius_val_Gaia', 'lum_val_Gaia', 'angDist_Gaia', '2MASS_2MASS',\n",
       "       'RAJ2000_2MASS', 'DEJ2000_2MASS', 'errHalfMaj_2MASS',\n",
       "       'errHalfMin_2MASS', 'errPosAng_2MASS', 'J_2MASS', 'H_2MASS',\n",
       "       'K_2MASS', 'e_J_2MASS', 'e_H_2MASS', 'e_K_2MASS', 'Qfl_2MASS',\n",
       "       'Rfl_2MASS', 'X_2MASS', 'MeasureJD_2MASS', 'angDist_2MASS',\n",
       "       'objID_PS1', 'RAJ2000_PS1', 'DEJ2000_PS1', 'errHalfMaj_PS1',\n",
       "       'errHalfMin_PS1', 'errPosAng_PS1', 'f_objID_PS1', 'Qual_PS1',\n",
       "       'Epoch_PS1', 'Ns_PS1', 'Nd_PS1', 'g_PS1', 'e_g_PS1', 'gFlags_PS1',\n",
       "       'r_PS1', 'e_r_PS1', 'rFlags_PS1', 'i_PS1', 'e_i_PS1', 'iFlags_PS1',\n",
       "       'z_PS1', 'e_z_PS1', 'zFlags_PS1', 'y_PS1', 'e_y_PS1', 'yFlags_PS1',\n",
       "       'angDist_PS1', 'elo_Ext_BPRP_Gaia', 'eup_Ext_BPRP_Gaia',\n",
       "       'Teff_StarHorse', 'e_Teff_StarHorse', 'e_G_Gaia', 'e_BP_Gaia',\n",
       "       'e_RP_Gaia', 'BPRP_Gaia_corr', 'e_BPRP_Gaia_corr', 'g_SDSS',\n",
       "       'e_g_SDSS', 'r_SDSS', 'e_r_SDSS', 'i_SDSS', 'e_i_SDSS', 'z_SDSS',\n",
       "       'e_z_SDSS', 'y_SDSS', 'e_y_SDSS', 'bayestar2019_ext',\n",
       "       'bayestar2019_ext_err', 'bayestar2019_flags', 'FeH', 'e_FeH',\n",
       "       'RAJ2000__Gaia', 'DEJ2000__Gaia', 'J_H_BB', 'e_J_H_BB', 'J_K_BB',\n",
       "       'e_J_K_BB', 'H_K_BB', 'e_H_K_BB', 'K_BB', 'e_K_BB', 'J_H_Johnson',\n",
       "       'e_J_H_Johnson', 'K_Johnson', 'e_K_Johnson', 'H_K_Johnson',\n",
       "       'e_H_K_Johnson', 'J_K_Johnson', 'e_J_K_Johnson', 'J_Johnson',\n",
       "       'H_Johnson', 'e_J_Johnson', 'e_H_Johnson', 'Teff_g_r_Boy',\n",
       "       'e_Teff_g_r_Boy', 'Teff_g_z_Boy', 'e_Teff_g_z_Boy', 'Teff_g_i_Boy',\n",
       "       'e_Teff_g_i_Boy', 'Teff_g_J_Boy', 'e_Teff_g_J_Boy', 'Teff_g_H_Boy',\n",
       "       'e_Teff_g_H_Boy', 'Teff_g_K_Boy', 'e_Teff_g_K_Boy', 'Teff_Apsis',\n",
       "       'e_Teff_Apsis', 'Teff_Mann_BP_RP_nan', 'e_Teff_Mann_BP_RP_nan',\n",
       "       'Teff_Mann_r_z_nan', 'e_Teff_Mann_r_z_nan', 'Teff_Mann_r_J_nan',\n",
       "       'e_Teff_Mann_r_J_nan', 'Teff_Mann_BP_RP_FeH',\n",
       "       'e_Teff_Mann_BP_RP_FeH', 'Teff_Mann_r_z_FeH',\n",
       "       'e_Teff_Mann_r_z_FeH', 'Teff_Mann_r_J_FeH', 'e_Teff_Mann_r_J_FeH',\n",
       "       'Teff_Mann_BP_RP_isJH', 'e_Teff_Mann_BP_RP_isJH',\n",
       "       'Teff_Mann_r_z_isJH', 'e_Teff_Mann_r_z_isJH', 'Teff_Mann_r_J_isJH',\n",
       "       'e_Teff_Mann_r_J_isJH', 'Teff_median', 'Teff_std', 'Rstar',\n",
       "       'e_Rstar', 'Rstar_double_check', 'e_Rstar_double_check',\n",
       "       'Rstar_consistent', 'SED_SME', 'e_SED_SME', 'w_SED_SME', 'SpT',\n",
       "       'SED_SJS', 'e_SED_SJS', 'w_SED_SJS', 'SED', 'e_SED', 'w_SED',\n",
       "       'spectrum', 'planck_curve', 'e_planck_curve', 'Lum_SED',\n",
       "       'e_Lum_SED', 'Lum_Kepler', 'e_Lum_Kepler', 'Lum_SB', 'e_Lum_SB'],\n",
       "      dtype=object)"
      ]
     },
     "execution_count": 44,
     "metadata": {
     },
     "output_type": "execute_result"
    }
   ],
   "source": [
    "df.columns.values"
   ]
  },
  {
   "cell_type": "code",
   "execution_count": 48,
   "metadata": {
    "collapsed": false
   },
   "outputs": [
    {
     "data": {
      "text/plain": [
       "(0.17320802560110687, 0.09084988841875581, 0.5229693709835648)"
      ]
     },
     "execution_count": 48,
     "metadata": {
     },
     "output_type": "execute_result"
    },
    {
     "data": {
      "image/png": "[encoded data removed]"
     },
     "execution_count": 48,
     "metadata": {
     },
     "output_type": "execute_result"
    }
   ],
   "source": [
    "relerr = (df.e_Lum_Kepler / df.Lum_Kepler)\n",
    "relerr.hist();\n",
    "relerr.median(), relerr.min(), relerr.max()"
   ]
  },
  {
   "cell_type": "code",
   "execution_count": 0,
   "metadata": {
    "collapsed": false
   },
   "outputs": [
   ],
   "source": [
   ]
  }
 ],
 "metadata": {
  "kernelspec": {
   "display_name": "Anaconda(Py3.5)",
   "language": "python",
   "name": "py35"
  },
  "language_info": {
   "codemirror_mode": {
    "name": "ipython",
    "version": 3
   },
   "file_extension": ".py",
   "mimetype": "text/x-python",
   "name": "python",
   "nbconvert_exporter": "python",
   "pygments_lexer": "ipython3",
   "version": "3.5.4"
  }
 },
 "nbformat": 4,
 "nbformat_minor": 0
}