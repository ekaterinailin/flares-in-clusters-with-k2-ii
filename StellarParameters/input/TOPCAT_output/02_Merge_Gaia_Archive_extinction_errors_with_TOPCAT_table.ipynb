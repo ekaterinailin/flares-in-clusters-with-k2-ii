{
 "cells": [
  {
   "cell_type": "code",
   "execution_count": 35,
   "metadata": {},
   "outputs": [],
   "source": [
    "import pandas as pd\n",
    "import numpy as np"
   ]
  },
  {
   "cell_type": "markdown",
   "metadata": {},
   "source": [
    "### Create table to upload to Gaia archive service"
   ]
  },
  {
   "cell_type": "code",
   "execution_count": 36,
   "metadata": {},
   "outputs": [],
   "source": [
    "clusters = [\"ngc2682\", \"ngc2168\",\"ngc6774\",\"pleiades\",\"praesepe\"]"
   ]
  },
  {
   "cell_type": "code",
   "execution_count": 37,
   "metadata": {},
   "outputs": [],
   "source": [
    "for cluster in clusters:\n",
    "    df1 = pd.read_csv(\"{}_topcat.csv\".format(cluster))\n",
    "\n",
    "    dd = df1.loc[~df1.e_bp_min_rp_val_Gaia.isnull(),[\"source_id_Gaia\",\"e_bp_min_rp_val_Gaia\"]].drop_duplicates()\n",
    "\n",
    "    dd[\"source_id_Gaia\"] = dd[\"source_id_Gaia\"].apply(lambda x: \"{:.18f}\".format(x).split(\".\")[0])\n",
    "\n",
    "    dd.to_csv(\"{}_gaiaarchive.csv\".format(cluster), index=False)"
   ]
  },
  {
   "cell_type": "markdown",
   "metadata": {},
   "source": [
    "### Now go query for upper and lower percentile of excinction correction\n",
    "\n",
    "This is the ADQL query for _eilin_ and NGC 2682:\n",
    "\n",
    "    SELECT source_id, e_bp_min_rp_percentile_lower, e_bp_min_rp_percentile_upper\n",
    "    FROM gaiadr2.gaia_source\n",
    "    JOIN user_eilin.ngc2682_topcat as tab\n",
    "    ON gaiadr2.gaia_source.source_id = tab.source_id_gaia\n",
    "    \n",
    "### Next, merge the results back to the topcat table"
   ]
  },
  {
   "cell_type": "code",
   "execution_count": 43,
   "metadata": {},
   "outputs": [],
   "source": [
    "for cluster in clusters:\n",
    "    df1 = pd.read_csv(\"{}_gaiaarchive_results.csv\".format(cluster))\n",
    "    df2 = pd.read_csv(\"{}_topcat.csv\".format(cluster))\n",
    "\n",
    "    df = df2.merge(df1, how=\"left\", left_on=\"source_id_Gaia\", right_on=\"source_id\")\n",
    "    del df[\"source_id\"]\n",
    "    assert df.shape[0] == df2.shape[0]\n",
    "    assert df.shape[1] == df2.shape[1] + 2\n",
    "    df.to_csv(\"{}_topcat_w_extinction_percentiles.csv\".format(cluster), index=False)"
   ]
  },
  {
   "cell_type": "code",
   "execution_count": null,
   "metadata": {},
   "outputs": [],
   "source": []
  }
 ],
 "metadata": {
  "kernelspec": {
   "display_name": "myenv",
   "language": "python",
   "name": "myenv"
  },
  "language_info": {
   "codemirror_mode": {
    "name": "ipython",
    "version": 3
   },
   "file_extension": ".py",
   "mimetype": "text/x-python",
   "name": "python",
   "nbconvert_exporter": "python",
   "pygments_lexer": "ipython3",
   "version": "3.6.5"
  }
 },
 "nbformat": 4,
 "nbformat_minor": 2
}
