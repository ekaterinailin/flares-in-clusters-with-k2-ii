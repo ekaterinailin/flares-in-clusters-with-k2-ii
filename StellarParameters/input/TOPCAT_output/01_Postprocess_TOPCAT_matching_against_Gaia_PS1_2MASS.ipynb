{
 "cells": [
  {
   "cell_type": "markdown",
   "metadata": {},
   "source": [
    "# Do what TOPCAT can't"
   ]
  },
  {
   "cell_type": "code",
   "execution_count": 1,
   "metadata": {},
   "outputs": [],
   "source": [
    "import pandas as pd\n",
    "import numpy as np"
   ]
  },
  {
   "cell_type": "markdown",
   "metadata": {},
   "source": [
    "### Remove duplicate Gaia columns in Hyades table by merging them"
   ]
  },
  {
   "cell_type": "code",
   "execution_count": 15,
   "metadata": {},
   "outputs": [],
   "source": [
    "df1 =pd.read_csv(\"hyades_topcat_w_duplicates.csv\")"
   ]
  },
  {
   "cell_type": "code",
   "execution_count": 16,
   "metadata": {},
   "outputs": [
    {
     "data": {
      "text/plain": [
       "Index([], dtype='object')"
      ]
     },
     "execution_count": 16,
     "metadata": {},
     "output_type": "execute_result"
    }
   ],
   "source": [
    "columns = df1.columns[np.where(df1.columns.str.contains(\"Gaiaa\"))].values\n",
    "\n",
    "for col in columns:\n",
    "    df1[col[:-1]] = df1[col[:-1]].fillna(df1[col], inplace=True)\n",
    "    del df1[col]\n",
    "\n",
    "df1.columns[np.where(df1.columns.str.contains(\"Gaiaa\"))]"
   ]
  },
  {
   "cell_type": "code",
   "execution_count": 17,
   "metadata": {},
   "outputs": [],
   "source": [
    "df1.to_csv(\"hyades_topcat.csv\",index=False)"
   ]
  },
  {
   "cell_type": "markdown",
   "metadata": {},
   "source": [
    "### Merge M35 tables"
   ]
  },
  {
   "cell_type": "code",
   "execution_count": 5,
   "metadata": {},
   "outputs": [],
   "source": [
    "df1 =pd.read_csv(\"ngc2168_topcat_SF.csv\")\n",
    "df2 =pd.read_csv(\"ngc2168_topcat_K2.csv\")"
   ]
  },
  {
   "cell_type": "code",
   "execution_count": 6,
   "metadata": {},
   "outputs": [],
   "source": [
    "assert (df1.columns==df2.columns).all()\n",
    "\n",
    "df = df1.merge(df2, left_index=True, right_index=True)\n",
    "sh1 = df.shape[1]\n",
    "\n",
    "columns = df.columns[np.where(df.columns.str.contains(\"_x\"))].values\n",
    "\n",
    "for col in columns:\n",
    "    df[col[:-2]] = df[col].fillna(df[col[:-2]+\"_y\"])\n",
    "    del df[col]\n",
    "    del df[col[:-2]+\"_y\"]\n",
    "\n",
    "assert sh1==df.shape[1]*2\n"
   ]
  },
  {
   "cell_type": "code",
   "execution_count": 7,
   "metadata": {},
   "outputs": [],
   "source": [
    "df.to_csv(\"ngc2168_topcat.csv\",index=False)"
   ]
  },
  {
   "cell_type": "markdown",
   "metadata": {},
   "source": [
    "### Merge M67 tables"
   ]
  },
  {
   "cell_type": "code",
   "execution_count": 8,
   "metadata": {},
   "outputs": [],
   "source": [
    "df1 =pd.read_csv(\"ngc2682_topcat_N.csv\")\n",
    "df2 =pd.read_csv(\"ngc2682_topcat_K2.csv\")"
   ]
  },
  {
   "cell_type": "code",
   "execution_count": 9,
   "metadata": {},
   "outputs": [],
   "source": [
    "assert (df1.columns==df2.columns).all()\n",
    "\n",
    "df = df1.merge(df2, left_index=True, right_index=True)\n",
    "sh1 = df.shape[1]\n",
    "\n",
    "columns = df.columns[np.where(df.columns.str.contains(\"_x\"))].values\n",
    "\n",
    "for col in columns:\n",
    "    df[col[:-2]] = df[col].fillna(df[col[:-2]+\"_y\"])\n",
    "    del df[col]\n",
    "    del df[col[:-2]+\"_y\"]\n",
    "\n",
    "assert sh1==df.shape[1]*2"
   ]
  },
  {
   "cell_type": "code",
   "execution_count": 11,
   "metadata": {},
   "outputs": [],
   "source": [
    "df.to_csv(\"ngc2682_topcat.csv\",index=False)"
   ]
  },
  {
   "cell_type": "code",
   "execution_count": null,
   "metadata": {},
   "outputs": [],
   "source": []
  }
 ],
 "metadata": {
  "kernelspec": {
   "display_name": "myenv",
   "language": "python",
   "name": "myenv"
  },
  "language_info": {
   "codemirror_mode": {
    "name": "ipython",
    "version": 3
   },
   "file_extension": ".py",
   "mimetype": "text/x-python",
   "name": "python",
   "nbconvert_exporter": "python",
   "pygments_lexer": "ipython3",
   "version": "3.6.5"
  }
 },
 "nbformat": 4,
 "nbformat_minor": 2
}
