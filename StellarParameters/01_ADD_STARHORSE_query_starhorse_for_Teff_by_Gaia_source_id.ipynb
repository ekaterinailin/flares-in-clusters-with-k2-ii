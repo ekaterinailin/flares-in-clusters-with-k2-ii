{
 "cells": [
  {
   "cell_type": "markdown",
   "metadata": {},
   "source": [
    "## Query AIP Gaia Archive to retrieve effective temperatures derived in StarHorse\n",
    "\n",
    "Instruction for the TAP interface can be found [here](https://gaia.aip.de/cms/documentation/tap-interface/). "
   ]
  },
  {
   "cell_type": "code",
   "execution_count": 4,
   "metadata": {},
   "outputs": [],
   "source": [
    "import pandas as pd\n",
    "import numpy as np\n",
    "import matplotlib.pyplot as plt\n",
    "import pyvo as vo\n",
    "\n",
    "# init tap service\n",
    "tap_service = vo.dal.TAPService('https://gaia.aip.de/tap')\n",
    "\n",
    "# optional: use your API token to use your account\n",
    "vo.utils.http.session.headers['Authorization'] = 'Token xxx'"
   ]
  },
  {
   "cell_type": "markdown",
   "metadata": {},
   "source": [
    "In the appendix of [this paper](https://www.aanda.org/articles/aa/pdf/2019/08/aa35765-19.pdf) are some examples on how to query StarHorse. `query_starhorse` is adopted from that page."
   ]
  },
  {
   "cell_type": "code",
   "execution_count": 8,
   "metadata": {
    "scrolled": true
   },
   "outputs": [],
   "source": [
    "def query_starhorse(l):\n",
    "    \"\"\"Query StarHorse Teff with uncertainties.\n",
    "    This would be faster if I knew how to push\n",
    "    an entire list of IDs instead of one ID at\n",
    "    a time.\n",
    "    \n",
    "    Parameters:\n",
    "    -----------\n",
    "    l : list of str\n",
    "        Gaia IDs\n",
    "        \n",
    "    Return:\n",
    "    -------\n",
    "    Dataframe with teff16, teff50,\n",
    "    teff84, and source_id columns.\n",
    "    \"\"\"\n",
    "    \n",
    "    #Query AIP Gaia Archive\n",
    "    jobs = []\n",
    "    for gaiaid in l:\n",
    "        sql = (\"SELECT TOP 50 s.teff16, s.teff50, s.teff84, s.source_id \"\n",
    "               \"FROM gdr2_contrib.starhorse AS s \"\n",
    "               \"WHERE s.source_id = {} \"\n",
    "               \"AND s.sh_gaiaflag LIKE '000' \"\n",
    "               \"AND s.sh_outflag like '00000'\".format(gaiaid))\n",
    "       # print(sql)\n",
    "\n",
    "        job = tap_service.run_sync(sql)\n",
    "        jobs.append(job)\n",
    "\n",
    "    # Convert results to a table\n",
    "    result = pd.DataFrame()\n",
    "    for job in jobs:\n",
    "        t= job.to_table().to_pandas()\n",
    "        result = pd.concat([result,t])\n",
    "    print(\"{} good Teff results out of {}.\".format(result.shape[0],len(l)))\n",
    "    return result\n",
    "\n",
    "\n",
    "def merge_results(df, result):\n",
    "    \"\"\"Merge input and output table from query.\"\"\"\n",
    "    \n",
    "    #adopt the larger uncertainty for e_Teff:\n",
    "    result[\"difflow\"]=result.teff50-result.teff16\n",
    "    result[\"diffhig\"]=result.teff84-result.teff50\n",
    "    result[\"e_Teff_StarHorse\"] = result.apply(lambda x: max(x.difflow, x.diffhig), axis=1)\n",
    "    \n",
    "    # Rename and merge\n",
    "    nresult = result.rename(index=str, columns={\"teff50\":\"Teff_StarHorse\", \"source_id\":\"source_id_Gaia\"})\n",
    "    tom = nresult[[\"source_id_Gaia\", \"Teff_StarHorse\", \"e_Teff_StarHorse\"]]\n",
    "    newdf = df.merge(tom, how=\"left\", on=\"source_id_Gaia\")\n",
    "    \n",
    "    return newdf\n",
    "   "
   ]
  },
  {
   "cell_type": "markdown",
   "metadata": {},
   "source": [
    "# Now mix StarHorse temperatures to all cluster tables"
   ]
  },
  {
   "cell_type": "code",
   "execution_count": 9,
   "metadata": {
    "scrolled": true
   },
   "outputs": [
    {
     "name": "stdout",
     "output_type": "stream",
     "text": [
      "Running hyades cluster\n"
     ]
    },
    {
     "name": "stderr",
     "output_type": "stream",
     "text": [
      "WARNING: W50: None:13:12: W50: Invalid unit string 'Temperature[K]' [astropy.io.votable.tree]\n",
      "WARNING: W50: None:14:12: W50: Invalid unit string 'Temperature[K]' [astropy.io.votable.tree]\n",
      "WARNING: W50: None:15:12: W50: Invalid unit string 'Temperature[K]' [astropy.io.votable.tree]\n"
     ]
    },
    {
     "name": "stdout",
     "output_type": "stream",
     "text": [
      "116 good Teff results out of 537.\n",
      "hyades done.\n",
      "\n",
      "Running ngc2168 cluster\n",
      "32 good Teff results out of 157.\n",
      "ngc2168 done.\n",
      "\n",
      "Running pleiades cluster\n",
      "387 good Teff results out of 891.\n",
      "pleiades done.\n",
      "\n",
      "Running praesepe cluster\n",
      "495 good Teff results out of 1107.\n",
      "praesepe done.\n",
      "\n",
      "Running ngc2682 cluster\n",
      "874 good Teff results out of 1001.\n",
      "ngc2682 done.\n",
      "\n",
      "Running ngc6774 cluster\n",
      "9 good Teff results out of 72.\n",
      "ngc6774 done.\n",
      "\n"
     ]
    },
    {
     "data": {
      "image/png": "[encoded data removed]"
     },
     "execution_count": 9,
     "metadata": {},
     "output_type": "execute_result"
    }
   ],
   "source": [
    "for C in [\"hyades\",\"ngc2168\",\"pleiades\",\"praesepe\",\"ngc2682\",\"ngc6774\"]:\n",
    "    print(\"Running {} cluster\".format(C))\n",
    "    if C==\"hyades\":\n",
    "        df = pd.read_csv('input/TOPCAT_output/{}_topcat.csv'.format(C))\n",
    "    else:\n",
    "        df = pd.read_csv('input/TOPCAT_output/{}_topcat_w_extinction_percentiles.csv'.format(C))\n",
    "    l = df.source_id_Gaia.dropna().apply(lambda x: \"{:.18f}\".format(x).split(\".\")[0]).unique().tolist()\n",
    "    result = query_starhorse(l)\n",
    "    result.teff50.hist()\n",
    "    newdf = merge_results(df,result)\n",
    "    print(\"{} done.\\n\".format(C))\n",
    "    newdf.to_csv('input/StarHorse_output/{}_topcat_w_extinction_percentiles.csv'.format(C), index=False)"
   ]
  },
  {
   "cell_type": "code",
   "execution_count": 0,
   "metadata": {},
   "outputs": [],
   "source": []
  }
 ],
 "metadata": {
  "kernelspec": {
   "display_name": "altaipony",
   "language": "python",
   "name": "altaipony"
  },
  "language_info": {
   "codemirror_mode": {
    "name": "ipython",
    "version": 3
   },
   "file_extension": ".py",
   "mimetype": "text/x-python",
   "name": "python",
   "nbconvert_exporter": "python",
   "pygments_lexer": "ipython3",
   "version": "3.6.5"
  }
 },
 "nbformat": 4,
 "nbformat_minor": 1
}
