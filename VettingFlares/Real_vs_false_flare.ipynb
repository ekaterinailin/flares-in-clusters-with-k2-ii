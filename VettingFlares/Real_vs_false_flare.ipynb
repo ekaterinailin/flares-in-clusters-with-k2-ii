{
 "cells": [
  {
   "cell_type": "code",
   "execution_count": 2,
   "metadata": {},
   "outputs": [],
   "source": [
    "import pandas as pd\n",
    "import numpy as np\n",
    "import matplotlib.pyplot as plt\n",
    "%matplotlib inline"
   ]
  },
  {
   "cell_type": "code",
   "execution_count": 3,
   "metadata": {},
   "outputs": [
    {
     "data": {
      "text/plain": [
       "(8666, 25)"
      ]
     },
     "execution_count": 3,
     "metadata": {},
     "output_type": "execute_result"
    }
   ],
   "source": [
    "df1 = pd.read_csv(\"../k2scoc/results/tables/lost_table.csv\")\n",
    "df2 = pd.read_csv(\"../k2scoc/results/tables/full_table.csv\")\n",
    "df = pd.concat([df1,df2])\n",
    "df = df[~df.real.isnull()]\n",
    "df.shape"
   ]
  },
  {
   "cell_type": "code",
   "execution_count": 4,
   "metadata": {},
   "outputs": [
    {
     "data": {
      "text/plain": [
       "(3913, 25)"
      ]
     },
     "execution_count": 4,
     "metadata": {},
     "output_type": "execute_result"
    }
   ],
   "source": [
    "r = pd.DataFrame(df.groupby([\"EPIC\",\"C\"]).real.sum()).reset_index()\n",
    "s = r[r.real==0][[\"EPIC\",\"C\"]]\n",
    "df2 = df[df.EPIC.isin(s.EPIC) & df.C.isin(s.C)]\n",
    "df2.shape"
   ]
  },
  {
   "cell_type": "code",
   "execution_count": 5,
   "metadata": {},
   "outputs": [
    {
     "data": {
      "text/html": [
       "<div>\n",
       "<style scoped>\n",
       "    .dataframe tbody tr th:only-of-type {\n",
       "        vertical-align: middle;\n",
       "    }\n",
       "\n",
       "    .dataframe tbody tr th {\n",
       "        vertical-align: top;\n",
       "    }\n",
       "\n",
       "    .dataframe thead th {\n",
       "        text-align: right;\n",
       "    }\n",
       "</style>\n",
       "<table border=\"1\" class=\"dataframe\">\n",
       "  <thead>\n",
       "    <tr style=\"text-align: right;\">\n",
       "      <th></th>\n",
       "      <th>istart</th>\n",
       "      <th>istop</th>\n",
       "      <th>cstart</th>\n",
       "      <th>cstop</th>\n",
       "      <th>tstart</th>\n",
       "      <th>tstop</th>\n",
       "      <th>ed_rec</th>\n",
       "      <th>ed_rec_err</th>\n",
       "      <th>ampl_rec</th>\n",
       "      <th>dtp_tot</th>\n",
       "      <th>...</th>\n",
       "      <th>complex</th>\n",
       "      <th>multiperiod</th>\n",
       "      <th>cluster</th>\n",
       "      <th>Lum_Kepler</th>\n",
       "      <th>e_Lum_Kepler</th>\n",
       "      <th>Teff_median</th>\n",
       "      <th>Teff_std</th>\n",
       "      <th>todrop</th>\n",
       "      <th>Unnamed: 0</th>\n",
       "      <th>length</th>\n",
       "    </tr>\n",
       "    <tr>\n",
       "      <th>real</th>\n",
       "      <th></th>\n",
       "      <th></th>\n",
       "      <th></th>\n",
       "      <th></th>\n",
       "      <th></th>\n",
       "      <th></th>\n",
       "      <th></th>\n",
       "      <th></th>\n",
       "      <th></th>\n",
       "      <th></th>\n",
       "      <th></th>\n",
       "      <th></th>\n",
       "      <th></th>\n",
       "      <th></th>\n",
       "      <th></th>\n",
       "      <th></th>\n",
       "      <th></th>\n",
       "      <th></th>\n",
       "      <th></th>\n",
       "      <th></th>\n",
       "      <th></th>\n",
       "    </tr>\n",
       "  </thead>\n",
       "  <tbody>\n",
       "    <tr>\n",
       "      <th>-1.0</th>\n",
       "      <td>89</td>\n",
       "      <td>89</td>\n",
       "      <td>89</td>\n",
       "      <td>89</td>\n",
       "      <td>89</td>\n",
       "      <td>89</td>\n",
       "      <td>89</td>\n",
       "      <td>89</td>\n",
       "      <td>89</td>\n",
       "      <td>90</td>\n",
       "      <td>...</td>\n",
       "      <td>60</td>\n",
       "      <td>0</td>\n",
       "      <td>94</td>\n",
       "      <td>94</td>\n",
       "      <td>94</td>\n",
       "      <td>94</td>\n",
       "      <td>94</td>\n",
       "      <td>36</td>\n",
       "      <td>91</td>\n",
       "      <td>91</td>\n",
       "    </tr>\n",
       "    <tr>\n",
       "      <th>0.0</th>\n",
       "      <td>3665</td>\n",
       "      <td>3665</td>\n",
       "      <td>3665</td>\n",
       "      <td>3665</td>\n",
       "      <td>3665</td>\n",
       "      <td>3665</td>\n",
       "      <td>3665</td>\n",
       "      <td>3665</td>\n",
       "      <td>3665</td>\n",
       "      <td>4532</td>\n",
       "      <td>...</td>\n",
       "      <td>92</td>\n",
       "      <td>0</td>\n",
       "      <td>4532</td>\n",
       "      <td>4532</td>\n",
       "      <td>4532</td>\n",
       "      <td>4532</td>\n",
       "      <td>4532</td>\n",
       "      <td>430</td>\n",
       "      <td>3173</td>\n",
       "      <td>2309</td>\n",
       "    </tr>\n",
       "    <tr>\n",
       "      <th>1.0</th>\n",
       "      <td>4040</td>\n",
       "      <td>4040</td>\n",
       "      <td>4040</td>\n",
       "      <td>4040</td>\n",
       "      <td>4040</td>\n",
       "      <td>4040</td>\n",
       "      <td>4040</td>\n",
       "      <td>4040</td>\n",
       "      <td>4040</td>\n",
       "      <td>4040</td>\n",
       "      <td>...</td>\n",
       "      <td>69</td>\n",
       "      <td>0</td>\n",
       "      <td>4040</td>\n",
       "      <td>4040</td>\n",
       "      <td>4040</td>\n",
       "      <td>4040</td>\n",
       "      <td>4040</td>\n",
       "      <td>86</td>\n",
       "      <td>2990</td>\n",
       "      <td>2990</td>\n",
       "    </tr>\n",
       "  </tbody>\n",
       "</table>\n",
       "<p>3 rows × 24 columns</p>\n",
       "</div>"
      ],
      "text/plain": [
       "      istart  istop  cstart  cstop  tstart  tstop  ed_rec  ed_rec_err  \\\n",
       "real                                                                    \n",
       "-1.0      89     89      89     89      89     89      89          89   \n",
       " 0.0    3665   3665    3665   3665    3665   3665    3665        3665   \n",
       " 1.0    4040   4040    4040   4040    4040   4040    4040        4040   \n",
       "\n",
       "      ampl_rec  dtp_tot  ...  complex  multiperiod  cluster  Lum_Kepler  \\\n",
       "real                     ...                                              \n",
       "-1.0        89       90  ...       60            0       94          94   \n",
       " 0.0      3665     4532  ...       92            0     4532        4532   \n",
       " 1.0      4040     4040  ...       69            0     4040        4040   \n",
       "\n",
       "      e_Lum_Kepler  Teff_median  Teff_std  todrop  Unnamed: 0  length  \n",
       "real                                                                   \n",
       "-1.0            94           94        94      36          91      91  \n",
       " 0.0          4532         4532      4532     430        3173    2309  \n",
       " 1.0          4040         4040      4040      86        2990    2990  \n",
       "\n",
       "[3 rows x 24 columns]"
      ]
     },
     "execution_count": 5,
     "metadata": {},
     "output_type": "execute_result"
    }
   ],
   "source": [
    "df.groupby(\"real\").count()"
   ]
  },
  {
   "cell_type": "code",
   "execution_count": 6,
   "metadata": {},
   "outputs": [
    {
     "data": {
      "image/png": "[encoded data removed]",
      "text/plain": [
       "<Figure size 1296x360 with 6 Axes>"
      ]
     },
     "metadata": {
      "needs_background": "light"
     },
     "output_type": "display_data"
    }
   ],
   "source": [
    "fig, ax = plt.subplots(nrows=1, ncols=6,figsize=(18,5))\n",
    "i=0\n",
    "for label, group in df[df.real == 0].groupby(\"C\"):\n",
    "    group.tstart.hist(bins=10, ax=ax[i],label=f\"C {label}\")\n",
    "    ax[i].legend()\n",
    "    i += 1\n",
    "i=0\n",
    "for label, group in df[df.real == 1].groupby(\"C\"):\n",
    "    group.tstart.hist(bins=10, ax=ax[i],histtype=\"step\", edgecolor=\"k\", linewidth=2)\n",
    "    ax[i].legend()\n",
    "    i += 1\n",
    "    \n",
    "i=0\n",
    "for label, group in df.groupby(\"C\"):\n",
    "    group.tstart.hist(bins=10, ax=ax[i],histtype=\"step\", edgecolor=\"grey\", linewidth=2)\n",
    "    ax[i].legend()\n",
    "    i += 1    \n",
    "    \n",
    "plt.savefig(\"plots/false_positives.png\",dpi=300)"
   ]
  },
  {
   "cell_type": "code",
   "execution_count": 23,
   "metadata": {},
   "outputs": [
    {
     "data": {
      "text/plain": [
       "3575.0"
      ]
     },
     "execution_count": 23,
     "metadata": {},
     "output_type": "execute_result"
    }
   ],
   "source": [
    "5500*.65"
   ]
  },
  {
   "cell_type": "code",
   "execution_count": null,
   "metadata": {},
   "outputs": [],
   "source": []
  }
 ],
 "metadata": {
  "kernelspec": {
   "display_name": "forallpurposes",
   "language": "python",
   "name": "forallpurposes"
  },
  "language_info": {
   "codemirror_mode": {
    "name": "ipython",
    "version": 3
   },
   "file_extension": ".py",
   "mimetype": "text/x-python",
   "name": "python",
   "nbconvert_exporter": "python",
   "pygments_lexer": "ipython3",
   "version": "3.6.9"
  }
 },
 "nbformat": 4,
 "nbformat_minor": 4
}
