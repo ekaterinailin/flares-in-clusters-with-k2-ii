{
 "cells": [
  {
   "cell_type": "code",
   "execution_count": 1,
   "metadata": {},
   "outputs": [],
   "source": [
    "import pandas as pd\n",
    "import numpy as np\n",
    "import matplotlib.pyplot as plt\n",
    "%matplotlib inline\n",
    "import copy\n",
    "\n",
    "from altaipony.ffd import FFD\n",
    "from altaipony.wheatland import calculate_joint_posterior_distribution, gaussian_prior\n",
    "\n",
    "\n",
    "\n",
    "for att in ['axes.labelsize', 'axes.titlesize', 'legend.fontsize',\n",
    "            'legend.fontsize', 'xtick.labelsize', 'ytick.labelsize']:\n",
    "    plt.rcParams[att] = 13\n",
    "    \n",
    "import logging\n",
    "logger = logging.getLogger()\n",
    "logger.setLevel(logging.CRITICAL)\n",
    "\n",
    "import time\n",
    "tstamp = time.strftime(\"%d_%m_%Y_%H_%M\", time.localtime())\n",
    "\n",
    "paperdir=\"/home/ekaterina/Documents/002_writing/flares-in-clusters-ii-draft/Flares_in_Clusters_with_K2_2/\""
   ]
  },
  {
   "cell_type": "code",
   "execution_count": 2,
   "metadata": {},
   "outputs": [],
   "source": [
    "ccol = dict(zip(['pleiades',\"hyades\",\"praesepe\",\"ngc6774\",\"ngc2682\"],\n",
    "                [[\"Pleiades\",\"brown\",\"x\",135,25,25],\n",
    "                 [\"Hyades\",\"orangered\",\"*\",690,160,100],\n",
    "                 [\"Praesepe\",\"orange\",\"d\",750,3,7],\n",
    "                 [\"Rup 147\", \"green\",r\"$m$\",2650,380,380],\n",
    "                 [\"M67\",\"blue\",\">\",3639,17,17]]))\n"
   ]
  },
  {
   "cell_type": "code",
   "execution_count": 4,
   "metadata": {},
   "outputs": [],
   "source": [
    "#df = pd.read_csv(\"../k2scoc/results/tables/full_table.csv\")\n",
    "# df1 = pd.read_csv(\"../k2scoc/results/tables/full_table.csv\")\n",
    "# df2 = pd.read_csv(\"../k2scoc/results/tables/lost_table.csv\")\n",
    "# df = pd.concat([df1,df2])\n",
    "df = pd.read_csv(\"../k2scoc/results/tables/2020_05_final_flares.csv\")\n",
    "\n",
    "hasflares = (df.real==1) & (df.todrop.isnull())\n",
    "wassearched = (df.real==0)  & (df.todrop.isnull())\n",
    "df = df[hasflares  | wassearched]\n"
   ]
  },
  {
   "cell_type": "code",
   "execution_count": 5,
   "metadata": {},
   "outputs": [
    {
     "name": "stdout",
     "output_type": "stream",
     "text": [
      "Total observing time: 615.34 years!\n"
     ]
    },
    {
     "data": {
      "text/html": [
       "<div>\n",
       "<style scoped>\n",
       "    .dataframe tbody tr th:only-of-type {\n",
       "        vertical-align: middle;\n",
       "    }\n",
       "\n",
       "    .dataframe tbody tr th {\n",
       "        vertical-align: top;\n",
       "    }\n",
       "\n",
       "    .dataframe thead th {\n",
       "        text-align: right;\n",
       "    }\n",
       "</style>\n",
       "<table border=\"1\" class=\"dataframe\">\n",
       "  <thead>\n",
       "    <tr style=\"text-align: right;\">\n",
       "      <th></th>\n",
       "      <th>Teff_median</th>\n",
       "      <th>cluster</th>\n",
       "      <th>LC_time_years</th>\n",
       "      <th>M_Msun</th>\n",
       "      <th>age (Myr)</th>\n",
       "    </tr>\n",
       "  </thead>\n",
       "  <tbody>\n",
       "    <tr>\n",
       "      <th>0</th>\n",
       "      <td>2500-3000</td>\n",
       "      <td>hyades</td>\n",
       "      <td>3.201118</td>\n",
       "      <td>0.097</td>\n",
       "      <td>690.0</td>\n",
       "    </tr>\n",
       "    <tr>\n",
       "      <th>1</th>\n",
       "      <td>2500-3000</td>\n",
       "      <td>ngc2682</td>\n",
       "      <td>NaN</td>\n",
       "      <td>0.097</td>\n",
       "      <td>3639.0</td>\n",
       "    </tr>\n",
       "    <tr>\n",
       "      <th>2</th>\n",
       "      <td>2500-3000</td>\n",
       "      <td>ngc6774</td>\n",
       "      <td>NaN</td>\n",
       "      <td>0.097</td>\n",
       "      <td>2650.0</td>\n",
       "    </tr>\n",
       "    <tr>\n",
       "      <th>3</th>\n",
       "      <td>2500-3000</td>\n",
       "      <td>pleiades</td>\n",
       "      <td>9.734428</td>\n",
       "      <td>0.097</td>\n",
       "      <td>135.0</td>\n",
       "    </tr>\n",
       "    <tr>\n",
       "      <th>4</th>\n",
       "      <td>2500-3000</td>\n",
       "      <td>praesepe</td>\n",
       "      <td>4.740475</td>\n",
       "      <td>0.097</td>\n",
       "      <td>750.0</td>\n",
       "    </tr>\n",
       "  </tbody>\n",
       "</table>\n",
       "</div>"
      ],
      "text/plain": [
       "  Teff_median   cluster  LC_time_years  M_Msun  age (Myr)\n",
       "0   2500-3000    hyades       3.201118   0.097      690.0\n",
       "1   2500-3000   ngc2682            NaN   0.097     3639.0\n",
       "2   2500-3000   ngc6774            NaN   0.097     2650.0\n",
       "3   2500-3000  pleiades       9.734428   0.097      135.0\n",
       "4   2500-3000  praesepe       4.740475   0.097      750.0"
      ]
     },
     "execution_count": 5,
     "metadata": {},
     "output_type": "execute_result"
    }
   ],
   "source": [
    "df[\"LC_time_years\"] = df.dtp_tot / 2. / 24. / 365.25\n",
    "df = df[(df.Teff_median<=6000) & (df.Teff_median>=2500)]\n",
    "cepic = df[[\"LC_time_years\",\"EPIC\",\"C\", \"Teff_median\", \"cluster\"]].drop_duplicates() \n",
    "tobs = cepic.LC_time_years.sum()\n",
    "\n",
    "print(f\"Total observing time: {tobs:.2f} years!\")\n",
    "labels = [\"2500-3000\",\"3000-3250\",\"3250-3500\",\n",
    "          \"3500-3750\",\"3750-4000\",\"4000-5000\",\n",
    "          \"5000-6000\"]\n",
    "Mmid  = [0.097, .19, .36, .47, .55, .71, .94]\n",
    "masses = pd.DataFrame({\"Teff_median\" : labels,\n",
    "                       \"M_Msun\" : Mmid})\n",
    "\n",
    "params = pd.read_csv(\"cluster_parameters_merged.csv\")\n",
    "\n",
    "\n",
    "bins_T = pd.cut(cepic[\"Teff_median\"],\n",
    "                bins=[2500,3000,3250,3500,3750,4000,5000,6000],\n",
    "                labels=labels)\n",
    "T = cepic.groupby([bins_T, \"cluster\"]).LC_time_years.sum().reset_index()\n",
    "T = T.merge(masses, how=\"left\", on=\"Teff_median\")\n",
    "T = T.merge(params[[\"cluster\",\"age (Myr)\"]], how=\"left\", on=\"cluster\")\n",
    "assert T.LC_time_years.sum() - tobs < 1e-10\n",
    "T.head()"
   ]
  },
  {
   "cell_type": "markdown",
   "metadata": {},
   "source": [
    "# Davenport 2019 Gyro-flare model"
   ]
  },
  {
   "cell_type": "code",
   "execution_count": 6,
   "metadata": {},
   "outputs": [
    {
     "data": {
      "text/html": [
       "<div>\n",
       "<style scoped>\n",
       "    .dataframe tbody tr th:only-of-type {\n",
       "        vertical-align: middle;\n",
       "    }\n",
       "\n",
       "    .dataframe tbody tr th {\n",
       "        vertical-align: top;\n",
       "    }\n",
       "\n",
       "    .dataframe thead th {\n",
       "        text-align: right;\n",
       "    }\n",
       "</style>\n",
       "<table border=\"1\" class=\"dataframe\">\n",
       "  <thead>\n",
       "    <tr style=\"text-align: right;\">\n",
       "      <th></th>\n",
       "      <th>Teff_median</th>\n",
       "      <th>cluster</th>\n",
       "      <th>LC_time_years</th>\n",
       "      <th>M_Msun</th>\n",
       "      <th>age (Myr)</th>\n",
       "      <th>alpha</th>\n",
       "      <th>beta</th>\n",
       "    </tr>\n",
       "  </thead>\n",
       "  <tbody>\n",
       "    <tr>\n",
       "      <th>30</th>\n",
       "      <td>5000-6000</td>\n",
       "      <td>hyades</td>\n",
       "      <td>1.413358</td>\n",
       "      <td>0.94</td>\n",
       "      <td>690.0</td>\n",
       "      <td>-0.516119</td>\n",
       "      <td>16.055087</td>\n",
       "    </tr>\n",
       "    <tr>\n",
       "      <th>31</th>\n",
       "      <td>5000-6000</td>\n",
       "      <td>ngc2682</td>\n",
       "      <td>42.053730</td>\n",
       "      <td>0.94</td>\n",
       "      <td>3639.0</td>\n",
       "      <td>-0.566669</td>\n",
       "      <td>17.506574</td>\n",
       "    </tr>\n",
       "    <tr>\n",
       "      <th>32</th>\n",
       "      <td>5000-6000</td>\n",
       "      <td>ngc6774</td>\n",
       "      <td>6.491958</td>\n",
       "      <td>0.94</td>\n",
       "      <td>2650.0</td>\n",
       "      <td>-0.557027</td>\n",
       "      <td>17.229724</td>\n",
       "    </tr>\n",
       "    <tr>\n",
       "      <th>33</th>\n",
       "      <td>5000-6000</td>\n",
       "      <td>pleiades</td>\n",
       "      <td>14.005932</td>\n",
       "      <td>0.94</td>\n",
       "      <td>135.0</td>\n",
       "      <td>-0.466523</td>\n",
       "      <td>14.630971</td>\n",
       "    </tr>\n",
       "    <tr>\n",
       "      <th>34</th>\n",
       "      <td>5000-6000</td>\n",
       "      <td>praesepe</td>\n",
       "      <td>41.611054</td>\n",
       "      <td>0.94</td>\n",
       "      <td>750.0</td>\n",
       "      <td>-0.518654</td>\n",
       "      <td>16.127873</td>\n",
       "    </tr>\n",
       "  </tbody>\n",
       "</table>\n",
       "</div>"
      ],
      "text/plain": [
       "   Teff_median   cluster  LC_time_years  M_Msun  age (Myr)     alpha  \\\n",
       "30   5000-6000    hyades       1.413358    0.94      690.0 -0.516119   \n",
       "31   5000-6000   ngc2682      42.053730    0.94     3639.0 -0.566669   \n",
       "32   5000-6000   ngc6774       6.491958    0.94     2650.0 -0.557027   \n",
       "33   5000-6000  pleiades      14.005932    0.94      135.0 -0.466523   \n",
       "34   5000-6000  praesepe      41.611054    0.94      750.0 -0.518654   \n",
       "\n",
       "         beta  \n",
       "30  16.055087  \n",
       "31  17.506574  \n",
       "32  17.229724  \n",
       "33  14.630971  \n",
       "34  16.127873  "
      ]
     },
     "execution_count": 6,
     "metadata": {},
     "output_type": "execute_result"
    }
   ],
   "source": [
    "def gyroflaremodel(t, m):\n",
    "    '''From table in Davenport+2019'''\n",
    "    a1, a2, a3 = -.07, .79, -1.06\n",
    "    b1, b2, b3 = 2.01, -25.15, 33.99\n",
    "    alpha = a1 * np.log10(t) + a2 * m + a3\n",
    "    beta = b1 * np.log10(t) + b2 * m + b3\n",
    "    return np.array([alpha, beta, t, m])\n",
    "\n",
    "\n",
    "s = T.apply(lambda x: gyroflaremodel(x[\"age (Myr)\"], x[\"M_Msun\"]), axis=1)\n",
    "s = pd.DataFrame(s.tolist(), columns=['alpha', 'beta', \"age (Myr)\", \"M_Msun\"])\n",
    "T = T.merge(s, how=\"left\", on=[ \"age (Myr)\", \"M_Msun\"])\n",
    "T.dropna(how=\"any\").tail()"
   ]
  },
  {
   "cell_type": "markdown",
   "metadata": {},
   "source": [
    "# Full sample FFD plots with $E_\\mathrm{kp}$ and $ED$\n"
   ]
  },
  {
   "cell_type": "code",
   "execution_count": 7,
   "metadata": {},
   "outputs": [],
   "source": [
    "resfullsample = {}"
   ]
  },
  {
   "cell_type": "code",
   "execution_count": 8,
   "metadata": {},
   "outputs": [
    {
     "name": "stdout",
     "output_type": "stream",
     "text": [
      "959\n",
      "959\n"
     ]
    },
    {
     "name": "stderr",
     "output_type": "stream",
     "text": [
      "100%|██████████| 200/200 [00:03<00:00, 56.81it/s]\n",
      "100%|██████████| 200/200 [00:03<00:00, 55.84it/s]\n",
      "100%|██████████| 200/200 [00:03<00:00, 55.73it/s]\n",
      "100%|██████████| 200/200 [00:03<00:00, 57.06it/s]\n",
      "100%|██████████| 200/200 [00:03<00:00, 57.07it/s]\n",
      "100%|██████████| 200/200 [00:03<00:00, 55.22it/s]\n",
      "100%|██████████| 200/200 [00:03<00:00, 57.42it/s]\n",
      "100%|██████████| 200/200 [00:03<00:00, 56.19it/s]\n",
      "100%|██████████| 200/200 [00:03<00:00, 56.90it/s]\n",
      "100%|██████████| 200/200 [00:03<00:00, 58.35it/s]\n"
     ]
    },
    {
     "name": "stdout",
     "output_type": "stream",
     "text": [
      "Fitted power law alpha=2.0953421311629397(0.03534345248088089/0.035450428520654054)\n",
      "Fitted power law beta=1989.0934286947365(598.0186715293246/458.66276196581316)\n"
     ]
    },
    {
     "name": "stderr",
     "output_type": "stream",
     "text": [
      "/home/ekaterina/Documents/000_envs/forallpurposes/lib/python3.6/site-packages/altaipony-0.0.1-py3.6.egg/altaipony/ffd.py:431: UserWarning: Power law exponent is steep. Power of statistical tests decreases according to Maschberger and Kroupa 2009.\n",
      "  warnings.warn('Power law exponent is steep. '\n"
     ]
    },
    {
     "data": {
      "image/png": "[encoded data removed]",
      "text/plain": [
       "<Figure size 576x432 with 1 Axes>"
      ]
     },
     "metadata": {
      "needs_background": "light"
     },
     "output_type": "display_data"
    }
   ],
   "source": [
    "fig, ax =  plt.subplots(1, figsize=(8,6))\n",
    "\n",
    "hasflares = (df.real==1) & (df.todrop.isnull())\n",
    "ffd = FFD(f=df[hasflares], tot_obs_time=tobs, ID=\"EPIC\")\n",
    "\n",
    "#---------- No correction ----------------\n",
    "ed, freq, counts = ffd.ed_and_freq(energy_correction=False,\n",
    "                            recovery_probability_correction=False,\n",
    "                             multiple_stars=False)\n",
    "ax.scatter(ed, freq, c=\"darkgrey\", marker=\"*\")#, label=\"no correction\")\n",
    "\n",
    "\n",
    "#---------- multiple stars \n",
    "ed, freq, counts = ffd.ed_and_freq(energy_correction=False,\n",
    "                            recovery_probability_correction=False,\n",
    "                             multiple_stars=True)\n",
    "\n",
    "#ax.scatter(ffd.ed, ffd.freq, marker=\"^\", c=\"c\", label=\"correcting for multiple stars in sample\")\n",
    "\n",
    "cts = pd.Series(counts).value_counts()\n",
    "thresh = cts[cts==1].sort_index().index.min() * 2.\n",
    "ed, freq, counts = ffd.ed_and_freq(energy_correction=False,\n",
    "                            recovery_probability_correction=False,\n",
    "                             multiple_stars=False)\n",
    "\n",
    "ffd.count_ed = ffd.count_ed[np.where(ffd.count_ed>thresh)]\n",
    "ffd.ed = ed[np.where(ed>thresh)]\n",
    "ffd.freq = freq[np.where(ed>thresh)]\n",
    "print(len(ffd.ed))\n",
    "ffd.alpha_prior = 1.99\n",
    "ffd.beta_prior = 981.75\n",
    "BFA = ffd.fit_mcmc_powerlaw(steps=200)\n",
    "print(f\"Fitted power law alpha={ffd.alpha}({ffd.alpha_up_err}/{ffd.alpha_low_err})\")\n",
    "print(f\"Fitted power law beta={ffd.beta}({ffd.beta_up_err}/{ffd.beta_low_err})\")\n",
    "\n",
    "ispowerlaw = ffd.is_powerlaw()\n",
    "truncated = ffd.is_powerlaw_truncated()\n",
    "\n",
    "ffd.plot_mcmc_powerlaw(ax, BFA, subset=300, linewidth=5, c=\"tomato\", alpha=.005, zorder=-1)\n",
    "ax.scatter(ffd.ed, ffd.freq, marker=\"*\", c=\"dimgrey\", )#label=\"all flaring stars contribute = above detection threshold\")\n",
    "a, x, y = ffd.plot_powerlaw(ax, c=\"r\", \n",
    "                            label=(fr\"$\\alpha=${ffd.alpha:.2f}, \"\n",
    "                                   fr\"$\\beta=${int(np.rint(ffd.beta))}\" + r\" yr$^{-1}$\"))\n",
    "\n",
    "plt.xscale(\"log\")\n",
    "plt.yscale(\"log\")\n",
    "plt.legend(frameon=False)\n",
    "plt.xlabel(\"ED [s]\")\n",
    "plt.ylabel(r\"cumulative number of flares [yr$^{-1}$]\")\n",
    "\n",
    "resfullsample[\"alpha\"] = ffd.alpha\n",
    "resfullsample[\"alpha_up_err\"] = ffd.alpha_up_err\n",
    "resfullsample[\"alpha_low_err\"] = ffd.alpha_low_err\n",
    "resfullsample[\"beta\"] = ffd.beta\n",
    "resfullsample[\"beta_up_err\"] = ffd.beta_up_err\n",
    "resfullsample[\"beta_low_err\"] = ffd.beta_low_err\n",
    "resfullsample[\"nflares_tot\"] = len(ed)\n",
    "resfullsample[\"nflares_for_fit\"] = len(ffd.ed)\n",
    "resfullsample[\"ispowerlaw\"] = ispowerlaw\n",
    "resfullsample[\"istruncated\"] = truncated\n",
    "\n",
    "plt.savefig(f\"plots/{tstamp}_full_sample_ffd_ED_wheatland.png\", dpi=300)\n",
    "plt.savefig(f\"{paperdir}pics/FFDs/full_sample_ffd_ED_wheatland.png\", dpi=300)"
   ]
  },
  {
   "cell_type": "code",
   "execution_count": 9,
   "metadata": {},
   "outputs": [
    {
     "data": {
      "text/plain": [
       "629.354014491578"
      ]
     },
     "execution_count": 9,
     "metadata": {},
     "output_type": "execute_result"
    }
   ],
   "source": [
    "thresh"
   ]
  },
  {
   "cell_type": "code",
   "execution_count": 13,
   "metadata": {},
   "outputs": [
    {
     "data": {
      "image/png": "[encoded data removed]",
      "text/plain": [
       "<Figure size 396x396 with 4 Axes>"
      ]
     },
     "metadata": {
      "needs_background": "light"
     },
     "output_type": "display_data"
    }
   ],
   "source": [
    "BFA.show_corner_plot(show_truths=False, show_titles=False)\n",
    "\n",
    "\n",
    "x = np.linspace(resfullsample[\"alpha\"] - resfullsample[\"alpha_low_err\"]*4,\n",
    "                resfullsample[\"alpha\"] + resfullsample[\"alpha_up_err\"]*4,100)\n",
    "plt.plot(x, 465*gaussian_prior(x, resfullsample[\"alpha\"], \n",
    "                            (resfullsample[\"alpha_up_err\"] + resfullsample[\"alpha_low_err\"]) / 2.))\n",
    "plt.savefig(f\"plots/{tstamp}_full_ED_FFD_cornerplot.png\", dpi=300)"
   ]
  },
  {
   "cell_type": "code",
   "execution_count": 14,
   "metadata": {},
   "outputs": [],
   "source": [
    "def loglikelihood_gauss_wheatland_ed(theta, *args):\n",
    "    '''Log likelihood to pass to BayesianFlaringAnalysis\n",
    "    for fitting the powerlaw following Wheatland 2004.\n",
    "    Using a gaussian prior for alpha.\n",
    "    '''\n",
    "    def prior(x):\n",
    "        return gaussian_prior(x, resfullsample[\"alpha\"], \n",
    "                           (resfullsample[\"alpha_up_err\"] + resfullsample[\"alpha_low_err\"]) / 2.)\n",
    "    return calculate_joint_posterior_distribution(theta, *args, prior)"
   ]
  },
  {
   "cell_type": "code",
   "execution_count": 16,
   "metadata": {},
   "outputs": [],
   "source": [
    "with open(f\"{paperdir}values/gauss_wheatland_alpha_mu.txt\", \"w\") as f:\n",
    "    f.write(str(resfullsample[\"alpha\"]))\n",
    "with open(f\"{paperdir}values/gauss_wheatland_alpha_sigma.txt\", \"w\") as f:\n",
    "    f.write(str((resfullsample[\"alpha_up_err\"] + resfullsample[\"alpha_low_err\"]) / 2.))"
   ]
  },
  {
   "cell_type": "code",
   "execution_count": 15,
   "metadata": {},
   "outputs": [
    {
     "name": "stdout",
     "output_type": "stream",
     "text": [
      "1213\n"
     ]
    },
    {
     "name": "stderr",
     "output_type": "stream",
     "text": [
      "100%|██████████| 200/200 [00:03<00:00, 52.98it/s]\n",
      "100%|██████████| 200/200 [00:03<00:00, 53.22it/s]\n",
      "100%|██████████| 200/200 [00:03<00:00, 50.97it/s]\n",
      "100%|██████████| 200/200 [00:03<00:00, 53.61it/s]\n",
      "100%|██████████| 200/200 [00:03<00:00, 51.79it/s]\n",
      "100%|██████████| 200/200 [00:03<00:00, 52.75it/s]\n",
      "100%|██████████| 200/200 [00:03<00:00, 51.31it/s]\n",
      "100%|██████████| 200/200 [00:03<00:00, 52.92it/s]\n",
      "100%|██████████| 200/200 [00:03<00:00, 52.58it/s]\n",
      "100%|██████████| 200/200 [00:03<00:00, 53.25it/s]\n",
      "100%|██████████| 200/200 [00:03<00:00, 53.02it/s]\n",
      "100%|██████████| 200/200 [00:03<00:00, 53.21it/s]\n",
      "100%|██████████| 200/200 [00:03<00:00, 53.19it/s]\n"
     ]
    },
    {
     "name": "stdout",
     "output_type": "stream",
     "text": [
      "Fitted power law alpha=1.9850317483859161(0.028094568961731348/0.02789459684776241)\n",
      "Fitted power law beta=4.160090380914767e+32(3.174266626883464e+33/3.6710918436192115e+32)\n"
     ]
    },
    {
     "data": {
      "image/png": "[encoded data removed]",
      "text/plain": [
       "<Figure size 576x432 with 1 Axes>"
      ]
     },
     "metadata": {
      "needs_background": "light"
     },
     "output_type": "display_data"
    }
   ],
   "source": [
    "fig, ax =  plt.subplots(1, figsize=(8,6))\n",
    "df2 = copy.deepcopy(df)\n",
    "df2[\"ed_rec\"] = df.ed_rec * df.Lum_Kepler\n",
    "ffd = FFD(f=df2[hasflares & ~(df.ed_rec.isnull())], tot_obs_time=tobs, ID=\"EPIC\")\n",
    "\n",
    "#---------- No correction ----------------\n",
    "ed, freq, counts = ffd.ed_and_freq(energy_correction=False,\n",
    "                            recovery_probability_correction=False,\n",
    "                             multiple_stars=False)\n",
    "ax.scatter(ed, freq, c=\"darkgrey\", marker=\"*\")#, label=\"no correction\")\n",
    "\n",
    "\n",
    "#---------- multiple stars \n",
    "ed, freq, counts = ffd.ed_and_freq(energy_correction=False,\n",
    "                            recovery_probability_correction=False,\n",
    "                             multiple_stars=True)\n",
    "\n",
    "#ax.scatter(ffd.ed, ffd.freq, marker=\"^\", c=\"c\", label=\"correcting for multiple stars in sample\")\n",
    "\n",
    "cts = pd.Series(counts).value_counts()\n",
    "thresh = cts[cts==1].sort_index().index.min() * 2.\n",
    "\n",
    "ed, freq, counts = ffd.ed_and_freq(energy_correction=False,\n",
    "                            recovery_probability_correction=False,\n",
    "                             multiple_stars=False)\n",
    "\n",
    "ffd.count_ed = ffd.count_ed[np.where(ffd.count_ed>thresh)]\n",
    "ffd.ed = ed[np.where(ed>thresh)]\n",
    "ffd.freq = freq[np.where(ed>thresh)]\n",
    "\n",
    "ffd.alpha_prior = 1.85\n",
    "ffd.beta_prior = 1.75e28\n",
    "BFA = ffd.fit_mcmc_powerlaw(steps=200.)\n",
    "print(f\"Fitted power law alpha={ffd.alpha}({ffd.alpha_up_err}/{ffd.alpha_low_err})\")\n",
    "print(f\"Fitted power law beta={ffd.beta}({ffd.beta_up_err}/{ffd.beta_low_err})\")\n",
    "ispowerlaw = ffd.is_powerlaw()\n",
    "truncated = ffd.is_powerlaw_truncated()\n",
    "\n",
    "ffd.plot_mcmc_powerlaw(ax, BFA, subset=300,linewidth=5, c=\"tomato\", alpha=.005, zorder=-1)\n",
    "ax.scatter(ffd.ed, ffd.freq, marker=\"*\", c=\"dimgrey\")#, label=\"all flaring stars contribute = above detection threshold\")\n",
    "a, x, y = ffd.plot_powerlaw(ax, c=\"r\", label=fr\"$\\alpha=${ffd.alpha:.2f}, $\\beta=${ffd.beta:.2e}\"  + r\" yr$^{-1}$\")\n",
    "\n",
    "\n",
    "resfullsample[\"alpha_en\"] = ffd.alpha\n",
    "resfullsample[\"alpha_up_err_en\"] = ffd.alpha_up_err\n",
    "resfullsample[\"alpha_low_err_en\"] = ffd.alpha_low_err\n",
    "resfullsample[\"beta_en\"] = ffd.beta\n",
    "resfullsample[\"beta_up_err_en\"] = ffd.beta_up_err\n",
    "resfullsample[\"beta_low_err_en\"] = ffd.beta_low_err\n",
    "resfullsample[\"nflares_tot_en\"] = len(ed)\n",
    "resfullsample[\"nflares_for_fit_en\"] = len(ffd.ed)\n",
    "resfullsample[\"ispowerlaw_en\"] = ispowerlaw\n",
    "resfullsample[\"istruncated_en\"] = truncated\n",
    "\n",
    "plt.xscale(\"log\")\n",
    "plt.yscale(\"log\")\n",
    "plt.legend(frameon=False)\n",
    "plt.xlabel(r\"$E_\\mathrm{Kp}$ [erg]\")\n",
    "plt.ylabel(r\"cumulative number of flares [yr$^{-1}$]\")\n",
    "\n",
    "plt.savefig(f\"plots/{tstamp}_full_sample_ffd_energy_wheatland.png\", dpi=300)\n",
    "plt.savefig(f\"{paperdir}pics/FFDs/full_sample_ffd_energy_wheatland.png\", dpi=300)"
   ]
  },
  {
   "cell_type": "code",
   "execution_count": null,
   "metadata": {},
   "outputs": [],
   "source": [
    "thresh"
   ]
  },
  {
   "cell_type": "code",
   "execution_count": null,
   "metadata": {},
   "outputs": [],
   "source": [
    "BFA.show_corner_plot(show_truths=False, show_titles=False)\n",
    "x = np.linspace(resfullsample[\"alpha_en\"] - resfullsample[\"alpha_low_err_en\"]*4,\n",
    "                resfullsample[\"alpha_en\"] + resfullsample[\"alpha_up_err_en\"]*4,100)\n",
    "plt.plot(x, 385*gaussian_prior(x, resfullsample[\"alpha_en\"], \n",
    "                            (resfullsample[\"alpha_up_err_en\"] + resfullsample[\"alpha_low_err_en\"]) / 2.))\n",
    "plt.savefig(f\"plots/{tstamp}_full_energy_FFD_cornerplot.png\", dpi=300)"
   ]
  },
  {
   "cell_type": "code",
   "execution_count": null,
   "metadata": {},
   "outputs": [],
   "source": [
    "def loglikelihood_gauss_wheatland_energy(theta, *args):\n",
    "    '''Log likelihood to pass to BayesianFlaringAnalysis\n",
    "    for fitting the powerlaw following Wheatland 2004.\n",
    "    Using a gaussian prior for alpha.\n",
    "    '''\n",
    "    def prior(x):\n",
    "        return gaussian_prior(x, resfullsample[\"alpha_en\"], \n",
    "                           (resfullsample[\"alpha_up_err_en\"] + resfullsample[\"alpha_low_err_en\"]) / 2.)\n",
    "    return calculate_joint_posterior_distribution(theta, *args, prior)"
   ]
  },
  {
   "cell_type": "code",
   "execution_count": null,
   "metadata": {},
   "outputs": [],
   "source": [
    "_t = pd.Series(resfullsample)\n",
    "resfulltab =  pd.DataFrame({\"space\": [r\"$ED$\", r\"$E_\\mathrm{Kp}$\"],\n",
    "              r\"$\\alpha$\":[f\"${_t.alpha:.2f}\\left(OK1{_t.alpha_up_err:.2f}K2UK1{_t.alpha_up_err:.2f}K2\\right)$\",\n",
    "                           f\"${_t.alpha_en:.2f}\\left(OK1{_t.alpha_up_err_en:.2f}K2UK1{_t.alpha_up_err_en:.2f}K2\\right)$\",],\n",
    "              r\"$\\beta$ [yr$^{-1}$]\":[f\"${int(np.rint(_t.beta))}\\left(OK1{int(np.rint(_t.beta_up_err))}K2UK1{int(np.rint(_t.beta_low_err))}K2\\right)$\",\n",
    "                          f\"${_t.beta_en/10**32:.2f}\\left(OK1{_t.beta_up_err_en/10**32:.2f}K2UK1{_t.beta_low_err_en/10**32:.2f}K2\\right)\" + r\"\\cdot 10^{32}$\"],\n",
    "              r\"$n_\\mathrm{tot}$\":[_t.nflares_tot,_t.nflares_tot_en,],\n",
    "              r\"$n_\\mathrm{fit}$\":[_t.nflares_for_fit,_t.nflares_for_fit_en,],\n",
    "             # r\"$tr$\":[_t.istruncated,_t.istruncated_en,],\n",
    "             # r\"$pl$\":[_t.ispowerlaw,_t.ispowerlaw_en,]\n",
    "             })\n",
    "_t.to_csv(\"tables/full_sample_alphabeta.csv\")"
   ]
  },
  {
   "cell_type": "code",
   "execution_count": null,
   "metadata": {},
   "outputs": [],
   "source": [
    "resfulltab[r\"$\\alpha$\"] = (resfulltab[r\"$\\alpha$\"].str\n",
    "                           .replace(\"O\",r\"^\").str\n",
    "                           .replace(\"U\",r\"_\").str\n",
    "                           .replace(\"K1\",r\"{\").str\n",
    "                           .replace(\"K2\",r\"}\"))\n",
    "\n",
    "resfulltab[r\"$\\beta$ [yr$^{-1}$]\"] = (resfulltab[r\"$\\beta$ [yr$^{-1}$]\"].str\n",
    "                           .replace(\"O\",r\"^\").str\n",
    "                           .replace(\"U\",r\"_\").str\n",
    "                           .replace(\"K1\",r\"{\").str\n",
    "                           .replace(\"K2\",r\"}\"))\n",
    "names = resfulltab['space'].values\n",
    "resfulltab = resfulltab.T\n",
    "\n",
    "resfulltab = resfulltab.rename(index=str, columns=dict(zip(resfulltab.columns.values, names)))\n",
    "resfulltab = resfulltab.drop(\"space\")\n",
    "nc = 'c' * (resfulltab.shape[1])\n",
    "stri = resfulltab.to_latex(index=True,escape=False, column_format=f\"l{nc}r\")\n",
    "stri = stri.replace(\"\\\\toprule\",\"\\hline\")\n",
    "stri = stri.replace(\"\\\\midrule\",\"\\hline\")\n",
    "\n",
    "\n",
    "stri = stri.replace(\"\\\\bottomrule\",\"\\hline\\n\" )\n",
    "stri = stri.replace(\"{}\",\" \" )\n",
    "\n",
    "with open(f\"{paperdir}tables/powerlaw_fullsample_wheatland.tex\", \"w\") as f:\n",
    "    f.write(stri)\n",
    "\n",
    "print(stri)"
   ]
  },
  {
   "cell_type": "code",
   "execution_count": null,
   "metadata": {},
   "outputs": [],
   "source": [
    "with open(f\"{paperdir}values/MCMC_alpha_ed.txt\", \"w\") as f:\n",
    "    f.write(str(np.round(resfullsample[\"alpha\"],2)))\n",
    "with open(f\"{paperdir}values/MCMC_alpha_energy.txt\", \"w\") as f:\n",
    "    f.write(str(np.round(resfullsample[\"alpha_en\"],2)))"
   ]
  },
  {
   "cell_type": "markdown",
   "metadata": {},
   "source": [
    "## Teff bins\n"
   ]
  },
  {
   "cell_type": "code",
   "execution_count": null,
   "metadata": {},
   "outputs": [],
   "source": [
    "labels=[\"2500-3000\",\"3000-3250\",\"3250-3500\",\"3500-3750\",\"3750-4000\",\"4000-5000\",\"5000-6000\"]\n",
    "bins_T = pd.cut(df[\"Teff_median\"],\n",
    "                bins=[2500,3000,3250,3500,3750,4000,5000,6000],\n",
    "                labels=labels)\n",
    "numer = [\"a.\",\"b.\",\"c.\",\"d.\",\"e.\",\"f.\",\"g.\"]"
   ]
  },
  {
   "cell_type": "code",
   "execution_count": null,
   "metadata": {
    "scrolled": false
   },
   "outputs": [],
   "source": [
    "resed = {}\n",
    "\n",
    "fig, axes = plt.subplots(nrows=4,ncols=2,figsize=(12.5,19.5), sharey=True, squeeze=True)\n",
    "k = 0\n",
    "axes = [l for x in axes for l in x]\n",
    "for i, g in df.groupby(bins_T):\n",
    "    g.loc[:,\"cluster\"] = pd.Categorical(g.cluster, \n",
    "                      categories=[\"pleiades\",\"hyades\",\"praesepe\",\"ngc6774\", \"ngc2682\"],\n",
    "                      ordered=True)\n",
    "    resed[i]={}\n",
    "    for j, h in g.groupby(\"cluster\"):\n",
    "\n",
    "        tobs = T[(T.Teff_median == i) & (T.cluster == j)].LC_time_years.values[0]\n",
    "        h = h[(h.real == 1)]\n",
    "        if h.shape[0] == 0:\n",
    "            continue\n",
    "        else:\n",
    "            ffd = FFD(f=h, tot_obs_time=tobs, ID=\"EPIC\")\n",
    "\n",
    "            #---------- get thershold\n",
    "            \n",
    "            ed, freq, counts = ffd.ed_and_freq(energy_correction=False,\n",
    "                                        recovery_probability_correction=False,\n",
    "                                         multiple_stars=True)\n",
    "            \n",
    "            cts = pd.Series(counts).value_counts()\n",
    "            thresh = cts[cts==1].sort_index().index.min()\n",
    "            \n",
    "            # ----------- use threshold\n",
    "            \n",
    "            ed, freq, counts = ffd.ed_and_freq(energy_correction=False,\n",
    "                                        recovery_probability_correction=False,\n",
    "                                         multiple_stars=False)\n",
    "            \n",
    "            ffd.count_ed = ffd.count_ed[np.where(ffd.count_ed>=thresh)]\n",
    "            ffd.ed = ed[np.where(ed>=thresh)]\n",
    "            ffd.freq = freq[np.where(ed>=thresh)]\n",
    "\n",
    "            ffd.alpha_prior = resfullsample[\"alpha\"]\n",
    "            ffd.beta_prior = resfullsample[\"beta\"]\n",
    "\n",
    "            BFA = ffd.fit_mcmc_powerlaw(steps=200,loglikelihood=loglikelihood_gauss_wheatland_ed)\n",
    "            print(f\"Fitted power law alpha={ffd.alpha}({ffd.alpha_up_err}/{ffd.alpha_low_err})\")\n",
    "            print(f\"Fitted power law beta={ffd.beta}({ffd.beta_up_err}/{ffd.beta_low_err})\")\n",
    "            \n",
    "                \n",
    "            a, x, y = ffd.plot_powerlaw(axes[k], c=\"k\",)\n",
    "            \n",
    "            resed[i][ccol[j][0]]={\"alpha\":ffd.alpha,\n",
    "                                  \"alpha_up_err\":ffd.alpha_up_err,\n",
    "                                  \"alpha_low_err\":ffd.alpha_low_err,\n",
    "                                  \"beta\":ffd.beta,\n",
    "                                  \"beta_up_err\":ffd.beta_up_err,\n",
    "                                  \"beta_low_err\":ffd.beta_low_err,\n",
    "                                  \"nflares\":len(ed),\n",
    "                                  \"age\":ccol[j][3],\n",
    "                                  \"age_uperr\":ccol[j][4],\n",
    "                                  \"age_lowerr\":ccol[j][5],\n",
    "                                  \"ispowerlaw\":ffd.is_powerlaw(),\n",
    "                                  \"istruncated\": ffd.is_powerlaw_truncated()\n",
    "                                  }\n",
    "            \n",
    "            ed, freq, counts = ffd.ed_and_freq(energy_correction=False,\n",
    "                                        recovery_probability_correction=False,\n",
    "                                         multiple_stars=False)\n",
    "\n",
    "            axes[k].scatter(ed, freq, c=ccol[j][1], marker=ccol[j][2], s=60,\n",
    "                            label=fr\"{ccol[j][0]}: $\\alpha=${ffd.alpha:.2f}, $\\beta=${ffd.beta:.0f}\" + r\" yr$^{-1}$\")\n",
    "\n",
    "            axes[k].set_xscale('log')\n",
    "            axes[k].set_yscale('log')\n",
    "            axes[k].set_title(f\"{i} K\")\n",
    "            axes[k].set_xlim(1, 1.1e5)\n",
    "            axes[k].set_xlabel(r\"$ED$ [s]\")\n",
    "            axes[k].text(0.05, 0.9, numer[k], horizontalalignment='left',fontsize=14,\n",
    "                         verticalalignment='bottom', transform=axes[k].transAxes)\n",
    "            if k==6:\n",
    "                axes[k].legend(loc=1)\n",
    "            else:\n",
    "                axes[k].legend(loc=3)\n",
    "\n",
    "            \n",
    "            \n",
    "    k += 1\n",
    "axes[-1].axis('off')\n",
    "for i in [0,2,4,6]:\n",
    "    axes[i].set_ylabel(r\"cumulative flare frequency [yr$^{-1}$]\")\n",
    "\n",
    "plt.tight_layout()\n",
    "plt.savefig(f\"plots/{tstamp}_SpT_wise_sample_ffd_ED_wheatland.png\", dpi=300)\n",
    "plt.savefig(f\"{paperdir}pics/FFDs/SpT_wise_sample_ffd_ED_wheatland.png\", dpi=300)"
   ]
  },
  {
   "cell_type": "code",
   "execution_count": null,
   "metadata": {
    "scrolled": false
   },
   "outputs": [],
   "source": [
    "resen = {}\n",
    "df2 = copy.deepcopy(df)\n",
    "df2[\"ed_rec\"] = df.ed_rec * df.Lum_Kepler\n",
    "fig, axes = plt.subplots(nrows=4, ncols=2, figsize=(12.5,19.5),\n",
    "                         sharey=True, squeeze=True)\n",
    "k = 0\n",
    "axes = [l for x in axes for l in x]\n",
    "\n",
    "for i, g in df2.groupby(bins_T):\n",
    "    resen[i]={}\n",
    "    g.loc[:,\"cluster\"] = pd.Categorical(g.cluster, \n",
    "                      categories=[\"pleiades\",\"hyades\",\n",
    "                                  \"praesepe\",\"ngc6774\",\n",
    "                                  \"ngc2682\"],\n",
    "                      ordered=True)\n",
    "    for j, h in g.groupby(\"cluster\"):\n",
    "        tobs = T[(T.Teff_median == i) &\n",
    "                 (T.cluster == j)].LC_time_years.values[0]\n",
    "        h = h[(h.real == 1)]\n",
    "        if h.shape[0] == 0:\n",
    "            continue\n",
    "        else:\n",
    "            ffd = FFD(f=h, tot_obs_time=tobs, ID=\"EPIC\")\n",
    "\n",
    "            #---------- get thershold\n",
    "            \n",
    "            ed, freq, counts = ffd.ed_and_freq(energy_correction=False,\n",
    "                                        recovery_probability_correction=False,\n",
    "                                         multiple_stars=True)\n",
    "            \n",
    "            cts = pd.Series(counts).value_counts()\n",
    "            thresh = cts[cts==1].sort_index().index.min()\n",
    "            \n",
    "            # ----------- use threshold\n",
    "            \n",
    "            ed, freq, counts = ffd.ed_and_freq(energy_correction=False,\n",
    "                                        recovery_probability_correction=False,\n",
    "                                         multiple_stars=False)\n",
    "            \n",
    "            ffd.count_ed = ffd.count_ed[np.where(ffd.count_ed>=thresh)]\n",
    "            ffd.ed = ed[np.where(ed>=thresh)]\n",
    "            ffd.freq = freq[np.where(ed>=thresh)]\n",
    "\n",
    "            ffd.alpha_prior = resfullsample[\"alpha_en\"]\n",
    "            ffd.beta_prior = resfullsample[\"beta_en\"]\n",
    "            \n",
    "            BFA = ffd.fit_mcmc_powerlaw(steps=200,loglikelihood=loglikelihood_gauss_wheatland_energy)\n",
    "            print(f\"Fitted power law alpha={ffd.alpha:.2f}({ffd.alpha_up_err:.2f}/{ffd.alpha_low_err:.2f})\")\n",
    "            print(f\"Fitted power law beta={ffd.beta:.2e}({ffd.beta_up_err:.2e}/{ffd.beta_low_err:.2e})\")\n",
    "            \n",
    "            a, x, y = ffd.plot_powerlaw(axes[k], c=\"k\",)\n",
    "            \n",
    "            # Add Davenport model\n",
    "            ab = T[(T.cluster==j) & (T.Teff_median==i)]\n",
    "            A = 1. - ab.alpha.iloc[0]\n",
    "            B = np.power(10, ab.beta.iloc[0]) * (A - 1.) * 365.25\n",
    "            ffdd = FFD(alpha=A, beta=B)\n",
    "            ffdd.ed = ffd.ed\n",
    "            if len(ffdd.ed) == 1:\n",
    "                ffdd.ed = [ffdd.ed/2.,ffdd.ed*2.]\n",
    "            a, x, y = ffdd.plot_powerlaw(axes[k], c=ccol[j][1], linewidth=3)\n",
    "            # ----------------------------------------------------------------\n",
    "            resen[i][ccol[j][0]]= {\"alpha_en\":ffd.alpha,\n",
    "                                  \"alpha_up_err_en\":ffd.alpha_up_err,\n",
    "                                  \"alpha_low_err_en\":ffd.alpha_low_err,\n",
    "                                  \"beta_en\":ffd.beta,\n",
    "                                  \"beta_up_err_en\":ffd.beta_up_err,\n",
    "                                  \"beta_low_err_en\":ffd.beta_low_err,\n",
    "                                  \"nflares_en\":len(ed),\n",
    "                                  \"age\":ccol[j][3],\n",
    "                                  \"age_uperr\":ccol[j][4],\n",
    "                                  \"age_lowerr\":ccol[j][5],\n",
    "                                  \"ispowerlaw_en\":ffd.is_powerlaw(),\n",
    "                                  \"istruncated_en\": ffd.is_powerlaw_truncated(),\n",
    "                                  \"davenport_alpha\": A,\n",
    "                                  \"davenport_beta\":B,\n",
    "                                  }\n",
    "            \n",
    "            ed, freq, counts = ffd.ed_and_freq(energy_correction=False,\n",
    "                                        recovery_probability_correction=False,\n",
    "                                         multiple_stars=False)\n",
    "            \n",
    "            axes[k].scatter(ed, freq, c=ccol[j][1], marker=ccol[j][2], s=60,\n",
    "                           label=fr\"{ccol[j][0]}: $\\alpha=${ffd.alpha:.2f}, $\\beta=${ffd.beta:.2e}\"   + r\" yr$^{-1}$\")\n",
    "\n",
    "            axes[k].set_xscale('log')\n",
    "            axes[k].set_yscale('log')\n",
    "            axes[k].set_title(f\"{i} K\")\n",
    "            axes[k].set_xlim(8e30, 5e35)\n",
    "            axes[k].set_xlabel(r\"$E_\\mathrm{Kp}$ [erg]\")\n",
    "            axes[k].text(0.05, 0.9, numer[k], horizontalalignment='left',fontsize=14,\n",
    "                         verticalalignment='bottom', transform=axes[k].transAxes)\n",
    "            axes[k].legend(loc=3)\n",
    "            \n",
    "            \n",
    "    k += 1\n",
    "axes[-1].axis('off')\n",
    "for i in [0,2,4,6]:\n",
    "    axes[i].set_ylabel(r\"cumulative flare frequency [yr$^{-1}$]\")\n",
    "\n",
    "plt.tight_layout()\n",
    "plt.savefig(f\"plots/{tstamp}_SpT_wise_sample_ffd_energy_wheatland.png\", dpi=300)\n",
    "plt.savefig(f\"{paperdir}pics/FFDs/SpT_wise_sample_ffd_energy_wheatland.png\", dpi=300)"
   ]
  },
  {
   "cell_type": "code",
   "execution_count": null,
   "metadata": {},
   "outputs": [],
   "source": [
    "reform = {(outerKey, innerKey): values for outerKey, innerDict in resed.items() for innerKey, values in innerDict.items()}\n",
    "\n",
    "betaed_ = pd.DataFrame(reform).T\n",
    "betaed = betaed_.reset_index().rename(index=str, columns={\"level_0\":\"Teff\",\n",
    "                                                                          \"level_1\":\"cluster\"}) \n",
    "\n",
    "reform = {(outerKey, innerKey): values for outerKey, innerDict in resen.items() for innerKey, values in innerDict.items()}\n",
    "\n",
    "betaen_ = pd.DataFrame(reform).T\n",
    "betaen = betaen_.reset_index().rename(index=str, columns={\"level_0\":\"Teff\",\n",
    "                                                                       \"level_1\":\"cluster\"})\n",
    "beta = betaed.merge(betaen)\n",
    "beta[\"Tmin\"] = beta.Teff.apply(lambda x: int(x.split(\"-\")[0]))\n",
    "beta[\"Tmax\"] = beta.Teff.apply(lambda x: int(x.split(\"-\")[1]))\n",
    "beta[\"Tmid\"] = ((beta.Tmax + beta.Tmin) / 2).astype(int)\n",
    "beta[\"Tmid_err\"] = ((beta.Tmax - beta.Tmin) / 2).astype(int)\n",
    "beta.to_csv(\"tables/cluster_SpT_alphabeta.csv\",index=False)\n",
    "beta.sort_values(by=\"nflares\")"
   ]
  },
  {
   "cell_type": "code",
   "execution_count": null,
   "metadata": {},
   "outputs": [],
   "source": [
    "fig, ax = plt.subplots(figsize=(10,6))\n",
    "Tcols = {\"2750\":[\"^\",\"maroon\"],\n",
    "         \"3125\":[\">\",\"orangered\"],\n",
    "         \"3375\":[\"<\",\"orange\"],\n",
    "         \"3625\":[\"*\",\"green\"],\n",
    "         \"3875\":[\"d\",\"lime\"],\n",
    "         \"4500\":[\"x\",\"c\"],\n",
    "         \"5500\":[\"o\",\"blue\"],}\n",
    "for label, g in beta.groupby(\"Tmid\"):\n",
    " \n",
    "    g.loc[:,\"cluster\"] = pd.Categorical(g.cluster, \n",
    "                      categories=[\"Pleiades\",\"Hyades\",\"Praesepe\",\"Rup 147\", \"M67\"],\n",
    "                      ordered=True)\n",
    "    g = g.sort_values(by=\"cluster\")\n",
    "    ax.errorbar(x=g.age, xerr=g[[\"age_uperr\",\"age_lowerr\"]].values.T,\n",
    "                 y=g.beta, yerr=g[[\"beta_up_err\",\"beta_low_err\"]].values.T,\n",
    "                 label=f\"{g.Tmin.iloc[0]}-{g.Tmax.iloc[0]} K\",c=Tcols[str(label)][1],\n",
    "                  marker=Tcols[str(label)][0],markersize=10)\n",
    "#     g.plot(x=\"age\", xerr=\"age_uperr\",y=\"beta\",yerr=\"beta_err\",\n",
    "#            label=f\"{g.Tmin.iloc[0]}-{g.Tmax.iloc[0]} K\", ax=ax, kind=\"line\",c=Tcols[str(label)][1],\n",
    "#           marker=Tcols[str(label)][0],markersize=10)#s=120,)#\n",
    "    \n",
    "\n",
    "ax.set_xlabel(\"age [Myr]\")\n",
    "ax.set_ylabel(r\"$\\beta_\\mathrm{s}$ [yr$^{-1}$]\")\n",
    "ax.set_xscale(\"log\")\n",
    "ax.set_yscale(\"log\")\n",
    "ax.set_xticks(beta.age.astype(float).unique())\n",
    "ax.set_xticklabels(labels=beta.age.unique(), rotation=90)\n",
    "ax.set_ylim(1,2e4)\n",
    "ax.legend(loc=(1.03,.5))\n",
    "plt.tight_layout()\n",
    "plt.savefig(f\"plots/{tstamp}_beta_T_age_ED_wheatland.png\", dpi=300)\n",
    "plt.savefig(f\"{paperdir}pics/FFDs/beta_T_age_ED_wheatland.png\", dpi=300)"
   ]
  },
  {
   "cell_type": "code",
   "execution_count": null,
   "metadata": {},
   "outputs": [],
   "source": [
    "beta_s = betaen_.merge(betaed_, left_index=True,right_index=True)\n",
    "for b in [\"beta\",\"beta_up_err\",\"beta_low_err\",\n",
    "          \"beta_en\",\"beta_up_err_en\", \"beta_low_err_en\"]:\n",
    "    beta_s.loc[:,b] = beta_s[b].astype(float)\n",
    "\n",
    "\n",
    "for out, beta, beta_up_err, beta_low_err in [(r\"$\\beta_\\mathrm{s}$\",\"beta\",\"beta_up_err\", \"beta_low_err\"),\n",
    "                                             (r\"$\\beta_\\mathrm{erg}$\",\"beta_en\",\"beta_up_err_en\", \"beta_low_err_en\"),\n",
    "                                           \n",
    "                            ]:\n",
    "    if out == r\"$\\beta_\\mathrm{erg}$\":\n",
    "        beta_s[\"perr\"] = (np.rint(np.log10(beta_s[beta]/beta_s[beta_up_err]))+2).astype(int)\n",
    "        beta_s[\"b\"] = (np.rint(np.log10(beta_s[beta]))).astype(int)\n",
    "        beta_s[\"berr\"] = (np.rint(np.log10(beta_s[beta_up_err]))).astype(int)\n",
    "        beta_s[\"B\"] = beta_s.apply(lambda x: np.round(x[beta]/10**x.b, x.perr).astype(str), axis=1)\n",
    "        beta_s[\"Berr_up\"] = beta_s.apply(lambda x: np.round(x[beta_up_err]/10**x.b, x.perr), axis=1)     \n",
    "        beta_s[\"Berr_low\"] = beta_s.apply(lambda x: np.round(x[beta_low_err]/10**x.b, x.perr), axis=1) \n",
    "    \n",
    "        beta_s[out] = beta_s.apply(lambda x: f\"${x.B}\\left(OK1{x.Berr_up}K2UK1{x.Berr_low}K2\\right)\\cdot 10OK1{x.b}K2$\", axis=1)\n",
    "    else: \n",
    "        beta_s[out] = beta_s.apply(lambda x: f\"${int(x[beta])}\\left(OK1{int(x[beta_up_err])}K2UK1{int(x[beta_low_err])}K2\\right)$\", axis=1)\n",
    "    beta_s[out] = (beta_s[out].str\n",
    "                           .replace(\"O\",r\"^\").str\n",
    "                           .replace(\"U\",r\"_\").str\n",
    "                           .replace(\"K1\",r\"{\").str\n",
    "                           .replace(\"K2\",r\"}\"))\n",
    "\n",
    "    \n",
    "for out, beta, beta_up_err, beta_low_err in [(r\"$\\alpha_\\mathrm{erg}$\",\"alpha_en\",\"alpha_up_err_en\", \"alpha_low_err_en\"),\n",
    "                                             (r\"$\\alpha_\\mathrm{s}$\",\"alpha\",\"alpha_up_err\", \"alpha_low_err\"),\n",
    "                            ]:    \n",
    "    beta_s[out] = beta_s.apply(lambda x: f\"${x[beta]:.2f}\\left(OK1{x[beta_up_err]:.2f}K2UK1{x[beta_low_err]:.2f}K2\\right)$\", axis=1)\n",
    "    beta_s[out] = (beta_s[out].str\n",
    "                           .replace(\"O\",r\"^\").str\n",
    "                           .replace(\"U\",r\"_\").str\n",
    "                           .replace(\"K1\",r\"{\").str\n",
    "                           .replace(\"K2\",r\"}\"))    \n",
    "    \n",
    "rename = {\"nflares\":r\"$n$\",#_\\mathrm{s}$\",\n",
    "         #\"nflares_en\":r\"$n_\\mathrm{erg}$\",\n",
    "        #  \"istruncated\":r\"$tr_\\mathrm{s}$\",\n",
    "        # \"istruncated_en\":r\"$tr_\\mathrm{erg}$\",\n",
    "        # \"ispowerlaw\":r\"$pl_\\mathrm{s}$\",\n",
    "        # \"ispowerlaw_en\":r\"$pl_\\mathrm{erg}$\",\n",
    "         }\n",
    "beta_s = beta_s[[r\"$\\alpha_\\mathrm{s}$\",r\"$\\beta_\\mathrm{s}$\",#\"nflares_en\",#\"istruncated\",\"ispowerlaw\",,\"istruncated_en\",\"ispowerlaw_en\"\n",
    "                 r\"$\\alpha_\\mathrm{erg}$\",r\"$\\beta_\\mathrm{erg}$\",\"nflares\"]].rename(index=str, columns=rename)\n",
    "beta_s = beta_s.sort_index()\n",
    "nc = 'c' * (beta_s.shape[1])\n",
    "stri = beta_s.to_latex(index=True,escape=False, column_format=f\"l{nc}r\")\n",
    "stri = stri.replace(\"\\\\toprule\",\"\\hline\")\n",
    "stri = stri.replace(\"\\\\midrule\",\"\\hline\")\n",
    "\n",
    "\n",
    "stri = stri.replace(\"\\\\bottomrule\",\"\\hline\\n\" )\n",
    "stri = stri.replace(\"\\hline\\n          &         &    \", \"\\hline\\n $T_{eff}$ [K] & cluster &\")\n",
    "with open(f\"{paperdir}tables/powerlaw_SpT_wheatland.tex\", \"w\") as f:\n",
    "    f.write(stri)"
   ]
  },
  {
   "cell_type": "markdown",
   "metadata": {},
   "source": [
    "# Notes on very old clusters"
   ]
  },
  {
   "cell_type": "code",
   "execution_count": null,
   "metadata": {},
   "outputs": [],
   "source": []
  },
  {
   "cell_type": "markdown",
   "metadata": {},
   "source": [
    "## Rup 147\n",
    "\n",
    "- 219426848 spectroscopic binary with double line (Curtis 2013)\n",
    "- **219591752** unremarkable Gaia target [simbad](http://simbad.u-strasbg.fr/simbad/sim-coo?Coord=19+14+11.962+%09-16+21+38.93+%09&CooFrame=FK5&CooEpoch=2000&CooEqui=2000&CooDefinedFrames=none&Radius=2&Radius.unit=arcsec&submit=submit+query&CoordList=) the cool star! 3315 K\n",
    "- 219341906 - nothing special from Curtis 2013\n",
    "- **219601739** - nothing special from Curtis 2013, CWW79\n",
    "- **219610232** - unremarkable Gaia target [simbad](http://simbad.u-strasbg.fr/simbad/sim-coo?Coord=19+13+31.091+%09-16+18+40.14+%09&CooFrame=FK5&CooEpoch=2000&CooEqui=2000&CooDefinedFrames=none&Radius=2&Radius.unit=arcsec&submit=submit+query&CoordList=), Cantat-Gaudin+ 2018: 100% member"
   ]
  },
  {
   "cell_type": "code",
   "execution_count": null,
   "metadata": {},
   "outputs": [],
   "source": [
    "\n",
    "df[(df.cluster==\"ngc2682\") & (df.real==1) & (df.Teff_median<6000)].dropna(subset=[\"real\"])[[\"dtp_tot\", \"EPIC\",\"C\",\n",
    "                                                                    \"Teff_median\", \"ed_rec\",\"note\", \n",
    "                                                                    \"todrop\", \"real\"]]"
   ]
  },
  {
   "cell_type": "code",
   "execution_count": null,
   "metadata": {},
   "outputs": [],
   "source": [
    "3449/2/24"
   ]
  },
  {
   "cell_type": "markdown",
   "metadata": {},
   "source": [
    "## M67\n",
    "\n",
    "- 211406144 -  RG \n",
    "- 211409376 -  RS CVn\n",
    "- **211434440** - ? 5000-6000 (no obvious info on [simbad](http://simbad.u-strasbg.fr/simbad/sim-coo?Coord=08+48+55.901+%09%2B12+09+42.93+%09&CooFrame=FK5&CooEpoch=2000&CooEqui=2000&CooDefinedFrames=none&Radius=2&Radius.unit=arcsec&submit=submit+query&CoordList=))\n",
    "   - Huber+ 2016: \n",
    "   ```\n",
    "                   lo     [F                                                                                  \n",
    "          Tef   logg ([c Fe/H] ( Rad     Mass                       E(B-V   F   RA          DE                \n",
    "    EPIC      f (K) m/s2]) [Sun]) (Rsun)  (Msun) rho (Sun) Dist (pc) ) (mag) lag J2000 (deg) J2000 (deg) A15 2M\n",
    "    --------- ----- ------ ------ ------- ------ --------- --------- ------- --- ----------- ----------- --- --\n",
    "    211434440  5236  4.545 -0.210   0.823  0.870  1.53e+00  6.20e+02  0.0338 rpm 132.2329270 +12.1619250   0 2M\n",
    "   ```\n",
    "  If the flare is real: 6.3e+33 erg energy released! \n",
    "- 211412587 - ? 5000-6000 spectroscopic binary [simbad](http://simbad.u-strasbg.fr/simbad/sim-coo?Coord=08+51+23.778+%09%2B11+49+49.38+%09&CooFrame=FK5&CooEpoch=2000&CooEqui=2000&CooDefinedFrames=none&Radius=2&Radius.unit=arcsec&submit=submit+query&CoordList=)\n",
    "- 211417284 - ? 5000-6000 cataclysmic variable star [simbad](http://simbad.u-strasbg.fr/simbad/sim-coo?Coord=08+50+36.996+%09%2B11+54+04.67+%09&CooFrame=FK5&CooEpoch=2000&CooEqui=2000&CooDefinedFrames=none&Radius=2&Radius.unit=arcsec&submit=submit+query&CoordList=), (0.64 day period, star 01610 in Nardiello+ 2016), [Mooley and Singh 2015](https://academic.oup.com/mnras/article/452/4/3394/1055661) :\n",
    "     ```\n",
    "     _Belloni et al. (1998)useB−V=0.38 from Sanders (1977) and hardness of the X-rayspectrum to claim that this could be an accreting white dwarf system. Orbital parameters areunknown. However, EIS hasB−V=0.79, and our hardness ratios are HR1=0.66±0.20,HR2=−0.48±0.30. The position in the HR diagram and absence of soft and hard X-raycomponents therefore argue against the CV hypothesis for this source_\n",
    "     ```\n",
    "- 200233344 - ? 4000-5000 resolved to EPIC 211414300 2MASS J08514235+1151230 RGB star\n",
    "- 200233429 - ? 5000-6000  \t2MASS J08504609+1143082 spectroscopic binary\n",
    "- 211390071 - It's an SSO! 12.6 period rotationally var. 4000-5000\n",
    " If the flare is real 5.9e34 erg\n",
    "- 211396661 - It's an SSO! 21.23 period rotationally var 3750-4000, \"no clear variation\" (Gonzalez 2016)\n",
    " If the flare is real 4.6e34 erg\n",
    "- 211409644 - spectrocscopic binary\n",
    "\n",
    "The poster flare was in the Nardiello sample."
   ]
  },
  {
   "cell_type": "code",
   "execution_count": null,
   "metadata": {},
   "outputs": [],
   "source": [
    "df2 = df[(df.real != -1) & (df.real != 0) & (df.note.isnull())]\n",
    "df2[(df2.cluster==\"ngc2682\") & (df2.Teff_median < 6000.)].dropna(subset=[\"real\"]).Teff_median"
   ]
  },
  {
   "cell_type": "markdown",
   "metadata": {},
   "source": [
    "# Compare Shibayama 2013 Kepler superflares to our flares"
   ]
  },
  {
   "cell_type": "code",
   "execution_count": null,
   "metadata": {},
   "outputs": [],
   "source": [
    "ens = np.linspace(5e33,5e34,200000)\n",
    "#ens = np.linspace(5e34,5e35,200000)\n",
    "1 / np.sum(np.power(ens[:-1]*.72,-1.85) * 2.05e27 / .85 *np.diff(ens))  #M67\n",
    "365.25 / np.sum(np.power(ens[:-1]*.72,-1.85) * 5.2e28 / .85 *np.diff(ens))  # Pleiades"
   ]
  },
  {
   "cell_type": "code",
   "execution_count": null,
   "metadata": {},
   "outputs": [],
   "source": [
    "1/800, 1/5000"
   ]
  },
  {
   "cell_type": "code",
   "execution_count": null,
   "metadata": {},
   "outputs": [],
   "source": [
    "800/18, 5000/128"
   ]
  },
  {
   "cell_type": "code",
   "execution_count": null,
   "metadata": {},
   "outputs": [],
   "source": [
    "np.power(1e34,-1.85) * 2.05e27 / .85"
   ]
  },
  {
   "cell_type": "code",
   "execution_count": null,
   "metadata": {},
   "outputs": [],
   "source": [
    "18-130 "
   ]
  },
  {
   "cell_type": "markdown",
   "metadata": {},
   "source": [
    "## OLD paper vs. NEW paper"
   ]
  },
  {
   "cell_type": "code",
   "execution_count": null,
   "metadata": {},
   "outputs": [],
   "source": [
    "def f(alpha, beta, E):\n",
    "    return np.power(10,beta) / (alpha-1) * np.power(E,-alpha+1)"
   ]
  },
  {
   "cell_type": "code",
   "execution_count": null,
   "metadata": {},
   "outputs": [],
   "source": [
    "f(1.87, np.log10(.5e29), 1e33)"
   ]
  },
  {
   "cell_type": "code",
   "execution_count": null,
   "metadata": {
    "scrolled": false
   },
   "outputs": [],
   "source": [
    "resed"
   ]
  },
  {
   "cell_type": "code",
   "execution_count": null,
   "metadata": {},
   "outputs": [],
   "source": []
  }
 ],
 "metadata": {
  "kernelspec": {
   "display_name": "forallpurposes",
   "language": "python",
   "name": "forallpurposes"
  },
  "language_info": {
   "codemirror_mode": {
    "name": "ipython",
    "version": 3
   },
   "file_extension": ".py",
   "mimetype": "text/x-python",
   "name": "python",
   "nbconvert_exporter": "python",
   "pygments_lexer": "ipython3",
   "version": "3.6.9"
  }
 },
 "nbformat": 4,
 "nbformat_minor": 4
}
