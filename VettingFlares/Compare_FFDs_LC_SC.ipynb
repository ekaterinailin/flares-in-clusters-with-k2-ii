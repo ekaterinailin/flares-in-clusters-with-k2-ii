{
 "cells": [
  {
   "cell_type": "code",
   "execution_count": 19,
   "metadata": {},
   "outputs": [],
   "source": [
    "import pandas as pd\n",
    "import numpy as np\n",
    "\n",
    "import matplotlib.pyplot as plt\n",
    "\n",
    "from altaipony.ffd import FFD\n",
    "\n",
    "import time\n",
    "tstamp = time.strftime(\"%d_%m_%Y_%H_%M\", time.localtime())\n",
    "\n",
    "for att in ['axes.labelsize', 'axes.titlesize', 'legend.fontsize',\n",
    "            'legend.fontsize', 'xtick.labelsize', 'ytick.labelsize']:\n",
    "    plt.rcParams[att] = 13\n",
    "\n",
    "paperdir=\"/home/ekaterina/Documents/002_writing/flares-in-clusters-ii-draft/Flares_in_Clusters_with_K2_2/\"\n",
    "\n",
    "import logging\n",
    "logger = logging.getLogger()\n",
    "logger.setLevel(logging.CRITICAL)"
   ]
  },
  {
   "cell_type": "markdown",
   "metadata": {},
   "source": [
    "211931651, 211970427 (x2) stars with both LC and SC"
   ]
  },
  {
   "cell_type": "code",
   "execution_count": 3,
   "metadata": {},
   "outputs": [],
   "source": [
    "EPIC = 211970427"
   ]
  },
  {
   "cell_type": "code",
   "execution_count": 4,
   "metadata": {},
   "outputs": [],
   "source": [
    "df = pd.read_csv(\"../k2scoc/results/tables/2020_05_final_flares.csv\")\n",
    "dfsc =pd.read_csv(\"../k2scoc/results/tables/SC_flares.csv\")"
   ]
  },
  {
   "cell_type": "code",
   "execution_count": 5,
   "metadata": {},
   "outputs": [],
   "source": [
    "sdf = df[(df.EPIC==EPIC) & (df.real==1)]\n",
    "sdfsc = dfsc[(dfsc.EPIC==EPIC)]"
   ]
  },
  {
   "cell_type": "code",
   "execution_count": 33,
   "metadata": {},
   "outputs": [
    {
     "data": {
      "text/html": [
       "<div>\n",
       "<style scoped>\n",
       "    .dataframe tbody tr th:only-of-type {\n",
       "        vertical-align: middle;\n",
       "    }\n",
       "\n",
       "    .dataframe tbody tr th {\n",
       "        vertical-align: top;\n",
       "    }\n",
       "\n",
       "    .dataframe thead th {\n",
       "        text-align: right;\n",
       "    }\n",
       "</style>\n",
       "<table border=\"1\" class=\"dataframe\">\n",
       "  <thead>\n",
       "    <tr style=\"text-align: right;\">\n",
       "      <th></th>\n",
       "      <th>istart</th>\n",
       "      <th>istop</th>\n",
       "      <th>cstart</th>\n",
       "      <th>cstop</th>\n",
       "      <th>tstart</th>\n",
       "      <th>tstop</th>\n",
       "      <th>ed_rec</th>\n",
       "      <th>ed_rec_err</th>\n",
       "      <th>ampl_rec</th>\n",
       "      <th>dtp_tot</th>\n",
       "      <th>C</th>\n",
       "      <th>EPIC</th>\n",
       "      <th>i</th>\n",
       "      <th>Unnamed: 13</th>\n",
       "    </tr>\n",
       "  </thead>\n",
       "  <tbody>\n",
       "    <tr>\n",
       "      <th>172</th>\n",
       "      <td>779</td>\n",
       "      <td>782</td>\n",
       "      <td>4913180</td>\n",
       "      <td>4913183</td>\n",
       "      <td>3463.248072</td>\n",
       "      <td>3463.250115</td>\n",
       "      <td>1.348815</td>\n",
       "      <td>0.187110</td>\n",
       "      <td>0.008444</td>\n",
       "      <td>2020</td>\n",
       "      <td>18</td>\n",
       "      <td>211970427</td>\n",
       "      <td>32</td>\n",
       "      <td>NaN</td>\n",
       "    </tr>\n",
       "    <tr>\n",
       "      <th>155</th>\n",
       "      <td>584</td>\n",
       "      <td>587</td>\n",
       "      <td>4892824</td>\n",
       "      <td>4892827</td>\n",
       "      <td>3449.384506</td>\n",
       "      <td>3449.386550</td>\n",
       "      <td>1.420156</td>\n",
       "      <td>0.184604</td>\n",
       "      <td>0.008569</td>\n",
       "      <td>2020</td>\n",
       "      <td>18</td>\n",
       "      <td>211970427</td>\n",
       "      <td>22</td>\n",
       "      <td>NaN</td>\n",
       "    </tr>\n",
       "    <tr>\n",
       "      <th>33</th>\n",
       "      <td>997</td>\n",
       "      <td>1000</td>\n",
       "      <td>3238263</td>\n",
       "      <td>3238266</td>\n",
       "      <td>2322.430820</td>\n",
       "      <td>2322.432863</td>\n",
       "      <td>1.453579</td>\n",
       "      <td>0.164130</td>\n",
       "      <td>0.012645</td>\n",
       "      <td>2020</td>\n",
       "      <td>5</td>\n",
       "      <td>211970427</td>\n",
       "      <td>11</td>\n",
       "      <td>NaN</td>\n",
       "    </tr>\n",
       "    <tr>\n",
       "      <th>75</th>\n",
       "      <td>1794</td>\n",
       "      <td>1797</td>\n",
       "      <td>3273343</td>\n",
       "      <td>3273346</td>\n",
       "      <td>2346.322289</td>\n",
       "      <td>2346.324332</td>\n",
       "      <td>1.512076</td>\n",
       "      <td>0.181252</td>\n",
       "      <td>0.008702</td>\n",
       "      <td>2020</td>\n",
       "      <td>5</td>\n",
       "      <td>211970427</td>\n",
       "      <td>28</td>\n",
       "      <td>NaN</td>\n",
       "    </tr>\n",
       "    <tr>\n",
       "      <th>177</th>\n",
       "      <td>552</td>\n",
       "      <td>555</td>\n",
       "      <td>4921038</td>\n",
       "      <td>4921041</td>\n",
       "      <td>3468.599798</td>\n",
       "      <td>3468.601841</td>\n",
       "      <td>1.532725</td>\n",
       "      <td>0.180600</td>\n",
       "      <td>0.012548</td>\n",
       "      <td>1691</td>\n",
       "      <td>18</td>\n",
       "      <td>211970427</td>\n",
       "      <td>36</td>\n",
       "      <td>NaN</td>\n",
       "    </tr>\n",
       "    <tr>\n",
       "      <th>117</th>\n",
       "      <td>1648</td>\n",
       "      <td>1651</td>\n",
       "      <td>4855207</td>\n",
       "      <td>4855210</td>\n",
       "      <td>3423.764967</td>\n",
       "      <td>3423.767010</td>\n",
       "      <td>1.533508</td>\n",
       "      <td>0.177324</td>\n",
       "      <td>0.011347</td>\n",
       "      <td>2020</td>\n",
       "      <td>18</td>\n",
       "      <td>211970427</td>\n",
       "      <td>3</td>\n",
       "      <td>NaN</td>\n",
       "    </tr>\n",
       "    <tr>\n",
       "      <th>109</th>\n",
       "      <td>108</td>\n",
       "      <td>111</td>\n",
       "      <td>3324236</td>\n",
       "      <td>3324239</td>\n",
       "      <td>2380.983333</td>\n",
       "      <td>2380.985376</td>\n",
       "      <td>1.566075</td>\n",
       "      <td>0.190028</td>\n",
       "      <td>0.011258</td>\n",
       "      <td>725</td>\n",
       "      <td>5</td>\n",
       "      <td>211970427</td>\n",
       "      <td>54</td>\n",
       "      <td>NaN</td>\n",
       "    </tr>\n",
       "    <tr>\n",
       "      <th>94</th>\n",
       "      <td>897</td>\n",
       "      <td>900</td>\n",
       "      <td>3304891</td>\n",
       "      <td>3304894</td>\n",
       "      <td>2367.808225</td>\n",
       "      <td>2367.810268</td>\n",
       "      <td>1.582007</td>\n",
       "      <td>0.175204</td>\n",
       "      <td>0.013624</td>\n",
       "      <td>2020</td>\n",
       "      <td>5</td>\n",
       "      <td>211970427</td>\n",
       "      <td>44</td>\n",
       "      <td>NaN</td>\n",
       "    </tr>\n",
       "    <tr>\n",
       "      <th>126</th>\n",
       "      <td>1372</td>\n",
       "      <td>1375</td>\n",
       "      <td>4865096</td>\n",
       "      <td>4865099</td>\n",
       "      <td>3430.500049</td>\n",
       "      <td>3430.502092</td>\n",
       "      <td>1.588513</td>\n",
       "      <td>0.176204</td>\n",
       "      <td>0.012322</td>\n",
       "      <td>2020</td>\n",
       "      <td>18</td>\n",
       "      <td>211970427</td>\n",
       "      <td>8</td>\n",
       "      <td>NaN</td>\n",
       "    </tr>\n",
       "    <tr>\n",
       "      <th>40</th>\n",
       "      <td>230</td>\n",
       "      <td>233</td>\n",
       "      <td>3249578</td>\n",
       "      <td>3249581</td>\n",
       "      <td>2330.137002</td>\n",
       "      <td>2330.139045</td>\n",
       "      <td>1.661394</td>\n",
       "      <td>0.172938</td>\n",
       "      <td>0.011685</td>\n",
       "      <td>2020</td>\n",
       "      <td>5</td>\n",
       "      <td>211970427</td>\n",
       "      <td>17</td>\n",
       "      <td>NaN</td>\n",
       "    </tr>\n",
       "    <tr>\n",
       "      <th>66</th>\n",
       "      <td>279</td>\n",
       "      <td>282</td>\n",
       "      <td>3263720</td>\n",
       "      <td>3263723</td>\n",
       "      <td>2339.768499</td>\n",
       "      <td>2339.770542</td>\n",
       "      <td>1.663239</td>\n",
       "      <td>0.161725</td>\n",
       "      <td>0.015402</td>\n",
       "      <td>2020</td>\n",
       "      <td>5</td>\n",
       "      <td>211970427</td>\n",
       "      <td>24</td>\n",
       "      <td>NaN</td>\n",
       "    </tr>\n",
       "    <tr>\n",
       "      <th>145</th>\n",
       "      <td>1327</td>\n",
       "      <td>1330</td>\n",
       "      <td>4885540</td>\n",
       "      <td>4885543</td>\n",
       "      <td>3444.423681</td>\n",
       "      <td>3444.425724</td>\n",
       "      <td>1.676693</td>\n",
       "      <td>0.182311</td>\n",
       "      <td>0.009945</td>\n",
       "      <td>2020</td>\n",
       "      <td>18</td>\n",
       "      <td>211970427</td>\n",
       "      <td>18</td>\n",
       "      <td>NaN</td>\n",
       "    </tr>\n",
       "    <tr>\n",
       "      <th>143</th>\n",
       "      <td>1988</td>\n",
       "      <td>1991</td>\n",
       "      <td>4880171</td>\n",
       "      <td>4880174</td>\n",
       "      <td>3440.767073</td>\n",
       "      <td>3440.769116</td>\n",
       "      <td>1.757885</td>\n",
       "      <td>0.181269</td>\n",
       "      <td>0.011043</td>\n",
       "      <td>2020</td>\n",
       "      <td>18</td>\n",
       "      <td>211970427</td>\n",
       "      <td>15</td>\n",
       "      <td>NaN</td>\n",
       "    </tr>\n",
       "    <tr>\n",
       "      <th>57</th>\n",
       "      <td>1716</td>\n",
       "      <td>1719</td>\n",
       "      <td>3259130</td>\n",
       "      <td>3259133</td>\n",
       "      <td>2336.642455</td>\n",
       "      <td>2336.644498</td>\n",
       "      <td>1.782917</td>\n",
       "      <td>0.171185</td>\n",
       "      <td>0.013149</td>\n",
       "      <td>2020</td>\n",
       "      <td>5</td>\n",
       "      <td>211970427</td>\n",
       "      <td>21</td>\n",
       "      <td>NaN</td>\n",
       "    </tr>\n",
       "    <tr>\n",
       "      <th>64</th>\n",
       "      <td>1098</td>\n",
       "      <td>1102</td>\n",
       "      <td>3262538</td>\n",
       "      <td>3262542</td>\n",
       "      <td>2338.963492</td>\n",
       "      <td>2338.966216</td>\n",
       "      <td>1.823914</td>\n",
       "      <td>0.190079</td>\n",
       "      <td>0.012965</td>\n",
       "      <td>2020</td>\n",
       "      <td>5</td>\n",
       "      <td>211970427</td>\n",
       "      <td>23</td>\n",
       "      <td>NaN</td>\n",
       "    </tr>\n",
       "    <tr>\n",
       "      <th>39</th>\n",
       "      <td>1164</td>\n",
       "      <td>1168</td>\n",
       "      <td>3248494</td>\n",
       "      <td>3248498</td>\n",
       "      <td>2329.398736</td>\n",
       "      <td>2329.401460</td>\n",
       "      <td>1.842613</td>\n",
       "      <td>0.198076</td>\n",
       "      <td>0.010442</td>\n",
       "      <td>2020</td>\n",
       "      <td>5</td>\n",
       "      <td>211970427</td>\n",
       "      <td>16</td>\n",
       "      <td>NaN</td>\n",
       "    </tr>\n",
       "    <tr>\n",
       "      <th>116</th>\n",
       "      <td>1096</td>\n",
       "      <td>1100</td>\n",
       "      <td>4854654</td>\n",
       "      <td>4854658</td>\n",
       "      <td>3423.388335</td>\n",
       "      <td>3423.391059</td>\n",
       "      <td>1.867272</td>\n",
       "      <td>0.205797</td>\n",
       "      <td>0.010093</td>\n",
       "      <td>2020</td>\n",
       "      <td>18</td>\n",
       "      <td>211970427</td>\n",
       "      <td>3</td>\n",
       "      <td>NaN</td>\n",
       "    </tr>\n",
       "    <tr>\n",
       "      <th>59</th>\n",
       "      <td>1409</td>\n",
       "      <td>1412</td>\n",
       "      <td>3260825</td>\n",
       "      <td>3260828</td>\n",
       "      <td>2337.796844</td>\n",
       "      <td>2337.798887</td>\n",
       "      <td>1.871053</td>\n",
       "      <td>0.165455</td>\n",
       "      <td>0.016057</td>\n",
       "      <td>2020</td>\n",
       "      <td>5</td>\n",
       "      <td>211970427</td>\n",
       "      <td>22</td>\n",
       "      <td>NaN</td>\n",
       "    </tr>\n",
       "    <tr>\n",
       "      <th>43</th>\n",
       "      <td>166</td>\n",
       "      <td>170</td>\n",
       "      <td>3251515</td>\n",
       "      <td>3251519</td>\n",
       "      <td>2331.456210</td>\n",
       "      <td>2331.458934</td>\n",
       "      <td>1.937766</td>\n",
       "      <td>0.187016</td>\n",
       "      <td>0.014064</td>\n",
       "      <td>2020</td>\n",
       "      <td>5</td>\n",
       "      <td>211970427</td>\n",
       "      <td>18</td>\n",
       "      <td>SSO</td>\n",
       "    </tr>\n",
       "    <tr>\n",
       "      <th>154</th>\n",
       "      <td>575</td>\n",
       "      <td>578</td>\n",
       "      <td>4890813</td>\n",
       "      <td>4890816</td>\n",
       "      <td>3448.014900</td>\n",
       "      <td>3448.016943</td>\n",
       "      <td>1.938882</td>\n",
       "      <td>0.177807</td>\n",
       "      <td>0.013624</td>\n",
       "      <td>2020</td>\n",
       "      <td>18</td>\n",
       "      <td>211970427</td>\n",
       "      <td>21</td>\n",
       "      <td>NaN</td>\n",
       "    </tr>\n",
       "  </tbody>\n",
       "</table>\n",
       "</div>"
      ],
      "text/plain": [
       "     istart  istop   cstart    cstop       tstart        tstop    ed_rec  \\\n",
       "172     779    782  4913180  4913183  3463.248072  3463.250115  1.348815   \n",
       "155     584    587  4892824  4892827  3449.384506  3449.386550  1.420156   \n",
       "33      997   1000  3238263  3238266  2322.430820  2322.432863  1.453579   \n",
       "75     1794   1797  3273343  3273346  2346.322289  2346.324332  1.512076   \n",
       "177     552    555  4921038  4921041  3468.599798  3468.601841  1.532725   \n",
       "117    1648   1651  4855207  4855210  3423.764967  3423.767010  1.533508   \n",
       "109     108    111  3324236  3324239  2380.983333  2380.985376  1.566075   \n",
       "94      897    900  3304891  3304894  2367.808225  2367.810268  1.582007   \n",
       "126    1372   1375  4865096  4865099  3430.500049  3430.502092  1.588513   \n",
       "40      230    233  3249578  3249581  2330.137002  2330.139045  1.661394   \n",
       "66      279    282  3263720  3263723  2339.768499  2339.770542  1.663239   \n",
       "145    1327   1330  4885540  4885543  3444.423681  3444.425724  1.676693   \n",
       "143    1988   1991  4880171  4880174  3440.767073  3440.769116  1.757885   \n",
       "57     1716   1719  3259130  3259133  2336.642455  2336.644498  1.782917   \n",
       "64     1098   1102  3262538  3262542  2338.963492  2338.966216  1.823914   \n",
       "39     1164   1168  3248494  3248498  2329.398736  2329.401460  1.842613   \n",
       "116    1096   1100  4854654  4854658  3423.388335  3423.391059  1.867272   \n",
       "59     1409   1412  3260825  3260828  2337.796844  2337.798887  1.871053   \n",
       "43      166    170  3251515  3251519  2331.456210  2331.458934  1.937766   \n",
       "154     575    578  4890813  4890816  3448.014900  3448.016943  1.938882   \n",
       "\n",
       "     ed_rec_err  ampl_rec  dtp_tot   C       EPIC   i Unnamed: 13  \n",
       "172    0.187110  0.008444     2020  18  211970427  32         NaN  \n",
       "155    0.184604  0.008569     2020  18  211970427  22         NaN  \n",
       "33     0.164130  0.012645     2020   5  211970427  11         NaN  \n",
       "75     0.181252  0.008702     2020   5  211970427  28         NaN  \n",
       "177    0.180600  0.012548     1691  18  211970427  36         NaN  \n",
       "117    0.177324  0.011347     2020  18  211970427   3         NaN  \n",
       "109    0.190028  0.011258      725   5  211970427  54         NaN  \n",
       "94     0.175204  0.013624     2020   5  211970427  44         NaN  \n",
       "126    0.176204  0.012322     2020  18  211970427   8         NaN  \n",
       "40     0.172938  0.011685     2020   5  211970427  17         NaN  \n",
       "66     0.161725  0.015402     2020   5  211970427  24         NaN  \n",
       "145    0.182311  0.009945     2020  18  211970427  18         NaN  \n",
       "143    0.181269  0.011043     2020  18  211970427  15         NaN  \n",
       "57     0.171185  0.013149     2020   5  211970427  21         NaN  \n",
       "64     0.190079  0.012965     2020   5  211970427  23         NaN  \n",
       "39     0.198076  0.010442     2020   5  211970427  16         NaN  \n",
       "116    0.205797  0.010093     2020  18  211970427   3         NaN  \n",
       "59     0.165455  0.016057     2020   5  211970427  22         NaN  \n",
       "43     0.187016  0.014064     2020   5  211970427  18         SSO  \n",
       "154    0.177807  0.013624     2020  18  211970427  21         NaN  "
      ]
     },
     "execution_count": 33,
     "metadata": {},
     "output_type": "execute_result"
    }
   ],
   "source": [
    "sdfsc.sort_values(by=\"ed_rec\").head(20)"
   ]
  },
  {
   "cell_type": "code",
   "execution_count": 54,
   "metadata": {},
   "outputs": [
    {
     "data": {
      "text/plain": [
       "(0.14685314685314685, 0.14285714285714285)"
      ]
     },
     "execution_count": 54,
     "metadata": {},
     "output_type": "execute_result"
    }
   ],
   "source": [
    "sdfsc[(sdfsc.ed_rec < 2.)].shape[0] / sdfsc[(sdfsc.ed_rec > 2.)].shape[0], sdf[(sdf.ed_rec < 50.)].shape[0] / sdf[(sdf.ed_rec > 50.)].shape[0]"
   ]
  },
  {
   "cell_type": "code",
   "execution_count": 6,
   "metadata": {},
   "outputs": [],
   "source": [
    "tobs_sdf = sdf.dtp_tot.unique().sum() / 2. / 24 / 365.25\n",
    "tobs_sdf_dict = {211931651:73658,\n",
    "            211970427: 73665+108595} #total data points in 1min cadence\n",
    "tobs_sdfsc = tobs_sdf_dict[EPIC] / 60 / 24 / 365.25"
   ]
  },
  {
   "cell_type": "code",
   "execution_count": 7,
   "metadata": {},
   "outputs": [
    {
     "data": {
      "text/plain": [
       "(0.5396988364134154, 0.34652825309909496)"
      ]
     },
     "execution_count": 7,
     "metadata": {},
     "output_type": "execute_result"
    }
   ],
   "source": [
    "tobs_sdf, tobs_sdfsc"
   ]
  },
  {
   "cell_type": "code",
   "execution_count": 9,
   "metadata": {},
   "outputs": [
    {
     "data": {
      "image/png": "[encoded data removed]",
      "text/plain": [
       "<Figure size 576x432 with 1 Axes>"
      ]
     },
     "metadata": {
      "needs_background": "light"
     },
     "output_type": "display_data"
    }
   ],
   "source": [
    "fig, ax =  plt.subplots(1, figsize=(8,6))"
   ]
  },
  {
   "cell_type": "code",
   "execution_count": 43,
   "metadata": {},
   "outputs": [
    {
     "name": "stderr",
     "output_type": "stream",
     "text": [
      "/home/ekaterina/Documents/000_envs/forallpurposes/lib/python3.6/site-packages/emcee/moves/red_blue.py:97: RuntimeWarning: invalid value encountered in double_scalars\n",
      "  lnpdiff = f + nlp - state.log_prob[j]\n",
      "/home/ekaterina/Documents/000_envs/forallpurposes/lib/python3.6/site-packages/altaipony-0.0.1-py3.6.egg/altaipony/wheatland.py:313: RuntimeWarning: invalid value encountered in log\n",
      "  f2 = M * np.log(alpha - 1)\n",
      "100%|██████████| 500/500 [00:05<00:00, 93.45it/s]\n",
      "100%|██████████| 500/500 [00:05<00:00, 94.63it/s]\n",
      "100%|██████████| 500/500 [00:05<00:00, 94.92it/s]\n",
      "100%|██████████| 500/500 [00:05<00:00, 95.42it/s]\n",
      "100%|██████████| 500/500 [00:05<00:00, 94.27it/s]\n",
      "100%|██████████| 500/500 [00:05<00:00, 94.84it/s]\n",
      "100%|██████████| 500/500 [00:05<00:00, 88.54it/s]\n",
      "100%|██████████| 500/500 [00:05<00:00, 91.37it/s]\n",
      "100%|██████████| 500/500 [00:05<00:00, 95.88it/s]\n",
      "100%|██████████| 500/500 [00:05<00:00, 95.70it/s]\n",
      "100%|██████████| 500/500 [00:05<00:00, 96.12it/s]\n"
     ]
    }
   ],
   "source": [
    "# Long cadence\n",
    "ffd1 = FFD(f=sdf[sdf.ed_rec>50.], tot_obs_time=tobs_sdf, ID=\"EPIC\")\n",
    "\n",
    "ed, freq, counts = ffd1.ed_and_freq(energy_correction=False,\n",
    "                            recovery_probability_correction=False,\n",
    "                             multiple_stars=False)\n",
    "\n",
    "\n",
    "ax.scatter(ed, freq, c=\"k\",alpha=0.7, marker=\"d\", label=f\"EPIC {EPIC} long cadence\")\n",
    "\n",
    "BFA1 = ffd1.fit_powerlaw(\"mcmc\")\n",
    "a1, ea1up, ea1low = ffd1.alpha, ffd1.alpha_up_err, ffd1.alpha_low_err\n",
    "b1, eb1up, eb1low = ffd1.beta, ffd1.beta_up_err, ffd1.beta_low_err\n",
    "# ffd.plot_powerlaw(ax=ax, c=\"k\")"
   ]
  },
  {
   "cell_type": "code",
   "execution_count": 35,
   "metadata": {},
   "outputs": [
    {
     "name": "stderr",
     "output_type": "stream",
     "text": [
      "100%|██████████| 500/500 [00:06<00:00, 75.66it/s]\n",
      "100%|██████████| 500/500 [00:06<00:00, 75.50it/s]\n",
      "100%|██████████| 500/500 [00:06<00:00, 79.66it/s]\n"
     ]
    },
    {
     "data": {
      "text/plain": [
       "Text(0, 0.5, 'cumulative number of flares [yr$^{-1}$]')"
      ]
     },
     "execution_count": 35,
     "metadata": {},
     "output_type": "execute_result"
    },
    {
     "data": {
      "image/png": "[encoded data removed]",
      "text/plain": [
       "<Figure size 432x288 with 1 Axes>"
      ]
     },
     "metadata": {
      "needs_background": "light"
     },
     "output_type": "display_data"
    }
   ],
   "source": [
    "# Short cadence\n",
    "ffd2 = FFD(f=sdfsc[sdfsc.ed_rec>2.], tot_obs_time=tobs_sdfsc, ID=\"EPIC\")\n",
    "\n",
    "ed, freq, counts = ffd2.ed_and_freq(energy_correction=False,\n",
    "                            recovery_probability_correction=False,\n",
    "                             multiple_stars=False)\n",
    "ax.scatter(ed, freq, c=\"r\", marker=\"*\", label= f\"EPIC {EPIC} short cadence\")\n",
    "\n",
    "BFA2 = ffd2.fit_powerlaw(\"mcmc\")\n",
    "a2, ea2up, ea2low = ffd2.alpha, ffd2.alpha_up_err, ffd2.alpha_low_err\n",
    "b2, eb2up, eb2low = ffd2.beta, ffd2.beta_up_err, ffd2.beta_low_err\n",
    "ffd.plot_powerlaw(ax=ax, c=\"k\")\n",
    "\n",
    "#ffd.alpha_prior = 2.\n",
    "# ffd.beta_prior=800\n",
    "\n",
    "# BFA = ffd.fit_mcmc_powerlaw(steps=200, loglikelihood=loglikelihood_gauss_wheatland_ed)\n",
    "# print(f\"Fitted power law alpha={ffd.alpha}({ffd.alpha_up_err}/{ffd.alpha_low_err})\")\n",
    "# print(f\"Fitted power law beta={ffd.beta}({ffd.beta_up_err}/{ffd.beta_low_err})\")\n",
    "\n",
    "# ispowerlaw = ffd.is_powerlaw()\n",
    "# truncated = ffd.is_powerlaw_truncated()\n",
    "\n",
    "# ffd.plot_mcmc_powerlaw(ax, BFA, subset=50, linewidth=5, c=\"tomato\", alpha=.005, zorder=-1)\n",
    "# ax.scatter(ffd.ed, ffd.freq, marker=\"*\", c=\"dimgrey\", )#label=\"all flaring stars contribute = above detection threshold\")\n",
    "# a, x, y = ffd.plot_powerlaw(ax, c=\"r\", \n",
    "#                             label=(fr\"$\\alpha=${ffd.alpha:.2f}, \"\n",
    "#                                    fr\"$\\beta=${int(np.rint(ffd.beta))}\" + r\" yr$^{-1}$\"))\n",
    "\n",
    "plt.xscale(\"log\")\n",
    "plt.yscale(\"log\")\n",
    "plt.legend(frameon=False)\n",
    "plt.xlabel(\"ED [s]\")\n",
    "plt.ylabel(r\"cumulative number of flares [yr$^{-1}$]\")\n",
    "\n",
    "\n",
    "# plt.savefig(f\"plots/{tstamp}_full_sample_ffd_ED_wheatland.png\", dpi=300)\n",
    "# plt.savefig(f\"{paperdir}pics/FFDs/full_sample_ffd_ED_wheatland.png\", dpi=300)\n",
    "\n",
    "# plt.savefig(f\"plots/{tstamp}_EPIC{EPIC}_long_vs_short_cadence_ffd.png\", dpi=300)\n",
    "# plt.savefig(f\"{paperdir}pics/FFDs/EPIC{EPIC}_long_vs_short_cadence_ffd.png\", dpi=300)"
   ]
  },
  {
   "cell_type": "code",
   "execution_count": 72,
   "metadata": {
    "scrolled": false
   },
   "outputs": [
    {
     "data": {
      "image/png": "[encoded data removed]",
      "text/plain": [
       "<Figure size 576x432 with 1 Axes>"
      ]
     },
     "metadata": {
      "needs_background": "light"
     },
     "output_type": "display_data"
    }
   ],
   "source": [
    "fig, ax =  plt.subplots(1, figsize=(8,6))\n",
    "\n",
    "inds = np.random.randint(len(BFA2.samples), size=500)\n",
    "for ind in inds:\n",
    "    beta,alpha = BFA2.samples[ind]\n",
    "    ffd = FFD(alpha=alpha, beta=beta)\n",
    "    ffd.ed = np.linspace(sdfsc.ed_rec.min(),sdfsc.ed_rec.max(),4)\n",
    "    ffd.plot_powerlaw(ax=ax, c=\"grey\", alpha=.01, linewidth=3,zorder=-10)\n",
    "    \n",
    "    \n",
    "\n",
    "\n",
    "inds = np.random.randint(len(BFA1.samples), size=500)\n",
    "for ind in inds:\n",
    "    beta,alpha = BFA1.samples[ind]\n",
    "    ffd = FFD(alpha=alpha, beta=beta)\n",
    "    ffd.ed = np.linspace(sdf.ed_rec.min(),sdf.ed_rec.max(),4)\n",
    "    ffd.plot_powerlaw(ax=ax, c=\"r\", alpha=.01, linewidth=3,zorder=-10)\n",
    "    \n",
    "    \n",
    "ffd = FFD(f=sdf, tot_obs_time=tobs_sdf, ID=\"EPIC\")\n",
    "\n",
    "ed, freq, counts = ffd.ed_and_freq(energy_correction=False,\n",
    "                            recovery_probability_correction=False,\n",
    "                             multiple_stars=False)\n",
    "ax.scatter(ed, freq, c=\"r\", marker=\"d\", label= f\"EPIC {EPIC} long cadence\")\n",
    "\n",
    "ffd = FFD(f=sdfsc, tot_obs_time=tobs_sdfsc, ID=\"EPIC\")\n",
    "\n",
    "ed, freq, counts = ffd.ed_and_freq(energy_correction=False,\n",
    "                            recovery_probability_correction=False,\n",
    "                             multiple_stars=False)\n",
    "ax.scatter(ed, freq, c=\"k\", marker=\"*\", label= f\"EPIC {EPIC} short cadence\")\n",
    "\n",
    "ax.set_yscale(\"log\")\n",
    "ax.set_xscale(\"log\")\n",
    "\n",
    "plt.legend(frameon=False)\n",
    "plt.xlabel(\"ED [s]\")\n",
    "plt.ylabel(r\"cumulative number of flares [yr$^{-1}$]\")\n",
    "plt.ylim(1,1e3)\n",
    "\n",
    "plt.savefig(f\"plots/{tstamp}_full_sample_ffd_ED_wheatland.png\", dpi=300)\n",
    "plt.savefig(f\"{paperdir}pics/FFDs/full_sample_ffd_ED_wheatland.png\", dpi=300)\n",
    "\n",
    "plt.savefig(f\"plots/{tstamp}_EPIC{EPIC}_long_vs_short_cadence_ffd.png\", dpi=300)\n",
    "plt.savefig(f\"{paperdir}pics/FFDs/EPIC{EPIC}_long_vs_short_cadence_ffd.png\", dpi=300)"
   ]
  },
  {
   "cell_type": "code",
   "execution_count": null,
   "metadata": {},
   "outputs": [],
   "source": []
  },
  {
   "cell_type": "code",
   "execution_count": 61,
   "metadata": {},
   "outputs": [
    {
     "data": {
      "text/plain": [
       "(1.7274139809322437,\n",
       " 0.06231207837537278,\n",
       " 0.058644033349593894,\n",
       " 500.7361603991305,\n",
       " 80.8792747648161,\n",
       " 70.17195872238779)"
      ]
     },
     "execution_count": 61,
     "metadata": {},
     "output_type": "execute_result"
    }
   ],
   "source": [
    "a2, ea2up, ea2low, b2, eb2up, eb2low"
   ]
  },
  {
   "cell_type": "code",
   "execution_count": 62,
   "metadata": {},
   "outputs": [
    {
     "data": {
      "text/plain": [
       "(1.9915420929012821,\n",
       " 0.27855402030391474,\n",
       " 0.234279493615823,\n",
       " 1573.7465744832427,\n",
       " 4946.6302135710985,\n",
       " 1126.451744552741)"
      ]
     },
     "execution_count": 62,
     "metadata": {},
     "output_type": "execute_result"
    }
   ],
   "source": [
    "a1, ea1up, ea1low, b1, eb1up, eb1low"
   ]
  },
  {
   "cell_type": "code",
   "execution_count": null,
   "metadata": {},
   "outputs": [],
   "source": [
    "sdf.sort_values(by=\"ed_rec\", ascending=True).C.unique()"
   ]
  },
  {
   "cell_type": "code",
   "execution_count": null,
   "metadata": {},
   "outputs": [],
   "source": [
    "sdfsc.sort_values(by=\"ed_rec\", ascending=False).head(4)"
   ]
  },
  {
   "cell_type": "code",
   "execution_count": null,
   "metadata": {},
   "outputs": [],
   "source": [
    "plt.scatter(sdf[sdf.C==18].tstart, sdf[sdf.C==18].ed_rec, c=\"k\")\n",
    "plt.scatter(sdfsc.tstart, sdfsc.ed_rec)"
   ]
  },
  {
   "cell_type": "code",
   "execution_count": null,
   "metadata": {},
   "outputs": [],
   "source": [
    "from altaipony.wheatland import calculate_joint_posterior_distribution, gaussian_prior\n",
    "\n",
    "def loglikelihood_gauss_wheatland_ed(theta, *args):\n",
    "    '''Log likelihood to pass to BayesianFlaringAnalysis\n",
    "    for fitting the powerlaw following Wheatland 2004.\n",
    "    Using a gaussian prior for alpha.\n",
    "    '''\n",
    "    mu = float(open(f\"{paperdir}values/gauss_wheatland_alpha_mu.txt\", \"r\").read())\n",
    "    sigma = float(open(f\"{paperdir}values/gauss_wheatland_alpha_sigma.txt\", \"r\").read())\n",
    "    \n",
    "    def prior(x):\n",
    "        return gaussian_prior(x, mu, sigma)\n",
    "    return calculate_joint_posterior_distribution(theta, *args, prior)"
   ]
  },
  {
   "cell_type": "code",
   "execution_count": null,
   "metadata": {},
   "outputs": [],
   "source": []
  },
  {
   "cell_type": "code",
   "execution_count": null,
   "metadata": {},
   "outputs": [],
   "source": [
    "from altaipony.lcio import from_mast, from_path"
   ]
  },
  {
   "cell_type": "code",
   "execution_count": null,
   "metadata": {},
   "outputs": [],
   "source": [
    "flc1 = from_mast(\"EPIC 211931651\", c=13, mission=\"K2\", mode=\"LC\" ,cadence=\"long\")"
   ]
  },
  {
   "cell_type": "code",
   "execution_count": null,
   "metadata": {},
   "outputs": [],
   "source": [
    "flc1.plot()\n",
    "#plt.ylim(110000,120000)"
   ]
  },
  {
   "cell_type": "code",
   "execution_count": null,
   "metadata": {},
   "outputs": [],
   "source": [
    "len(flc1.flux)/3000"
   ]
  },
  {
   "cell_type": "code",
   "execution_count": null,
   "metadata": {},
   "outputs": [],
   "source": [
    "flc1d = flc1.detrend(\"savgol\")"
   ]
  },
  {
   "cell_type": "code",
   "execution_count": null,
   "metadata": {},
   "outputs": [],
   "source": [
    "plt.plot(flc1d.time, flc1d.detrended_flux)\n",
    "plt.plot(flc1d.time, flc1d.flux)\n",
    "#plt.ylim(2700,4000)\n",
    "plt.xlim(2250,2255)"
   ]
  },
  {
   "cell_type": "code",
   "execution_count": null,
   "metadata": {},
   "outputs": [],
   "source": [
    "flares = flc1d.find_flares().flares"
   ]
  },
  {
   "cell_type": "code",
   "execution_count": null,
   "metadata": {},
   "outputs": [],
   "source": [
    "flc = corr_lc\n",
    "for i, r in flares2.iterrows():\n",
    "    plt.figure(figsize=(7,5))\n",
    "    plt.plot(flc.time, flc.detrended_flux,c=\"k\")\n",
    "    plt.plot(flc.time, flc.flux,c=\"b\", alpha=.3)\n",
    "    sta, sto = int(r.istart), int(r.istop)+1\n",
    "    plt.scatter(flc.time[sta:sto], flc.flux[sta:sto], c=\"r\", label=r.cstart)#, label=f\"EPIC {EPIC}, C{C}\")#\n",
    "    plt.xlim(r.tstart-.2,r.tstop+.2)\n",
    "    plt.ylim(.9,1.1)\n",
    "    plt.legend()\n",
    "   # plt.savefig(f\"plots/EPIC_{EPIC}_C{C}_{r.istart}_multiperiod.png\",dpi=300)\n",
    "    #print(r.istart)"
   ]
  },
  {
   "cell_type": "code",
   "execution_count": null,
   "metadata": {},
   "outputs": [],
   "source": [
    "\n",
    "# Remove nans and outliers\n",
    "lc = flc1.remove_nans().remove_outliers()\n",
    "\n",
    "# Remove long term trends\n",
    "lc = lc.flatten(window_length=401)\n",
    "\n"
   ]
  },
  {
   "cell_type": "code",
   "execution_count": null,
   "metadata": {},
   "outputs": [],
   "source": [
    "corr_lc = lc.to_corrector(\"sff\").correct(windows=10)"
   ]
  },
  {
   "cell_type": "code",
   "execution_count": null,
   "metadata": {},
   "outputs": [],
   "source": [
    "corr_lcd = corr_lc.detrend(\"savgol\")\n",
    "flares2 = corr_lcd.find_flares().flares"
   ]
  },
  {
   "cell_type": "code",
   "execution_count": null,
   "metadata": {},
   "outputs": [],
   "source": [
    "flck2sc = from_path(f\"../k2scoc/pony_k2sc_k2_llc_{ID}-c13_kepler_v2_lc.fits\", mode=\"AltaiPony\", mission=\"K2\")"
   ]
  },
  {
   "cell_type": "code",
   "execution_count": null,
   "metadata": {},
   "outputs": [],
   "source": [
    "for x in range(0,80,4):\n",
    "    plt.figure(figsize=(10,4))\n",
    "    plt.plot(flck2sc.time, flck2sc.detrended_flux)\n",
    "    plt.plot(corr_lc.time, corr_lc.flux*4e5)\n",
    "    plt.plot(corr_lcd.time, corr_lcd.detrended_flux*4e5)\n",
    "    #plt.plot(flc1d.time, flc1d.detrended_flux, label=\"detrended savgol\")\n",
    "    #plt.plot(flc1d.time, flc1d.flux)\n",
    "\n",
    "    #plt.ylim(11100,12700)\n",
    "    plt.xlim(2980+x,2984+x)"
   ]
  },
  {
   "cell_type": "code",
   "execution_count": null,
   "metadata": {},
   "outputs": [],
   "source": [
    "ra = pd.read_csv(\"tables/raetz2020.tsv\", delimiter=\"\\t\", skiprows=82)"
   ]
  },
  {
   "cell_type": "code",
   "execution_count": null,
   "metadata": {},
   "outputs": [],
   "source": [
    "ras = set(ra.EPIC.values)"
   ]
  },
  {
   "cell_type": "code",
   "execution_count": null,
   "metadata": {},
   "outputs": [],
   "source": [
    "dfs = set(df.loc[df.todrop.isnull(),\"EPIC\"].values)"
   ]
  },
  {
   "cell_type": "code",
   "execution_count": null,
   "metadata": {},
   "outputs": [],
   "source": [
    "ras.intersection(dfs)"
   ]
  },
  {
   "cell_type": "code",
   "execution_count": null,
   "metadata": {},
   "outputs": [],
   "source": [
    "ID = 210651981\n",
    "\n",
    "ra.loc[ra.EPIC==ID, \"Nflares(LC)\"].values, df[(df.real==1) &(df.EPIC==ID) & (df.todrop.isnull())].shape[0], df[(df.EPIC==ID) & (df.todrop.isnull())].shape[0] "
   ]
  },
  {
   "cell_type": "code",
   "execution_count": null,
   "metadata": {},
   "outputs": [],
   "source": [
    "210317378, 6, "
   ]
  }
 ],
 "metadata": {
  "kernelspec": {
   "display_name": "forallpurposes",
   "language": "python",
   "name": "forallpurposes"
  },
  "language_info": {
   "codemirror_mode": {
    "name": "ipython",
    "version": 3
   },
   "file_extension": ".py",
   "mimetype": "text/x-python",
   "name": "python",
   "nbconvert_exporter": "python",
   "pygments_lexer": "ipython3",
   "version": "3.6.9"
  }
 },
 "nbformat": 4,
 "nbformat_minor": 2
}
