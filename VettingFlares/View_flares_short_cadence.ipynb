{
 "cells": [
  {
   "cell_type": "code",
   "execution_count": null,
   "metadata": {},
   "outputs": [],
   "source": [
    "import pandas as pd\n",
    "import numpy as np\n",
    "from custom_detrending import custom_detrending, refine_detrended_flux_err, iteratively_remove_sines\n",
    "\n",
    "import matplotlib.pyplot as plt\n",
    "%matplotlib inline\n",
    "\n",
    "from altaipony.lcio import from_path\n",
    "\n",
    "from copy import deepcopy\n",
    "\n",
    "from k2sc.standalone import detrend"
   ]
  },
  {
   "cell_type": "code",
   "execution_count": null,
   "metadata": {},
   "outputs": [],
   "source": [
    "EPIC = 211970427\n",
    "c = 18\n"
   ]
  },
  {
   "cell_type": "code",
   "execution_count": null,
   "metadata": {},
   "outputs": [],
   "source": [
    "#for i in range(12,37):\n",
    "I=37\n",
    "flcd = from_path(f\"../DetrendedLightCurves/SC_{EPIC}/{I}_{EPIC}_{c}.fits\", mission=\"K2\", mode=\"AltaiPony\")\n",
    "#flcd = from_path(f\"/home/ekaterina/Downloads/0_211970427_18.fits\", mission=\"K2\", mode=\"AltaiPony\")\n",
    "#flcd = custom_detrending(flcd)\n",
    "\n",
    "plt.figure(figsize=(15,5))\n",
    "plt.plot(flcd.time, flcd.detrended_flux)\n",
    "#plt.plot(flc.time, flc.flux)\n",
    "plt.plot(flcd.time, flcd.flux+1000, c=\"r\");\n",
    "#plt.plot(flcd.time, flcd.detrended_flux+3*flcd.detrended_flux_err, c=\"k\");\n",
    "#plt.xlim(3428.5,3428.6)\n",
    "plt.ylim(12000, 13000)\n",
    "flcd.detrended_flux_err[:] = np.nanmedian(flcd.detrended_flux_err)\n",
    "\n",
    "flares = flcd.find_flares().flares\n",
    "flares"
   ]
  },
  {
   "cell_type": "code",
   "execution_count": null,
   "metadata": {
    "scrolled": false
   },
   "outputs": [],
   "source": [
    "%matplotlib inline\n",
    "for i, r in flares.iterrows():\n",
    "    plt.figure(figsize=(7,5))\n",
    "    plt.plot(flcd.time, flcd.detrended_flux,c=\"k\")\n",
    "    plt.plot(flcd.time, flcd.flux,c=\"b\", alpha=.3)\n",
    "    sta, sto = int(r.istart), int(r.istop)\n",
    "    plt.scatter(flcd.time[sta:sto], flcd.detrended_flux[sta:sto], c=\"r\", label=r.cstart)#, label=f\"EPIC {EPIC}, C{C}\")#\n",
    "    plt.xlim(r.tstart-.1,r.tstop+.1)\n",
    "    #plt.ylim(np.nanmin(1.*flcd.detrended_flux),1.*np.nanmax(flcd.detrended_flux))\n",
    "    plt.ylim(12000, 13000)\n",
    "    plt.legend()"
   ]
  },
  {
   "cell_type": "code",
   "execution_count": null,
   "metadata": {},
   "outputs": [],
   "source": [
    "flares = pd.DataFrame(flares.loc[[2,3],:])\n",
    "flares"
   ]
  },
  {
   "cell_type": "code",
   "execution_count": null,
   "metadata": {},
   "outputs": [],
   "source": [
    "with open(\"../k2scoc/results/tables/SC_flares.csv\", \"a\") as f:\n",
    "    flares[\"C\"] = c\n",
    "    flares[\"EPIC\"] = EPIC\n",
    "    flares[\"i\"] = I\n",
    "    flares.to_csv(f,index=False,header=False )"
   ]
  },
  {
   "cell_type": "code",
   "execution_count": null,
   "metadata": {},
   "outputs": [],
   "source": [
    "flares = flares.T\n",
    "flares"
   ]
  },
  {
   "cell_type": "code",
   "execution_count": null,
   "metadata": {},
   "outputs": [],
   "source": []
  }
 ],
 "metadata": {
  "kernelspec": {
   "display_name": "forallpurposes",
   "language": "python",
   "name": "forallpurposes"
  },
  "language_info": {
   "codemirror_mode": {
    "name": "ipython",
    "version": 3
   },
   "file_extension": ".py",
   "mimetype": "text/x-python",
   "name": "python",
   "nbconvert_exporter": "python",
   "pygments_lexer": "ipython3",
   "version": "3.6.9"
  }
 },
 "nbformat": 4,
 "nbformat_minor": 4
}
