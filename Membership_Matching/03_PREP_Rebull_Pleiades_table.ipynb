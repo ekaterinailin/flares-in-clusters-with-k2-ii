{
 "cells": [
  {
   "cell_type": "markdown",
   "metadata": {
    "collapsed": false
   },
   "source": [
    "# Pleiades mixed tables\n",
    "\n",
    "Luisa Rebull provides two tables a main one for which they do have rotation, and a supplementary table without. (\\_main or \\_supp suffixes in downloads).\n",
    "Here I merge the relevant columns together and write out a csv file without any suffix."
   ]
  },
  {
   "cell_type": "code",
   "execution_count": 1,
   "metadata": {
    "collapsed": false
   },
   "outputs": [
   ],
   "source": [
    "import pandas as pd\n",
    "import numpy as np\n",
    "usecols = ['RAJ2000','DEJ2000','Mm', 'EPIC']\n",
    "\n",
    "def convert_best_ok(s):\n",
    "    \"\"\"\n",
    "    Assign membership probabilities as\n",
    "    described in paper.\n",
    "    \"\"\"\n",
    "    if s=='best':\n",
    "        return .9\n",
    "    elif s == 'ok':\n",
    "        return 0.6\n",
    "    else:\n",
    "        return 0.1"
   ]
  },
  {
   "cell_type": "code",
   "execution_count": 2,
   "metadata": {
    "collapsed": false
   },
   "outputs": [
    {
     "name": "stdout",
     "output_type": "stream",
     "text": [
      "Used columns:  ['EPIC' 'RAJ2000' 'DEJ2000' 'Mm']\n"
     ]
    }
   ],
   "source": [
    "d1 = pd.read_csv('downloads/clusters_Rebull/pleiades_rebull_main.tsv', delimiter='\\t', skiprows=72, usecols=usecols)\n",
    "print(\"Used columns: \", d1.columns.values)"
   ]
  },
  {
   "cell_type": "code",
   "execution_count": 3,
   "metadata": {
    "collapsed": false
   },
   "outputs": [
    {
     "data": {
      "text/html": [
       "<div>\n",
       "<style scoped>\n",
       "    .dataframe tbody tr th:only-of-type {\n",
       "        vertical-align: middle;\n",
       "    }\n",
       "\n",
       "    .dataframe tbody tr th {\n",
       "        vertical-align: top;\n",
       "    }\n",
       "\n",
       "    .dataframe thead th {\n",
       "        text-align: right;\n",
       "    }\n",
       "</style>\n",
       "<table border=\"1\" class=\"dataframe\">\n",
       "  <thead>\n",
       "    <tr style=\"text-align: right;\">\n",
       "      <th></th>\n",
       "      <th>EPIC</th>\n",
       "      <th>RAJ2000</th>\n",
       "      <th>DEJ2000</th>\n",
       "      <th>Mm</th>\n",
       "    </tr>\n",
       "  </thead>\n",
       "  <tbody>\n",
       "    <tr>\n",
       "      <th>0</th>\n",
       "      <td>210991540</td>\n",
       "      <td>52.95768</td>\n",
       "      <td>22.84023</td>\n",
       "      <td>0.9</td>\n",
       "    </tr>\n",
       "    <tr>\n",
       "      <th>1</th>\n",
       "      <td>211016313</td>\n",
       "      <td>53.03274</td>\n",
       "      <td>23.23265</td>\n",
       "      <td>0.9</td>\n",
       "    </tr>\n",
       "    <tr>\n",
       "      <th>2</th>\n",
       "      <td>211029135</td>\n",
       "      <td>53.15753</td>\n",
       "      <td>23.43315</td>\n",
       "      <td>0.9</td>\n",
       "    </tr>\n",
       "    <tr>\n",
       "      <th>3</th>\n",
       "      <td>211037397</td>\n",
       "      <td>53.17625</td>\n",
       "      <td>23.56679</td>\n",
       "      <td>0.9</td>\n",
       "    </tr>\n",
       "    <tr>\n",
       "      <th>4</th>\n",
       "      <td>210946764</td>\n",
       "      <td>53.27427</td>\n",
       "      <td>22.13423</td>\n",
       "      <td>0.9</td>\n",
       "    </tr>\n",
       "  </tbody>\n",
       "</table>\n",
       "</div>"
      ]
     },
     "execution_count": 3,
     "metadata": {
     },
     "output_type": "execute_result"
    }
   ],
   "source": [
    "d1.Mm = d1.Mm.apply(convert_best_ok)\n",
    "d1.head()"
   ]
  },
  {
   "cell_type": "code",
   "execution_count": 4,
   "metadata": {
    "collapsed": false
   },
   "outputs": [
   ],
   "source": [
    "d2 = pd.read_csv('downloads/clusters_Rebull/pleiades_rebull_supp.tsv', delimiter='\\t', skiprows=56, usecols=usecols)"
   ]
  },
  {
   "cell_type": "code",
   "execution_count": 5,
   "metadata": {
    "collapsed": false
   },
   "outputs": [
    {
     "data": {
      "text/html": [
       "<div>\n",
       "<style scoped>\n",
       "    .dataframe tbody tr th:only-of-type {\n",
       "        vertical-align: middle;\n",
       "    }\n",
       "\n",
       "    .dataframe tbody tr th {\n",
       "        vertical-align: top;\n",
       "    }\n",
       "\n",
       "    .dataframe thead th {\n",
       "        text-align: right;\n",
       "    }\n",
       "</style>\n",
       "<table border=\"1\" class=\"dataframe\">\n",
       "  <thead>\n",
       "    <tr style=\"text-align: right;\">\n",
       "      <th></th>\n",
       "      <th>EPIC</th>\n",
       "      <th>RAJ2000</th>\n",
       "      <th>DEJ2000</th>\n",
       "      <th>Mm</th>\n",
       "    </tr>\n",
       "  </thead>\n",
       "  <tbody>\n",
       "    <tr>\n",
       "      <th>0</th>\n",
       "      <td>210784603</td>\n",
       "      <td>52.76490</td>\n",
       "      <td>19.63475</td>\n",
       "      <td>0.9</td>\n",
       "    </tr>\n",
       "    <tr>\n",
       "      <th>1</th>\n",
       "      <td>210899735</td>\n",
       "      <td>53.00981</td>\n",
       "      <td>21.38635</td>\n",
       "      <td>0.9</td>\n",
       "    </tr>\n",
       "    <tr>\n",
       "      <th>2</th>\n",
       "      <td>210904850</td>\n",
       "      <td>53.04807</td>\n",
       "      <td>21.46559</td>\n",
       "      <td>0.9</td>\n",
       "    </tr>\n",
       "    <tr>\n",
       "      <th>3</th>\n",
       "      <td>210971138</td>\n",
       "      <td>53.29373</td>\n",
       "      <td>22.52204</td>\n",
       "      <td>0.9</td>\n",
       "    </tr>\n",
       "    <tr>\n",
       "      <th>4</th>\n",
       "      <td>211029507</td>\n",
       "      <td>53.82811</td>\n",
       "      <td>23.43919</td>\n",
       "      <td>0.9</td>\n",
       "    </tr>\n",
       "  </tbody>\n",
       "</table>\n",
       "</div>"
      ]
     },
     "execution_count": 5,
     "metadata": {
     },
     "output_type": "execute_result"
    }
   ],
   "source": [
    "d2.Mm = d2.Mm.apply(convert_best_ok)\n",
    "d2.head()"
   ]
  },
  {
   "cell_type": "code",
   "execution_count": 6,
   "metadata": {
    "collapsed": false
   },
   "outputs": [
    {
     "data": {
      "text/plain": [
       "(               EPIC     RAJ2000     DEJ2000          Mm\n",
       " count  8.260000e+02  826.000000  826.000000  826.000000\n",
       " mean   2.110508e+08   56.973080   23.613358    0.850605\n",
       " std    3.245951e+05    1.424880    1.192083    0.192668\n",
       " min    2.107549e+08   52.764900   19.185040    0.100000\n",
       " 25%    2.110106e+08   56.120790   23.137085    0.900000\n",
       " 50%    2.110565e+08   56.813880   23.873630    0.900000\n",
       " 75%    2.110894e+08   57.559198   24.394488    0.900000\n",
       " max    2.201159e+08   62.515830   25.964610    0.900000,\n",
       "                EPIC     RAJ2000     DEJ2000          Mm\n",
       " count  7.590000e+02  759.000000  759.000000  759.000000\n",
       " mean   2.110519e+08   56.961251   23.617093    0.854677\n",
       " std    3.375391e+05    1.379920    1.167434    0.185065\n",
       " min    2.107549e+08   52.957680   19.185040    0.100000\n",
       " 25%    2.110097e+08   56.115420   23.128970    0.900000\n",
       " 50%    2.110555e+08   56.814060   23.861720    0.900000\n",
       " 75%    2.110895e+08   57.528060   24.395035    0.900000\n",
       " max    2.201159e+08   62.515830   25.964610    0.900000,\n",
       "                EPIC    RAJ2000    DEJ2000         Mm\n",
       " count  6.700000e+01  67.000000  67.000000  67.000000\n",
       " mean   2.110384e+08  57.107076  23.571044   0.804478\n",
       " std    9.141263e+04   1.868014   1.452086   0.261368\n",
       " min    2.107705e+08  52.764900  19.421360   0.100000\n",
       " 25%    2.110210e+08  56.289500  23.265770   0.900000\n",
       " 50%    2.110679e+08  56.799400  24.051440   0.900000\n",
       " 75%    2.110889e+08  58.253565  24.387820   0.900000\n",
       " max    2.111622e+08  61.154900  25.664180   0.900000)"
      ]
     },
     "execution_count": 6,
     "metadata": {
     },
     "output_type": "execute_result"
    }
   ],
   "source": [
    "d3 = d1.append(d2)\n",
    "d3.describe(), d1.describe(), d2.describe()"
   ]
  },
  {
   "cell_type": "code",
   "execution_count": 7,
   "metadata": {
    "collapsed": false
   },
   "outputs": [
   ],
   "source": [
    "d3.to_csv('downloads/clusters_Rebull/pleiades_rebull.csv',index=False)"
   ]
  },
  {
   "cell_type": "code",
   "execution_count": 0,
   "metadata": {
    "collapsed": false
   },
   "outputs": [
   ],
   "source": [
   ]
  }
 ],
 "metadata": {
  "kernelspec": {
   "display_name": "Anaconda(Py3.6)",
   "language": "python",
   "name": "anaconda3"
  },
  "language_info": {
   "codemirror_mode": {
    "name": "ipython",
    "version": 3
   },
   "file_extension": ".py",
   "mimetype": "text/x-python",
   "name": "python",
   "nbconvert_exporter": "python",
   "pygments_lexer": "ipython3",
   "version": "3.6.7"
  }
 },
 "nbformat": 4,
 "nbformat_minor": 0
}