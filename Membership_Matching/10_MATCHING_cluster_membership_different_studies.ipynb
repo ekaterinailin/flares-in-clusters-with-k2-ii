{
 "cells": [
  {
   "cell_type": "markdown",
   "metadata": {},
   "source": [
    "# Matching cluster membership studies for all clusters"
   ]
  },
  {
   "cell_type": "code",
   "execution_count": 1,
   "metadata": {},
   "outputs": [],
   "source": [
    "import pandas as pd\n",
    "import numpy as np\n",
    "from time import asctime as time\n",
    "\n",
    "# Some custom functions:\n",
    "from catalog_matching.catalog_matching import (rename_columns,\n",
    "                                               get_catalogs,\n",
    "                                               crossmatch_multiple_catalogs,\n",
    "                                               pick_members_and_produce_k2_search_input,\n",
    "                                               merge_k2_info_and_protocol,\n",
    "                                               )"
   ]
  },
  {
   "cell_type": "markdown",
   "metadata": {},
   "source": [
    "# Prepare ancillary information and a few variables clusters"
   ]
  },
  {
   "cell_type": "code",
   "execution_count": 2,
   "metadata": {},
   "outputs": [
    {
     "data": {
      "text/html": [
       "<div>\n",
       "<style scoped>\n",
       "    .dataframe tbody tr th:only-of-type {\n",
       "        vertical-align: middle;\n",
       "    }\n",
       "\n",
       "    .dataframe tbody tr th {\n",
       "        vertical-align: top;\n",
       "    }\n",
       "\n",
       "    .dataframe thead th {\n",
       "        text-align: right;\n",
       "    }\n",
       "</style>\n",
       "<table border=\"1\" class=\"dataframe\">\n",
       "  <thead>\n",
       "    <tr style=\"text-align: right;\">\n",
       "      <th></th>\n",
       "      <th>folder</th>\n",
       "      <th>name</th>\n",
       "      <th>ext</th>\n",
       "      <th>nskip</th>\n",
       "      <th>sep</th>\n",
       "      <th>usecols</th>\n",
       "      <th>cluster</th>\n",
       "    </tr>\n",
       "  </thead>\n",
       "  <tbody>\n",
       "    <tr>\n",
       "      <th>0</th>\n",
       "      <td>clusters_Bouy</td>\n",
       "      <td>ngc2168_bouy</td>\n",
       "      <td>tsv</td>\n",
       "      <td>42</td>\n",
       "      <td>\\t</td>\n",
       "      <td>[RAJ2000, DEJ2000, DANCe, Mm]</td>\n",
       "      <td>M 35</td>\n",
       "    </tr>\n",
       "    <tr>\n",
       "      <th>1</th>\n",
       "      <td>clusters_CG</td>\n",
       "      <td>ngc2168</td>\n",
       "      <td>tsv</td>\n",
       "      <td>77</td>\n",
       "      <td>\\t</td>\n",
       "      <td>[RA_ICRS, DE_ICRS, PMemb, Source]</td>\n",
       "      <td>M 35</td>\n",
       "    </tr>\n",
       "    <tr>\n",
       "      <th>2</th>\n",
       "      <td>clusters_CG</td>\n",
       "      <td>ngc6774</td>\n",
       "      <td>tsv</td>\n",
       "      <td>77</td>\n",
       "      <td>\\t</td>\n",
       "      <td>[RA_ICRS, DE_ICRS, PMemb, Source]</td>\n",
       "      <td>Ruprecht 147</td>\n",
       "    </tr>\n",
       "    <tr>\n",
       "      <th>3</th>\n",
       "      <td>clusters_CG</td>\n",
       "      <td>pleiades</td>\n",
       "      <td>tsv</td>\n",
       "      <td>77</td>\n",
       "      <td>\\t</td>\n",
       "      <td>[RA_ICRS, DE_ICRS, PMemb, Source]</td>\n",
       "      <td>Pleiades</td>\n",
       "    </tr>\n",
       "    <tr>\n",
       "      <th>4</th>\n",
       "      <td>clusters_CG</td>\n",
       "      <td>praesepe</td>\n",
       "      <td>tsv</td>\n",
       "      <td>77</td>\n",
       "      <td>\\t</td>\n",
       "      <td>[RA_ICRS, DE_ICRS, PMemb, Source]</td>\n",
       "      <td>Praesepe</td>\n",
       "    </tr>\n",
       "    <tr>\n",
       "      <th>5</th>\n",
       "      <td>clusters_GaiaC</td>\n",
       "      <td>hyades_corr</td>\n",
       "      <td>csv</td>\n",
       "      <td>0</td>\n",
       "      <td>,</td>\n",
       "      <td>[RAJ2000_epoch2000, DEJ2000_epoch2000, Source]</td>\n",
       "      <td>Hyades</td>\n",
       "    </tr>\n",
       "    <tr>\n",
       "      <th>6</th>\n",
       "      <td>clusters_GaiaC</td>\n",
       "      <td>ngc2168</td>\n",
       "      <td>tsv</td>\n",
       "      <td>46</td>\n",
       "      <td>\\t</td>\n",
       "      <td>[RA_ICRS, DE_ICRS, Source]</td>\n",
       "      <td>M 35</td>\n",
       "    </tr>\n",
       "    <tr>\n",
       "      <th>7</th>\n",
       "      <td>clusters_GaiaC</td>\n",
       "      <td>ngc6774</td>\n",
       "      <td>tsv</td>\n",
       "      <td>46</td>\n",
       "      <td>\\t</td>\n",
       "      <td>[RA_ICRS, DE_ICRS, Source]</td>\n",
       "      <td>Ruprecht 147</td>\n",
       "    </tr>\n",
       "    <tr>\n",
       "      <th>8</th>\n",
       "      <td>clusters_GaiaC</td>\n",
       "      <td>pleiades</td>\n",
       "      <td>tsv</td>\n",
       "      <td>50</td>\n",
       "      <td>\\t</td>\n",
       "      <td>[RA_ICRS, DE_ICRS, Source]</td>\n",
       "      <td>Pleiades</td>\n",
       "    </tr>\n",
       "    <tr>\n",
       "      <th>9</th>\n",
       "      <td>clusters_GaiaC</td>\n",
       "      <td>praesepe</td>\n",
       "      <td>tsv</td>\n",
       "      <td>53</td>\n",
       "      <td>\\t</td>\n",
       "      <td>[RA_ICRS, DE_ICRS, Source]</td>\n",
       "      <td>Praesepe</td>\n",
       "    </tr>\n",
       "    <tr>\n",
       "      <th>10</th>\n",
       "      <td>clusters_Curtis</td>\n",
       "      <td>ngc6774_curtis</td>\n",
       "      <td>tsv</td>\n",
       "      <td>84</td>\n",
       "      <td>\\t</td>\n",
       "      <td>[_RAJ2000, _DEJ2000, 2MASS, Mm]</td>\n",
       "      <td>Ruprecht 147</td>\n",
       "    </tr>\n",
       "    <tr>\n",
       "      <th>11</th>\n",
       "      <td>clusters_Rebull</td>\n",
       "      <td>praesepe_rebull</td>\n",
       "      <td>tsv</td>\n",
       "      <td>71</td>\n",
       "      <td>\\t</td>\n",
       "      <td>[EPIC, _RAJ2000, _DEJ2000]</td>\n",
       "      <td>Praesepe</td>\n",
       "    </tr>\n",
       "    <tr>\n",
       "      <th>12</th>\n",
       "      <td>clusters_Douglas</td>\n",
       "      <td>praesepe_douglas17</td>\n",
       "      <td>tsv</td>\n",
       "      <td>83</td>\n",
       "      <td>\\t</td>\n",
       "      <td>[EPIC, _RAJ2000, _DEJ2000, Bin?]</td>\n",
       "      <td>Praesepe</td>\n",
       "    </tr>\n",
       "    <tr>\n",
       "      <th>13</th>\n",
       "      <td>clusters_Douglas</td>\n",
       "      <td>praesepe_douglas14</td>\n",
       "      <td>tsv</td>\n",
       "      <td>63</td>\n",
       "      <td>\\t</td>\n",
       "      <td>[PMem, _RAJ2000, _DEJ2000, Bin?]</td>\n",
       "      <td>Praesepe</td>\n",
       "    </tr>\n",
       "    <tr>\n",
       "      <th>14</th>\n",
       "      <td>clusters_Rebull</td>\n",
       "      <td>pleiades_rebull</td>\n",
       "      <td>csv</td>\n",
       "      <td>0</td>\n",
       "      <td>,</td>\n",
       "      <td>[EPIC, RAJ2000, DEJ2000, Mm]</td>\n",
       "      <td>Pleiades</td>\n",
       "    </tr>\n",
       "    <tr>\n",
       "      <th>15</th>\n",
       "      <td>clusters_Douglas</td>\n",
       "      <td>hyades_douglas14</td>\n",
       "      <td>tsv</td>\n",
       "      <td>63</td>\n",
       "      <td>\\t</td>\n",
       "      <td>[PMem, _RAJ2000, _DEJ2000, Bin?]</td>\n",
       "      <td>Hyades</td>\n",
       "    </tr>\n",
       "    <tr>\n",
       "      <th>16</th>\n",
       "      <td>clusters_Olivares</td>\n",
       "      <td>pleiades_olivares</td>\n",
       "      <td>tsv</td>\n",
       "      <td>49</td>\n",
       "      <td>\\t</td>\n",
       "      <td>[pc, _RAJ2000, _DEJ2000, pemb]</td>\n",
       "      <td>Pleiades</td>\n",
       "    </tr>\n",
       "    <tr>\n",
       "      <th>17</th>\n",
       "      <td>clusters_Olivares</td>\n",
       "      <td>ngc6774_olivares</td>\n",
       "      <td>csv</td>\n",
       "      <td>0</td>\n",
       "      <td>,</td>\n",
       "      <td>[RAJ2000, DEJ2000, EPIC, probability_DANCe]</td>\n",
       "      <td>Ruprecht 147</td>\n",
       "    </tr>\n",
       "    <tr>\n",
       "      <th>18</th>\n",
       "      <td>clusters_Gao</td>\n",
       "      <td>ngc2682_gao</td>\n",
       "      <td>csv</td>\n",
       "      <td>1</td>\n",
       "      <td>,</td>\n",
       "      <td>[ra, dec, pmem, source_id]</td>\n",
       "      <td>M 67</td>\n",
       "    </tr>\n",
       "    <tr>\n",
       "      <th>19</th>\n",
       "      <td>clusters_Gonzalez</td>\n",
       "      <td>ngc2682</td>\n",
       "      <td>tsv</td>\n",
       "      <td>59</td>\n",
       "      <td>\\t</td>\n",
       "      <td>[EPIC, Class, RAJ2000, DEJ2000]</td>\n",
       "      <td>M 67</td>\n",
       "    </tr>\n",
       "    <tr>\n",
       "      <th>20</th>\n",
       "      <td>clusters_Reino</td>\n",
       "      <td>hyades_reino18</td>\n",
       "      <td>csv</td>\n",
       "      <td>0</td>\n",
       "      <td>,</td>\n",
       "      <td>[ID, p, RAJ2000, DEJ2000]</td>\n",
       "      <td>Hyades</td>\n",
       "    </tr>\n",
       "  </tbody>\n",
       "</table>\n",
       "</div>"
      ]
     },
     "execution_count": 2,
     "metadata": {},
     "output_type": "execute_result"
    }
   ],
   "source": [
    "# Read the paths and define some generic strings and names\n",
    "\n",
    "paths = !ls -r downloads/clusters*/*sv\n",
    "ra = 'RAJ2000'\n",
    "dec = 'DEJ2000'\n",
    "pmem = 'PMem'\n",
    "binary = 'binary'\n",
    "p_gaiac = 0.9 # assign membership probability for members identified without p-value in Gaia Collaboration (2018)\n",
    "p_rebull = 0.9 # assign membership probability for members identified without p-value in Rebull et al. (2017)\n",
    "crossmatch_kwargs = {'arcsec':3., 'plot':True, 'union':True, 'bijective':True} # keyword argument to pass to the cross matching function\n",
    "pmem_threshold = .8 # threshold for accepted membership probability\n",
    "\n",
    "# group paths with the same clusters\n",
    "\n",
    "clusters = ['pleiades', 'praesepe','ngc2168','ngc6774','hyades','ngc2682']\n",
    "cluster_dict = dict()\n",
    "out = 'catalog_matching/matched_catalogs/membership_matches/'\n",
    "\n",
    "for name in clusters:\n",
    "    l = [path for path in paths if path.find(name) != -1 ]\n",
    "    cluster_dict[name] = l\n",
    "\n",
    "#read in cluster table characteristics\n",
    "\n",
    "table_chars = pd.read_csv('downloads/cluster_catalog_characteristics.csv', sep=';',index_col=False)\n",
    "\n",
    "#split usecols column into a list of column names each\n",
    "\n",
    "table_chars.usecols = table_chars.usecols.str.split(',')\n",
    "\n",
    "table_chars"
   ]
  },
  {
   "cell_type": "markdown",
   "metadata": {},
   "source": [
    "## The clusters are treated in this order: M67, Hyades, M35, Ruprecht 147, Pleiades, Praesepe"
   ]
  },
  {
   "cell_type": "markdown",
   "metadata": {},
   "source": [
    "# M 67"
   ]
  },
  {
   "cell_type": "code",
   "execution_count": 3,
   "metadata": {},
   "outputs": [
    {
     "name": "stderr",
     "output_type": "stream",
     "text": [
      "/projects/9dc5265b-65df-4b97-a75c-b93da4cee0c3/catalog_matching/catalog_matching.py:372: ParserWarning: Falling back to the 'python' engine because the 'c' engine does not support regex separators (separators > 1 char and different from '\\s+' are interpreted as regex); you can avoid this warning by specifying engine='python'.\n",
      "  df = pd.read_table(p,skiprows=r, usecols=row.usecols, delimiter=row['sep'])\n"
     ]
    }
   ],
   "source": [
    "#read in DataFrames with usecols\n",
    "name = 'M 67'\n",
    "sname = 'ngc2682'\n",
    "tc = table_chars[table_chars.cluster == name]\n",
    "pathlist = cluster_dict[sname]\n",
    "cats = get_catalogs(tc, pathlist)\n",
    "\n",
    "cols = dict(zip( ['Gonzalez', 'Gao'],\n",
    "               [['EPIC_id',pmem,ra,dec],\n",
    "                ['gaia_id',ra,dec,pmem],\n",
    "                ]))\n",
    "renamed_catalogs = dict()"
   ]
  },
  {
   "cell_type": "code",
   "execution_count": 4,
   "metadata": {},
   "outputs": [],
   "source": [
    "# Gao\n",
    "\n",
    "r = \"Gao\"\n",
    "c1 = rename_columns(cats[\"Gao\"], \"Gao\", cols[\"Gao\"])\n",
    "renamed_catalogs[r] = c1\n",
    "\n",
    "# Gonzalez\n",
    "\n",
    "r = \"Gonzalez\"\n",
    "c2 = rename_columns(cats[\"Gonzalez\"], \"Gonzalez\", cols[\"Gonzalez\"])\n",
    "gonzalezmap = {'SN':0.1,'BN':0.1,'N':0.1,'M':.9,'SM':.9,'BM':.9,'U':.5}# Map classifiers to probabilities:\n",
    "binarymap = {'SN':0,'BN':0,'N':0,'M':0,'SM':0,'BM':1,'U':0}\n",
    "c2[\"binary\"] = c2.PMem_Gonzalez.str.strip().map(binarymap)\n",
    "c2['PMem_Gonzalez'] = c2.PMem_Gonzalez.str.strip().map(gonzalezmap)\n",
    "c2.PMem_Gonzalez = c2.PMem_Gonzalez.fillna(0.5)\n",
    "c2.binary = c2.binary.fillna(0)\n",
    "#c2 = c2.drop('newpmem',axis=1).dropna(how='any')\n",
    "renamed_catalogs[r] = c2"
   ]
  },
  {
   "cell_type": "markdown",
   "metadata": {},
   "source": [
    "### Add hints to which targets have Nardiello's PSF extracted LCs"
   ]
  },
  {
   "cell_type": "code",
   "execution_count": 5,
   "metadata": {},
   "outputs": [],
   "source": [
    "# Read in Nardiello M 67 target list\n",
    "\n",
    "nar = pd.read_csv('downloads/superstamps/ngc2682/ngc2682_nardiello_targets.csv')\n",
    "nar['K_2MASS'] = nar['  K_2MASS ID'].apply(lambda x: str(x).strip().split(' ')[0])\n",
    "nar['ID'] = nar['  K_2MASS ID'].apply(lambda x: str(x).strip().split(' ')[2])\n",
    "nar = nar.drop('  K_2MASS ID',axis=1)\n",
    "nar.columns = nar.columns.str.strip()\n",
    "nar = nar.rename(index=str, columns={'RA':'RAJ2000_N',\n",
    "                                       'DEC':'DEJ2000_N',\n",
    "                                       'ID':'id_N',})\n",
    "nar2 = nar[['id_N','RAJ2000_N','DEJ2000_N']]\n",
    "\n",
    "renamed_catalogs[\"N\"] = nar2"
   ]
  },
  {
   "cell_type": "markdown",
   "metadata": {},
   "source": [
    "### Cross-match all three:"
   ]
  },
  {
   "cell_type": "code",
   "execution_count": 6,
   "metadata": {},
   "outputs": [],
   "source": [
    "cross = crossmatch_multiple_catalogs(renamed_catalogs, name, sname, **crossmatch_kwargs)"
   ]
  },
  {
   "cell_type": "code",
   "execution_count": 7,
   "metadata": {},
   "outputs": [],
   "source": [
    "cross.to_csv('{}{}_allmembers.csv'.format(out,sname),index=False)"
   ]
  },
  {
   "cell_type": "code",
   "execution_count": 8,
   "metadata": {},
   "outputs": [
    {
     "data": {
      "text/plain": [
       "'N_Gao_Gonzalez'"
      ]
     },
     "execution_count": 8,
     "metadata": {},
     "output_type": "execute_result"
    }
   ],
   "source": [
    "cross.columns.values[-2][8:]"
   ]
  },
  {
   "cell_type": "markdown",
   "metadata": {},
   "source": [
    "##### Pick out likely members, and write out RA, Dec file to match with K2"
   ]
  },
  {
   "cell_type": "code",
   "execution_count": 9,
   "metadata": {},
   "outputs": [
    {
     "name": "stdout",
     "output_type": "stream",
     "text": [
      "There are 4671 candidate members in M 67.\n",
      "There are 1344 members in M 67 with membership probability above 0.8.\n"
     ]
    }
   ],
   "source": [
    "coords = cross.columns.values[-2][8:]\n",
    "cross = pick_members_and_produce_k2_search_input(cross, sname, name,\n",
    "                                             coords=coords,\n",
    "                                             PMem_mean_threshold=pmem_threshold)"
   ]
  },
  {
   "cell_type": "markdown",
   "metadata": {},
   "source": [
    "Now go to [the K2 search mask](https://archive.stsci.edu/k2/data_search/search.php) and feed it the file you just saved.\n",
    "\n",
    "Take both long and short cadence, radius is 0.05 arcmin data. Sort by angular separation, then K2 ID, then Campaign. Need to shift first lines to the row after the header rows manually. Display coordinates in degrees. Suppress null outputs (bottom left button).\n",
    "\n",
    "### Post K2 Search Cleaning"
   ]
  },
  {
   "cell_type": "code",
   "execution_count": 10,
   "metadata": {},
   "outputs": [],
   "source": [
    "merge_k2_info_and_protocol(cross, sname, coords)"
   ]
  },
  {
   "cell_type": "markdown",
   "metadata": {},
   "source": [
    "# HYADES"
   ]
  },
  {
   "cell_type": "code",
   "execution_count": 11,
   "metadata": {},
   "outputs": [
    {
     "name": "stderr",
     "output_type": "stream",
     "text": [
      "/projects/9dc5265b-65df-4b97-a75c-b93da4cee0c3/catalog_matching/catalog_matching.py:372: ParserWarning: Falling back to the 'python' engine because the 'c' engine does not support regex separators (separators > 1 char and different from '\\s+' are interpreted as regex); you can avoid this warning by specifying engine='python'.\n",
      "  df = pd.read_table(p,skiprows=r, usecols=row.usecols, delimiter=row['sep'])\n"
     ]
    }
   ],
   "source": [
    "#read in DataFrames with usecols\n",
    "name = 'Hyades'\n",
    "sname = 'hyades'\n",
    "tc = table_chars[table_chars.cluster == name]\n",
    "pathlist = cluster_dict[sname]\n",
    "cats = get_catalogs(tc, pathlist)\n",
    "\n",
    "cols = dict(zip(  ['Douglas', 'Reino', 'GaiaC'],\n",
    "               [[ra,dec,pmem,binary],\n",
    "                [pmem,ra,dec,\"GaiaDR1\"],\n",
    "                [\"ID\",ra,dec],\n",
    "                ]))\n",
    "renamed_catalogs = dict()"
   ]
  },
  {
   "cell_type": "code",
   "execution_count": 12,
   "metadata": {},
   "outputs": [],
   "source": [
    "# Douglas\n",
    "\n",
    "r = \"Douglas\"\n",
    "c1 = rename_columns(cats[r], r, cols[r])\n",
    "c1.PMem_Douglas *= 1e-2\n",
    "c1.binary_Douglas = c1.binary_Douglas.map({\"N\":0,\"Y\":1})"
   ]
  },
  {
   "cell_type": "code",
   "execution_count": 13,
   "metadata": {},
   "outputs": [],
   "source": [
    "renamed_catalogs[r] = c1\n",
    "\n",
    "# Reino\n",
    "\n",
    "r = \"Reino\"\n",
    "c2 = rename_columns(cats[r], r, cols[r])\n",
    "renamed_catalogs[r] = c2\n",
    "\n",
    "# Gaia Collaboration\n",
    "\n",
    "r = \"GaiaC\"\n",
    "c3 = rename_columns(cats[r], r, cols[r] )\n",
    "c3[\"PMem_GaiaC\"] = p_gaiac\n",
    "renamed_catalogs[r] = c3\n"
   ]
  },
  {
   "cell_type": "code",
   "execution_count": 14,
   "metadata": {},
   "outputs": [],
   "source": [
    "cross = crossmatch_multiple_catalogs(renamed_catalogs, name, sname, **crossmatch_kwargs)"
   ]
  },
  {
   "cell_type": "code",
   "execution_count": 15,
   "metadata": {},
   "outputs": [],
   "source": [
    "cross.to_csv('{}{}_allmembers.csv'.format(out,sname),index=False)"
   ]
  },
  {
   "cell_type": "markdown",
   "metadata": {},
   "source": [
    "##### Pick out likely members, and write out RA, Dec file to match with K2"
   ]
  },
  {
   "cell_type": "code",
   "execution_count": 16,
   "metadata": {},
   "outputs": [
    {
     "name": "stdout",
     "output_type": "stream",
     "text": [
      "There are 896 candidate members in Hyades.\n",
      "There are 655 members in Hyades with membership probability above 0.8.\n"
     ]
    }
   ],
   "source": [
    "coords = cross.columns.values[-2][8:]\n",
    "cross = pick_members_and_produce_k2_search_input(cross, sname, name,\n",
    "                                             coords=coords,\n",
    "                                             PMem_mean_threshold=pmem_threshold)"
   ]
  },
  {
   "cell_type": "markdown",
   "metadata": {},
   "source": [
    "Now go to [the K2 search mask](https://archive.stsci.edu/k2/data_search/search.php) and feed it the file you just saved.\n",
    "\n",
    "Take both long and short cadence, radius is 0.05 arcmin data. Sort by angular separation, then K2 ID, then Campaign. Need to shift first lines to the row after the header rows manually. Display coordinates in degrees. Suppress null outputs (bottom left button).\n",
    "\n",
    "### Post K2 Search Cleaning"
   ]
  },
  {
   "cell_type": "code",
   "execution_count": 17,
   "metadata": {},
   "outputs": [],
   "source": [
    "merge_k2_info_and_protocol(cross, sname, coords)"
   ]
  },
  {
   "cell_type": "markdown",
   "metadata": {},
   "source": [
    "# M35"
   ]
  },
  {
   "cell_type": "code",
   "execution_count": 18,
   "metadata": {},
   "outputs": [
    {
     "name": "stderr",
     "output_type": "stream",
     "text": [
      "/projects/9dc5265b-65df-4b97-a75c-b93da4cee0c3/catalog_matching/catalog_matching.py:372: ParserWarning: Falling back to the 'python' engine because the 'c' engine does not support regex separators (separators > 1 char and different from '\\s+' are interpreted as regex); you can avoid this warning by specifying engine='python'.\n",
      "  df = pd.read_table(p,skiprows=r, usecols=row.usecols, delimiter=row['sep'])\n"
     ]
    }
   ],
   "source": [
    "#read in DataFrames with usecols\n",
    "name = 'M 35'\n",
    "sname = 'ngc2168'\n",
    "tc = table_chars[table_chars.cluster == name]\n",
    "pathlist = cluster_dict[sname]\n",
    "cats = get_catalogs(tc, pathlist)\n",
    "\n",
    "cols = dict(zip(['Bouy', 'CG', 'GaiaC'],\n",
    "                [['DANCe_id',ra,dec,pmem],\n",
    "                 [ra, dec, 'gaia_id', pmem],\n",
    "                 ['gaia_id',ra,dec],]))\n",
    "\n",
    "renamed_catalogs = dict()"
   ]
  },
  {
   "cell_type": "code",
   "execution_count": 19,
   "metadata": {},
   "outputs": [],
   "source": [
    "# Bouy\n",
    "\n",
    "r = \"Bouy\"\n",
    "c0 = rename_columns(cats[r], r, cols[r])\n",
    "c0.DANCe_id_Bouy = c0.DANCe_id_Bouy.str.replace('+','')\n",
    "renamed_catalogs[r] = c0\n",
    "\n",
    "# CG\n",
    "\n",
    "r = \"CG\"\n",
    "c1 = rename_columns(cats[r], r, cols[r])\n",
    "renamed_catalogs[r] = c1\n",
    "\n",
    "# GaiaC\n",
    "\n",
    "r = \"GaiaC\"\n",
    "c2 = rename_columns(cats[r], r, cols[r])\n",
    "c2[\"PMem_GaiaC\"] = p_gaiac\n",
    "renamed_catalogs[r] = c2"
   ]
  },
  {
   "cell_type": "markdown",
   "metadata": {},
   "source": [
    "##### Add hints to which targets have PSF detrended LCs from Soares-Furtado"
   ]
  },
  {
   "cell_type": "code",
   "execution_count": 20,
   "metadata": {},
   "outputs": [],
   "source": [
    "sf = pd.read_csv('downloads/superstamps/ngc2168/object-summary_c0.csv')\n",
    "sf = sf.rename(index=str, columns={'ra':'RAJ2000_SF',\n",
    "                                   'dec':'DEJ2000_SF',\n",
    "                                   'object':'2MASS_id_SF',})\n",
    "sf = sf[['2MASS_id_SF','RAJ2000_SF','DEJ2000_SF']]\n",
    "sf['2MASS_id_SF'] = sf['2MASS_id_SF'].apply(lambda c : ''.join(digit for digit in c if digit.isdigit()))\n",
    "\n",
    "renamed_catalogs[\"SF\"] = sf"
   ]
  },
  {
   "cell_type": "markdown",
   "metadata": {},
   "source": [
    "### Cross-match all catalogs"
   ]
  },
  {
   "cell_type": "code",
   "execution_count": 21,
   "metadata": {},
   "outputs": [],
   "source": [
    "cross = crossmatch_multiple_catalogs(renamed_catalogs, name, sname, **crossmatch_kwargs)"
   ]
  },
  {
   "cell_type": "code",
   "execution_count": 22,
   "metadata": {},
   "outputs": [],
   "source": [
    "cross.to_csv('{}{}_allmembers.csv'.format(out,sname),index=False)"
   ]
  },
  {
   "cell_type": "markdown",
   "metadata": {},
   "source": [
    "##### Pick out likely members, and write out RA, Dec file to match with K2"
   ]
  },
  {
   "cell_type": "code",
   "execution_count": 23,
   "metadata": {},
   "outputs": [
    {
     "name": "stdout",
     "output_type": "stream",
     "text": [
      "There are 338749 candidate members in M 35.\n",
      "There are 1614 members in M 35 with membership probability above 0.8.\n"
     ]
    }
   ],
   "source": [
    "coords = cross.columns.values[-2][8:]\n",
    "cross = pick_members_and_produce_k2_search_input(cross, sname, name,\n",
    "                                             coords=coords,\n",
    "                                             PMem_mean_threshold=pmem_threshold)"
   ]
  },
  {
   "cell_type": "markdown",
   "metadata": {},
   "source": [
    "Now go to [the K2 search mask](https://archive.stsci.edu/k2/data_search/search.php) and feed it the file you just saved.\n",
    "\n",
    "Take both long and short cadence, radius is 0.05 arcmin data. Sort by angular separation, then K2 ID, then Campaign. Need to shift first lines to the row after the header rows manually. Display coordinates in degrees. Suppress null outputs (bottom left button).\n",
    "\n",
    "### Post K2 Search Cleaning"
   ]
  },
  {
   "cell_type": "code",
   "execution_count": 24,
   "metadata": {},
   "outputs": [],
   "source": [
    "merge_k2_info_and_protocol(cross, sname, coords)"
   ]
  },
  {
   "cell_type": "markdown",
   "metadata": {},
   "source": [
    "# RUPRECHT 147"
   ]
  },
  {
   "cell_type": "code",
   "execution_count": 25,
   "metadata": {},
   "outputs": [
    {
     "name": "stderr",
     "output_type": "stream",
     "text": [
      "/projects/9dc5265b-65df-4b97-a75c-b93da4cee0c3/catalog_matching/catalog_matching.py:372: ParserWarning: Falling back to the 'python' engine because the 'c' engine does not support regex separators (separators > 1 char and different from '\\s+' are interpreted as regex); you can avoid this warning by specifying engine='python'.\n",
      "  df = pd.read_table(p,skiprows=r, usecols=row.usecols, delimiter=row['sep'])\n"
     ]
    }
   ],
   "source": [
    "#read in DataFrames with usecols\n",
    "name = 'Ruprecht 147'\n",
    "sname = 'ngc6774'\n",
    "tc = table_chars[table_chars.cluster == name]\n",
    "pathlist = cluster_dict[sname]\n",
    "cats = get_catalogs(tc, pathlist)\n",
    "\n",
    "cols = dict(zip(['CG', 'Curtis', 'Olivares', 'GaiaC'],\n",
    "               [[ra,dec,'gaia_id',pmem],\n",
    "                [ra,dec,'2MASS_id',pmem],\n",
    "                [ra, dec, pmem, \"EPIC\"],\n",
    "                ['gaia_id',ra,dec]]))\n",
    "\n",
    "renamed_catalogs = dict()"
   ]
  },
  {
   "cell_type": "code",
   "execution_count": 26,
   "metadata": {},
   "outputs": [],
   "source": [
    "# CG\n",
    "\n",
    "r = \"CG\"\n",
    "c0 = rename_columns(cats[r], r, cols[r])\n",
    "renamed_catalogs[r] = c0\n",
    "\n",
    "# GaiaC\n",
    "\n",
    "r = \"GaiaC\"\n",
    "c1 = rename_columns(cats['GaiaC'], 'GaiaC', cols['GaiaC'])\n",
    "c1[\"PMem_GaiaC\"] = p_gaiac\n",
    "renamed_catalogs[r] = c1\n",
    "\n",
    "# Curtis\n",
    "\n",
    "r= \"Curtis\"\n",
    "c2 = rename_columns(cats[r], r, cols[r])\n",
    "c2['2MASS_id_Curtis']= c2['2MASS_id_Curtis'].str.replace('-','')\n",
    "c2.loc[c2.PMem_Curtis == 'Y','PMem_Curtis'] = 0.9\n",
    "c2.loc[c2.PMem_Curtis == 'P','PMem_Curtis'] = 0.7\n",
    "c2.loc[c2.PMem_Curtis == 'N','PMem_Curtis'] = 0.1\n",
    "c2.loc[c2.PMem_Curtis == 'B','PMem_Curtis'] = 0.0\n",
    "renamed_catalogs[r] = c2\n",
    "\n",
    "# Olivares\n",
    "\n",
    "r = \"Olivares\"\n",
    "c3 = rename_columns(cats[r], r, cols[r])\n",
    "renamed_catalogs[r] = c3\n"
   ]
  },
  {
   "cell_type": "code",
   "execution_count": 27,
   "metadata": {},
   "outputs": [],
   "source": [
    "cross = crossmatch_multiple_catalogs(renamed_catalogs, name, sname, **crossmatch_kwargs)"
   ]
  },
  {
   "cell_type": "code",
   "execution_count": 28,
   "metadata": {},
   "outputs": [],
   "source": [
    "cross.to_csv('{}{}_allmembers.csv'.format(out,sname),index=False)"
   ]
  },
  {
   "cell_type": "markdown",
   "metadata": {},
   "source": [
    "##### Pick out likely members, and write out RA, Dec file to match with K2"
   ]
  },
  {
   "cell_type": "code",
   "execution_count": 29,
   "metadata": {},
   "outputs": [
    {
     "name": "stdout",
     "output_type": "stream",
     "text": [
      "There are 353 candidate members in Ruprecht 147.\n",
      "There are 213 members in Ruprecht 147 with membership probability above 0.8.\n"
     ]
    }
   ],
   "source": [
    "coords = cross.columns.values[-2][8:]\n",
    "cross = pick_members_and_produce_k2_search_input(cross, sname, name,\n",
    "                                             coords=coords,\n",
    "                                             PMem_mean_threshold=pmem_threshold)"
   ]
  },
  {
   "cell_type": "markdown",
   "metadata": {},
   "source": [
    "Now go to [the K2 search mask](https://archive.stsci.edu/k2/data_search/search.php) and feed it the file you just saved.\n",
    "\n",
    "Take both long and short cadence, radius is 0.05 arcmin data. Sort by angular separation, then K2 ID, then Campaign. Need to shift first lines to the row after the header rows manually. Display coordinates in degrees. Suppress null outputs (bottom left button).\n",
    "\n",
    "### Post K2 Search Cleaning"
   ]
  },
  {
   "cell_type": "code",
   "execution_count": 30,
   "metadata": {},
   "outputs": [],
   "source": [
    "merge_k2_info_and_protocol(cross, sname, coords)"
   ]
  },
  {
   "cell_type": "markdown",
   "metadata": {},
   "source": [
    "[GO 7035](https://keplerscience.arc.nasa.gov/data/k2-programs/GO7035.txt) has 32 SC targets, of which we use 25."
   ]
  },
  {
   "cell_type": "markdown",
   "metadata": {},
   "source": [
    "# PLEIADES"
   ]
  },
  {
   "cell_type": "code",
   "execution_count": 31,
   "metadata": {},
   "outputs": [
    {
     "name": "stderr",
     "output_type": "stream",
     "text": [
      "/projects/9dc5265b-65df-4b97-a75c-b93da4cee0c3/catalog_matching/catalog_matching.py:372: ParserWarning: Falling back to the 'python' engine because the 'c' engine does not support regex separators (separators > 1 char and different from '\\s+' are interpreted as regex); you can avoid this warning by specifying engine='python'.\n",
      "  df = pd.read_table(p,skiprows=r, usecols=row.usecols, delimiter=row['sep'])\n"
     ]
    }
   ],
   "source": [
    "#read in DataFrames with usecols\n",
    "name = 'Pleiades'\n",
    "sname = 'pleiades'\n",
    "tc = table_chars[table_chars.cluster == name]\n",
    "pathlist = cluster_dict[sname]\n",
    "cats = get_catalogs(tc, pathlist)\n",
    "\n",
    "cols = dict(zip(['CG', 'Rebull', 'GaiaC', 'Olivares'],\n",
    "                [[ra,dec,'gaia_id',pmem],\n",
    "                 ['EPIC_id',ra,dec,pmem],\n",
    "                 [\"gaia_id\", ra,dec],\n",
    "                 [ra,dec,pmem,binary],\n",
    "                 ]))\n",
    "\n",
    "renamed_catalogs = dict()"
   ]
  },
  {
   "cell_type": "code",
   "execution_count": 32,
   "metadata": {},
   "outputs": [],
   "source": [
    "# CG\n",
    "\n",
    "r = \"CG\"\n",
    "c0 = rename_columns(cats[r], r, cols[r])\n",
    "renamed_catalogs[r] = c0\n",
    "\n",
    "# Rebull\n",
    "\n",
    "r = \"Rebull\"\n",
    "c1 = rename_columns(cats[r], r, cols[r])\n",
    "renamed_catalogs[r] = c1\n",
    "\n",
    "# GaiaC\n",
    "\n",
    "r = \"GaiaC\"\n",
    "c2 = rename_columns(cats[r], r, cols[r])\n",
    "c2[\"PMem_GaiaC\"] = p_gaiac\n",
    "renamed_catalogs[r] = c2\n",
    "\n",
    "# Olivares\n",
    "\n",
    "r = \"Olivares\"\n",
    "c3 = rename_columns(cats[r], r, cols[r])\n",
    "renamed_catalogs[r] = c3"
   ]
  },
  {
   "cell_type": "code",
   "execution_count": 33,
   "metadata": {},
   "outputs": [],
   "source": [
    "cross = crossmatch_multiple_catalogs(renamed_catalogs, name, sname, **crossmatch_kwargs)"
   ]
  },
  {
   "cell_type": "code",
   "execution_count": 34,
   "metadata": {},
   "outputs": [],
   "source": [
    "cross.to_csv('{}{}_allmembers.csv'.format(out,sname),index=False)"
   ]
  },
  {
   "cell_type": "markdown",
   "metadata": {},
   "source": [
    "##### Pick out likely members, and write out RA, Dec file to match with K2"
   ]
  },
  {
   "cell_type": "code",
   "execution_count": 35,
   "metadata": {},
   "outputs": [
    {
     "name": "stdout",
     "output_type": "stream",
     "text": [
      "There are 1424987 candidate members in Pleiades.\n",
      "There are 2033 members in Pleiades with membership probability above 0.8.\n"
     ]
    }
   ],
   "source": [
    "coords = cross.columns.values[-2][8:]\n",
    "cross = pick_members_and_produce_k2_search_input(cross, sname, name,\n",
    "                                                 coords=coords,\n",
    "                                                 PMem_mean_threshold=pmem_threshold)"
   ]
  },
  {
   "cell_type": "markdown",
   "metadata": {},
   "source": [
    "Now go to [the K2 search mask](https://archive.stsci.edu/k2/data_search/search.php) and feed it the file you just saved.\n",
    "\n",
    "Take both long and short cadence, radius is 0.05 arcmin data. Sort by angular separation, then K2 ID, then Campaign. Display coordinates in degrees. Suppress null outputs (bottom left button).\n",
    "\n",
    "### Post K2 Search Cleaning"
   ]
  },
  {
   "cell_type": "code",
   "execution_count": 36,
   "metadata": {},
   "outputs": [],
   "source": [
    "merge_k2_info_and_protocol(cross, sname, coords)"
   ]
  },
  {
   "cell_type": "markdown",
   "metadata": {},
   "source": [
    "# PRAESEPE"
   ]
  },
  {
   "cell_type": "code",
   "execution_count": 37,
   "metadata": {
    "scrolled": true
   },
   "outputs": [
    {
     "name": "stderr",
     "output_type": "stream",
     "text": [
      "/projects/9dc5265b-65df-4b97-a75c-b93da4cee0c3/catalog_matching/catalog_matching.py:372: ParserWarning: Falling back to the 'python' engine because the 'c' engine does not support regex separators (separators > 1 char and different from '\\s+' are interpreted as regex); you can avoid this warning by specifying engine='python'.\n",
      "  df = pd.read_table(p,skiprows=r, usecols=row.usecols, delimiter=row['sep'])\n"
     ]
    }
   ],
   "source": [
    "#read in DataFrames with usecols\n",
    "name = 'Praesepe'\n",
    "sname = 'praesepe'\n",
    "tc = table_chars[table_chars.cluster == name]\n",
    "pathlist = cluster_dict[sname]\n",
    "cats = get_catalogs(tc, pathlist)\n",
    "\n",
    "cols = dict(zip(['CG', 'Douglas', 'Rebull', 'GaiaC'],\n",
    "                [[ra, dec, 'gaia_id', pmem],\n",
    "                 [ra, dec, pmem,binary],\n",
    "                 [ra, dec, \"EPIC_id\"],\n",
    "                 ['gaia_id', ra, dec],\n",
    "                 ]))\n",
    "\n",
    "renamed_catalogs = dict()"
   ]
  },
  {
   "cell_type": "code",
   "execution_count": 38,
   "metadata": {},
   "outputs": [],
   "source": [
    "# CG\n",
    "\n",
    "r = \"CG\"\n",
    "c0 = rename_columns(cats[r], r, cols[r])\n",
    "renamed_catalogs[r] = c0\n",
    "\n",
    "# Rebull\n",
    "\n",
    "r = \"Rebull\"\n",
    "c1 = rename_columns(cats[r], r, cols[r])\n",
    "c1[\"PMem_Rebull\"] = p_rebull\n",
    "renamed_catalogs[r] = c1\n",
    "\n",
    "# GaiaC\n",
    "\n",
    "r = \"GaiaC\"\n",
    "c2 = rename_columns(cats[r], r, cols[r])\n",
    "c2[\"PMem_GaiaC\"] = p_gaiac\n",
    "renamed_catalogs[r] = c2\n",
    "\n",
    "# Douglas\n",
    "\n",
    "r = \"Douglas\"\n",
    "c3 = rename_columns(cats[r], r, cols[r])\n",
    "c3.binary_Douglas = c3.binary_Douglas.map({\"N\":0,\"Y\":1})\n",
    "c3.PMem_Douglas = c3.PMem_Douglas.str.strip().replace(\"\",\"-999\").astype(float).replace(-999,np.nan) / 100\n",
    "renamed_catalogs[r] = c3"
   ]
  },
  {
   "cell_type": "code",
   "execution_count": 39,
   "metadata": {},
   "outputs": [],
   "source": [
    "cross = crossmatch_multiple_catalogs(renamed_catalogs, name, sname, **crossmatch_kwargs)"
   ]
  },
  {
   "cell_type": "code",
   "execution_count": 40,
   "metadata": {},
   "outputs": [],
   "source": [
    "cross.to_csv('{}{}_allmembers.csv'.format(out,sname),index=False)"
   ]
  },
  {
   "cell_type": "markdown",
   "metadata": {},
   "source": [
    "##### Pick out likely members, and write out RA, Dec file to match with K2"
   ]
  },
  {
   "cell_type": "code",
   "execution_count": 41,
   "metadata": {},
   "outputs": [
    {
     "name": "stdout",
     "output_type": "stream",
     "text": [
      "There are 1391 candidate members in Praesepe.\n",
      "There are 1281 members in Praesepe with membership probability above 0.8.\n"
     ]
    }
   ],
   "source": [
    "coords = cross.columns.values[-2][8:]\n",
    "cross = pick_members_and_produce_k2_search_input(cross, sname, name,\n",
    "                                                 coords=coords,\n",
    "                                                 PMem_mean_threshold=pmem_threshold)"
   ]
  },
  {
   "cell_type": "markdown",
   "metadata": {},
   "source": [
    "Now go to [the K2 search mask](https://archive.stsci.edu/k2/data_search/search.php) and feed it the file you just saved.\n",
    "\n",
    "Take only long cadence, radius is 0.05 arcmin data. Select all columns and only long cadence data. Sort by angular separation, then K2 ID, then Campaign. Need to shift first lines to the row after the header rows manually. Display coordinates in degrees. Suppress null outputs (bottom left button).\n",
    "\n",
    "### Post K2 Search Cleaning"
   ]
  },
  {
   "cell_type": "code",
   "execution_count": 42,
   "metadata": {},
   "outputs": [],
   "source": [
    "merge_k2_info_and_protocol(cross, sname, coords)"
   ]
  },
  {
   "cell_type": "code",
   "execution_count": 0,
   "metadata": {},
   "outputs": [],
   "source": []
  }
 ],
 "metadata": {
  "kernelspec": {
   "display_name": "altaipony",
   "language": "python",
   "name": "altaipony"
  },
  "language_info": {
   "codemirror_mode": {
    "name": "ipython",
    "version": 3
   },
   "file_extension": ".py",
   "mimetype": "text/x-python",
   "name": "python",
   "nbconvert_exporter": "python",
   "pygments_lexer": "ipython3",
   "version": "3.6.5"
  }
 },
 "nbformat": 4,
 "nbformat_minor": 1
}
