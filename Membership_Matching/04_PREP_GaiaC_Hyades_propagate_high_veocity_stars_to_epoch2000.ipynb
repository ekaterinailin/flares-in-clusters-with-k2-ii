{
 "cells": [
  {
   "cell_type": "code",
   "execution_count": 1,
   "metadata": {
    "collapsed": false
   },
   "outputs": [
   ],
   "source": [
    "import pandas as pd\n",
    "import numpy as np\n",
    "\n",
    "import matplotlib.pyplot as plt\n",
    "%matplotlib inline"
   ]
  },
  {
   "cell_type": "code",
   "execution_count": 2,
   "metadata": {
    "collapsed": false
   },
   "outputs": [
    {
     "data": {
      "text/html": [
       "<div>\n",
       "<style scoped>\n",
       "    .dataframe tbody tr th:only-of-type {\n",
       "        vertical-align: middle;\n",
       "    }\n",
       "\n",
       "    .dataframe tbody tr th {\n",
       "        vertical-align: top;\n",
       "    }\n",
       "\n",
       "    .dataframe thead th {\n",
       "        text-align: right;\n",
       "    }\n",
       "</style>\n",
       "<table border=\"1\" class=\"dataframe\">\n",
       "  <thead>\n",
       "    <tr style=\"text-align: right;\">\n",
       "      <th></th>\n",
       "      <th>_RAJ2000</th>\n",
       "      <th>_DEJ2000</th>\n",
       "      <th>Source</th>\n",
       "      <th>Cluster</th>\n",
       "      <th>RA_ICRS</th>\n",
       "      <th>DE_ICRS</th>\n",
       "      <th>Gmag</th>\n",
       "      <th>plx</th>\n",
       "      <th>e_plx</th>\n",
       "      <th>_RA.icrs</th>\n",
       "      <th>_DE.icrs</th>\n",
       "    </tr>\n",
       "  </thead>\n",
       "  <tbody>\n",
       "    <tr>\n",
       "      <th>0</th>\n",
       "      <td>64.87461</td>\n",
       "      <td>21.75372</td>\n",
       "      <td>49520255665123328</td>\n",
       "      <td>Hyades</td>\n",
       "      <td>64.87461</td>\n",
       "      <td>21.75372</td>\n",
       "      <td>12.861</td>\n",
       "      <td>20.866</td>\n",
       "      <td>0.033</td>\n",
       "      <td>64.87461</td>\n",
       "      <td>21.75372</td>\n",
       "    </tr>\n",
       "    <tr>\n",
       "      <th>1</th>\n",
       "      <td>60.20378</td>\n",
       "      <td>18.19388</td>\n",
       "      <td>49729231594420096</td>\n",
       "      <td>Hyades</td>\n",
       "      <td>60.20378</td>\n",
       "      <td>18.19388</td>\n",
       "      <td>5.790</td>\n",
       "      <td>21.789</td>\n",
       "      <td>0.045</td>\n",
       "      <td>60.20378</td>\n",
       "      <td>18.19388</td>\n",
       "    </tr>\n",
       "    <tr>\n",
       "      <th>2</th>\n",
       "      <td>59.80696</td>\n",
       "      <td>20.42805</td>\n",
       "      <td>51383893515451392</td>\n",
       "      <td>Hyades</td>\n",
       "      <td>59.80696</td>\n",
       "      <td>20.42805</td>\n",
       "      <td>12.570</td>\n",
       "      <td>22.737</td>\n",
       "      <td>0.006</td>\n",
       "      <td>59.80696</td>\n",
       "      <td>20.42805</td>\n",
       "    </tr>\n",
       "    <tr>\n",
       "      <th>3</th>\n",
       "      <td>66.06127</td>\n",
       "      <td>21.73605</td>\n",
       "      <td>145373377272257664</td>\n",
       "      <td>Hyades</td>\n",
       "      <td>66.06127</td>\n",
       "      <td>21.73605</td>\n",
       "      <td>6.990</td>\n",
       "      <td>23.109</td>\n",
       "      <td>0.003</td>\n",
       "      <td>66.06127</td>\n",
       "      <td>21.73605</td>\n",
       "    </tr>\n",
       "    <tr>\n",
       "      <th>4</th>\n",
       "      <td>67.00371</td>\n",
       "      <td>21.61972</td>\n",
       "      <td>145391484855481344</td>\n",
       "      <td>Hyades</td>\n",
       "      <td>67.00371</td>\n",
       "      <td>21.61972</td>\n",
       "      <td>5.643</td>\n",
       "      <td>19.968</td>\n",
       "      <td>0.067</td>\n",
       "      <td>67.00371</td>\n",
       "      <td>21.61972</td>\n",
       "    </tr>\n",
       "  </tbody>\n",
       "</table>\n",
       "</div>"
      ]
     },
     "execution_count": 2,
     "metadata": {
     },
     "output_type": "execute_result"
    }
   ],
   "source": [
    "df = pd.read_csv(\"downloads/clusters_GaiaC/hyades.tsv\",delimiter=\"\\t\", skiprows=52)\n",
    "df.head()"
   ]
  },
  {
   "cell_type": "code",
   "execution_count": 4,
   "metadata": {
    "collapsed": false
   },
   "outputs": [
   ],
   "source": [
    "# save the Gaia IDs to text \n",
    "df.Source.dropna().to_csv(\"downloads/clusters_GaiaC/gaiaidshyades_gaiac.txt\", index=False, header=True)"
   ]
  },
  {
   "cell_type": "markdown",
   "metadata": {
    "collapsed": false
   },
   "source": [
    "### You need to go to the Gaia archive and propagate epoch 2015.5 coordinates to epoch 2000\n",
    "\n",
    "Here is the ADQL query (modify `user_eilin`, and other details as needed):\n",
    "\n",
    "    SELECT source_id, \n",
    "           COORD1(EPOCH_PROP_POS(ra, dec, parallax, pmra, pmdec, radial_velocity, 2015.5, 2000)),\n",
    "           COORD2(EPOCH_PROP_POS(ra, dec, parallax, pmra, pmdec, radial_velocity, 2015.5, 2000)) \n",
    "    \n",
    "    FROM gaiadr2.gaia_source as g\n",
    "    \n",
    "    INNER JOIN user_eilin.gaiachyades2 AS ei\n",
    "    \n",
    "    ON (g.source_id = ei.gch)\n",
    "\n",
    "### After submitting the query, download results \n",
    "\n",
    "...as csv file to `\"downloads/clusters_GaiaC/hyades_gaiac_coords_propagated_to_epoch2000.csv\"`\n",
    "\n",
    "\n",
    "### Finally\n",
    "\n",
    "Merge new coordinates with Reino's table. \n",
    "\n",
    "Keep an eye on the `downloads/cluster_catalog_characteristics.csv` entry, update data format if needed (should be up to date)."
   ]
  },
  {
   "cell_type": "code",
   "execution_count": 5,
   "metadata": {
    "collapsed": false
   },
   "outputs": [
   ],
   "source": [
    "corrected = pd.read_csv(\"downloads/clusters_GaiaC/hyades_gaiac_coords_propagated_to_epoch2000.csv\")\n",
    "corrected = corrected.rename(index=str, columns={\"source_id\":\"Source\",\n",
    "                                                 \"coord1\":\"RAJ2000_epoch2000\",\n",
    "                                                 \"coord2\":\"DEJ2000_epoch2000\"})\n",
    "newdf = df.merge(corrected, on=\"Source\")"
   ]
  },
  {
   "cell_type": "code",
   "execution_count": 6,
   "metadata": {
    "collapsed": false
   },
   "outputs": [
   ],
   "source": [
    "newdf.to_csv(\"downloads/clusters_GaiaC/hyades_corr.csv\", index=False)"
   ]
  },
  {
   "cell_type": "code",
   "execution_count": 0,
   "metadata": {
    "collapsed": false
   },
   "outputs": [
   ],
   "source": [
   ]
  }
 ],
 "metadata": {
  "kernelspec": {
   "display_name": "Anaconda(Py3.5)",
   "language": "python",
   "name": "py35"
  },
  "language_info": {
   "codemirror_mode": {
    "name": "ipython",
    "version": 3
   },
   "file_extension": ".py",
   "mimetype": "text/x-python",
   "name": "python",
   "nbconvert_exporter": "python",
   "pygments_lexer": "ipython3",
   "version": "3.5.4"
  }
 },
 "nbformat": 4,
 "nbformat_minor": 0
}